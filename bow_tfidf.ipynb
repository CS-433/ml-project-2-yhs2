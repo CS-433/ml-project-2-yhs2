{
 "cells": [
  {
   "cell_type": "code",
   "execution_count": 1,
   "id": "c2fd367c-93cc-4296-a39d-e8fe200395cf",
   "metadata": {},
   "outputs": [],
   "source": [
    "from sklearn.feature_extraction.text import CountVectorizer\n",
    "from sklearn.feature_extraction.text import TfidfVectorizer\n",
    "import pandas as pd"
   ]
  },
  {
   "cell_type": "code",
   "execution_count": 2,
   "id": "b4ea9bf0-b9f4-462e-bc65-29fd7947abab",
   "metadata": {},
   "outputs": [],
   "source": [
    "def read_lines(file_path):\n",
    "    with open(file_path, 'r') as f:\n",
    "        lines = f.readlines()\n",
    "    return lines"
   ]
  },
  {
   "cell_type": "code",
   "execution_count": 3,
   "id": "7b657726-601f-4667-a19a-e257f481e505",
   "metadata": {},
   "outputs": [],
   "source": [
    "da_pos = read_lines('Data/twitter-datasets/train_pos_full.txt')\n",
    "da_neg = read_lines('Data/twitter-datasets/train_neg_full.txt')\n",
    "\n",
    "df_train_pos = pd.DataFrame({\"sentence1\": da_pos, \"label\": \"1\"})\n",
    "df_train_neg = pd.DataFrame({\"sentence1\": da_neg, \"label\": \"-1\"})\n",
    "\n",
    "df_train = pd.concat([df_train_pos, df_train_neg], ignore_index=True)\n",
    "\n",
    "df_val = df_train.sample(frac=0.2, random_state=42)\n",
    "df_train = df_train.drop(df_val.index)\n",
    "df_train = df_train.reset_index(drop=True)\n",
    "df_val = df_val.reset_index(drop=True)\n",
    "df_train = df_train.sample(frac=1, random_state=42).reset_index(drop=True)\n",
    "df_train[\"id\"] = df_train.index\n",
    "df_val[\"id\"] = df_val.index"
   ]
  },
  {
   "cell_type": "code",
   "execution_count": 4,
   "id": "18196a56-01d9-42f3-a5b9-69c5642cb080",
   "metadata": {},
   "outputs": [],
   "source": [
    "train_sentences = df_train['sentence1'].tolist()\n",
    "test_sentences = df_val['sentence1'].tolist()\n",
    "y_train = df_train['label'].values\n",
    "y_test = df_val['label'].values"
   ]
  },
  {
   "cell_type": "code",
   "execution_count": 5,
   "id": "e699db51-4e8c-4f7d-88fd-f0c7de9eaad4",
   "metadata": {},
   "outputs": [],
   "source": [
    "vectorizer = CountVectorizer()"
   ]
  },
  {
   "cell_type": "code",
   "execution_count": 6,
   "id": "1fd61396-e687-4836-a11f-2871bc727988",
   "metadata": {},
   "outputs": [],
   "source": [
    "X_train = vectorizer.fit_transform(train_sentences)\n",
    "X_test = vectorizer.transform(test_sentences)"
   ]
  },
  {
   "cell_type": "code",
   "execution_count": 7,
   "id": "6b53f862-cfd0-4c51-8f8e-ac98d72ddd30",
   "metadata": {},
   "outputs": [],
   "source": [
    "from sklearn.ensemble import RandomForestClassifier"
   ]
  },
  {
   "cell_type": "code",
   "execution_count": null,
   "id": "be4ca4e1-b5e4-41f0-91a5-ec133c6cfdfd",
   "metadata": {},
   "outputs": [],
   "source": [
    "clf = RandomForestClassifier(n_jobs=-1)\n",
    "clf.fit(X_train, y_train)"
   ]
  },
  {
   "cell_type": "code",
   "execution_count": null,
   "id": "300594e5-ed0c-442b-964c-cf3d5ffe74e6",
   "metadata": {},
   "outputs": [],
   "source": [
    "from sklearn.metrics import accuracy_score"
   ]
  },
  {
   "cell_type": "code",
   "execution_count": null,
   "id": "26e88f2e-a877-4e1a-ac89-633fc692db3a",
   "metadata": {},
   "outputs": [],
   "source": [
    "accuracy_score(y_test, clf.predict(X_test))"
   ]
  },
  {
   "cell_type": "code",
   "execution_count": null,
   "id": "4e2ffdc3-c1b6-45e6-a7f2-bf30e4d8dc11",
   "metadata": {},
   "outputs": [],
   "source": [
    "accuracy_score(y_train, clf.predict(X_train))"
   ]
  },
  {
   "cell_type": "code",
   "execution_count": null,
   "id": "5b036812-be24-4c5d-9a4a-3e06b003aeb9",
   "metadata": {},
   "outputs": [],
   "source": [
    "da_test = read_lines('Data/test_data.txt')\n",
    "df_test = pd.DataFrame({\"sentence1\": da_test})"
   ]
  },
  {
   "cell_type": "code",
   "execution_count": null,
   "id": "2e1ad6a1-410c-484e-9384-736192afa8f0",
   "metadata": {},
   "outputs": [],
   "source": [
    "test = df_test['sentence1'].tolist()"
   ]
  },
  {
   "cell_type": "code",
   "execution_count": null,
   "id": "d481475b-70a8-4cad-adad-15aa9e3b7b8d",
   "metadata": {},
   "outputs": [],
   "source": [
    "test = vectorizer.transform(test)"
   ]
  },
  {
   "cell_type": "code",
   "execution_count": null,
   "id": "f1ac6199-7cd9-4772-8766-592f82945f19",
   "metadata": {},
   "outputs": [],
   "source": [
    "prediction = clf.predict(test)"
   ]
  },
  {
   "cell_type": "code",
   "execution_count": null,
   "id": "f5153968-64de-439e-bd12-1dd808d549cb",
   "metadata": {},
   "outputs": [],
   "source": [
    "submission = pd.DataFrame({\n",
    "    'Id': range(1, len(prediction) + 1),\n",
    "    'Prediction': prediction\n",
    "})\n",
    "submission.to_csv('prediction.csv', index=False)"
   ]
  }
 ],
 "metadata": {
  "kernelspec": {
   "display_name": "Python 3 (ipykernel)",
   "language": "python",
   "name": "python3"
  },
  "language_info": {
   "codemirror_mode": {
    "name": "ipython",
    "version": 3
   },
   "file_extension": ".py",
   "mimetype": "text/x-python",
   "name": "python",
   "nbconvert_exporter": "python",
   "pygments_lexer": "ipython3",
   "version": "3.11.10"
  }
 },
 "nbformat": 4,
 "nbformat_minor": 5
}
