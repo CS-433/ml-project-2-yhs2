{
 "cells": [
  {
   "cell_type": "code",
   "execution_count": 1,
   "metadata": {},
   "outputs": [],
   "source": [
    "import pandas as pd\n",
    "import wandb\n",
    "import pprint\n",
    "from sklearn.feature_extraction.text import CountVectorizer\n",
    "from sklearn.feature_extraction.text import TfidfVectorizer\n",
    "from sklearn.ensemble import RandomForestClassifier\n",
    "from sklearn.metrics import accuracy_score"
   ]
  },
  {
   "cell_type": "code",
   "execution_count": 2,
   "metadata": {},
   "outputs": [
    {
     "name": "stderr",
     "output_type": "stream",
     "text": [
      "\u001b[34m\u001b[1mwandb\u001b[0m: Using wandb-core as the SDK backend.  Please refer to https://wandb.me/wandb-core for more information.\n",
      "\u001b[34m\u001b[1mwandb\u001b[0m: Currently logged in as: \u001b[33mcr7_reunited\u001b[0m (\u001b[33mcr7_reunited-cr7\u001b[0m). Use \u001b[1m`wandb login --relogin`\u001b[0m to force relogin\n"
     ]
    },
    {
     "data": {
      "text/html": [
       "Tracking run with wandb version 0.19.0"
      ],
      "text/plain": [
       "<IPython.core.display.HTML object>"
      ]
     },
     "metadata": {},
     "output_type": "display_data"
    },
    {
     "data": {
      "text/html": [
       "Run data is saved locally in <code>/home/parkmyungheon/Desktop/Work/CS-433/ml-project-2-yhs2/wandb/run-20241214_013317-uvh9zjrw</code>"
      ],
      "text/plain": [
       "<IPython.core.display.HTML object>"
      ]
     },
     "metadata": {},
     "output_type": "display_data"
    },
    {
     "data": {
      "text/html": [
       "Syncing run <strong><a href='https://wandb.ai/cr7_reunited-cr7/epfl_ml_project2/runs/uvh9zjrw' target=\"_blank\">load_tweet_dataset_1</a></strong> to <a href='https://wandb.ai/cr7_reunited-cr7/epfl_ml_project2' target=\"_blank\">Weights & Biases</a> (<a href='https://wandb.me/developer-guide' target=\"_blank\">docs</a>)<br/>"
      ],
      "text/plain": [
       "<IPython.core.display.HTML object>"
      ]
     },
     "metadata": {},
     "output_type": "display_data"
    },
    {
     "data": {
      "text/html": [
       " View project at <a href='https://wandb.ai/cr7_reunited-cr7/epfl_ml_project2' target=\"_blank\">https://wandb.ai/cr7_reunited-cr7/epfl_ml_project2</a>"
      ],
      "text/plain": [
       "<IPython.core.display.HTML object>"
      ]
     },
     "metadata": {},
     "output_type": "display_data"
    },
    {
     "data": {
      "text/html": [
       " View run at <a href='https://wandb.ai/cr7_reunited-cr7/epfl_ml_project2/runs/uvh9zjrw' target=\"_blank\">https://wandb.ai/cr7_reunited-cr7/epfl_ml_project2/runs/uvh9zjrw</a>"
      ],
      "text/plain": [
       "<IPython.core.display.HTML object>"
      ]
     },
     "metadata": {},
     "output_type": "display_data"
    },
    {
     "name": "stderr",
     "output_type": "stream",
     "text": [
      "\u001b[34m\u001b[1mwandb\u001b[0m:   3 of 3 files downloaded.  \n"
     ]
    },
    {
     "data": {
      "text/html": [
       " View run <strong style=\"color:#cdcd00\">load_tweet_dataset_1</strong> at: <a href='https://wandb.ai/cr7_reunited-cr7/epfl_ml_project2/runs/uvh9zjrw' target=\"_blank\">https://wandb.ai/cr7_reunited-cr7/epfl_ml_project2/runs/uvh9zjrw</a><br/> View project at: <a href='https://wandb.ai/cr7_reunited-cr7/epfl_ml_project2' target=\"_blank\">https://wandb.ai/cr7_reunited-cr7/epfl_ml_project2</a><br/>Synced 5 W&B file(s), 0 media file(s), 0 artifact file(s) and 0 other file(s)"
      ],
      "text/plain": [
       "<IPython.core.display.HTML object>"
      ]
     },
     "metadata": {},
     "output_type": "display_data"
    },
    {
     "data": {
      "text/html": [
       "Find logs at: <code>./wandb/run-20241214_013317-uvh9zjrw/logs</code>"
      ],
      "text/plain": [
       "<IPython.core.display.HTML object>"
      ]
     },
     "metadata": {},
     "output_type": "display_data"
    }
   ],
   "source": [
    "wandb.init(name='load_tweet_dataset_1',\n",
    "                 project='epfl_ml_project2', \n",
    "                 tags=['load_dataset'],\n",
    "                 job_type='for_testing')\n",
    "artifact = wandb.use_artifact('hsunyu/epfl_ml_project2/twitter_dataset_1:v0')\n",
    "artifact_dir = artifact.download()\n",
    "wandb.finish()"
   ]
  },
  {
   "cell_type": "code",
   "execution_count": 3,
   "metadata": {},
   "outputs": [
    {
     "data": {
      "text/plain": [
       "True"
      ]
     },
     "execution_count": 3,
     "metadata": {},
     "output_type": "execute_result"
    }
   ],
   "source": [
    "wandb.login()"
   ]
  },
  {
   "cell_type": "code",
   "execution_count": 4,
   "metadata": {},
   "outputs": [],
   "source": [
    "# load it into a pandas dataframe\n",
    "train_df = pd.read_json(artifact_dir + '/train.json', lines=True)\n",
    "val_df = pd.read_json(artifact_dir + '/val.json', lines=True)\n",
    "test_df = pd.read_json(artifact_dir + '/test.json', lines=True)"
   ]
  },
  {
   "cell_type": "code",
   "execution_count": 5,
   "metadata": {},
   "outputs": [],
   "source": [
    "sweep_config = {\n",
    "    'method': 'grid'\n",
    "}\n",
    "\n",
    "metric = {\n",
    "    'name': 'val_accuracy',\n",
    "    'goal': 'maximize'\n",
    "}\n",
    "\n",
    "parameters_dict = {\n",
    "    'dataset': {\n",
    "        'values': ['bow', 'tfidf']\n",
    "    },\n",
    "    'n_estimators': {\n",
    "        'values': [1, 10, 50, 100, 250, 500]\n",
    "    },\n",
    "    'criterion': {\n",
    "        'values': ['gini', 'entropy', 'log_loss']\n",
    "    },\n",
    "    'max_depth': {\n",
    "        'values': [10, 20, 30, 50, 100]\n",
    "    },\n",
    "    'min_samples_leaf': {\n",
    "        'values': [1, 2, 4, 10]\n",
    "    }\n",
    "}\n",
    "\n",
    "sweep_config['metric'] = metric\n",
    "sweep_config['parameters'] = parameters_dict"
   ]
  },
  {
   "cell_type": "code",
   "execution_count": 6,
   "metadata": {},
   "outputs": [
    {
     "name": "stdout",
     "output_type": "stream",
     "text": [
      "{'method': 'grid',\n",
      " 'metric': {'goal': 'maximize', 'name': 'val_accuracy'},\n",
      " 'parameters': {'criterion': {'values': ['gini', 'entropy', 'log_loss']},\n",
      "                'dataset': {'values': ['bow', 'tfidf']},\n",
      "                'max_depth': {'values': [10, 20, 30, 50, 100]},\n",
      "                'min_samples_leaf': {'values': [1, 2, 4, 10]},\n",
      "                'n_estimators': {'values': [1, 10, 50, 100, 250, 500]}}}\n"
     ]
    }
   ],
   "source": [
    "pprint.pprint(sweep_config)"
   ]
  },
  {
   "cell_type": "code",
   "execution_count": 7,
   "metadata": {},
   "outputs": [
    {
     "name": "stdout",
     "output_type": "stream",
     "text": [
      "Create sweep with ID: gy700h45\n",
      "Sweep URL: https://wandb.ai/cr7_reunited-cr7/epfl_ml_project2/sweeps/gy700h45\n"
     ]
    }
   ],
   "source": [
    "sweep_id = wandb.sweep(sweep_config, project='epfl_ml_project2')"
   ]
  },
  {
   "cell_type": "code",
   "execution_count": 8,
   "metadata": {},
   "outputs": [],
   "source": [
    "bow = CountVectorizer()\n",
    "tfidf = TfidfVectorizer()"
   ]
  },
  {
   "cell_type": "code",
   "execution_count": 9,
   "metadata": {},
   "outputs": [],
   "source": [
    "train_sentences = train_df['sentence1'].tolist()\n",
    "val_sentences = val_df['sentence1'].tolist()"
   ]
  },
  {
   "cell_type": "code",
   "execution_count": 10,
   "metadata": {},
   "outputs": [],
   "source": [
    "y_train = train_df['label'].values\n",
    "y_val = val_df['label'].values"
   ]
  },
  {
   "cell_type": "code",
   "execution_count": 11,
   "metadata": {},
   "outputs": [],
   "source": [
    "X_train_bow = bow.fit_transform(train_sentences)\n",
    "X_val_bow = bow.transform(val_sentences)"
   ]
  },
  {
   "cell_type": "code",
   "execution_count": 12,
   "metadata": {},
   "outputs": [],
   "source": [
    "X_train_tfidf = tfidf.fit_transform(train_sentences)\n",
    "X_val_tfidf = tfidf.transform(val_sentences)"
   ]
  },
  {
   "cell_type": "code",
   "execution_count": 13,
   "metadata": {},
   "outputs": [],
   "source": [
    "def return_dataset(dataset):\n",
    "    if dataset == 'bow':\n",
    "        return X_train_bow, X_val_bow, y_train, y_val\n",
    "    return X_train_tfidf, X_val_tfidf, y_train, y_val"
   ]
  },
  {
   "cell_type": "code",
   "execution_count": 14,
   "metadata": {},
   "outputs": [],
   "source": [
    "def train(config=None):\n",
    "    with wandb.init(config=config):\n",
    "        config = wandb.config\n",
    "        X_train, X_val, y_train, y_val = return_dataset(config.dataset)\n",
    "        clf = RandomForestClassifier(n_estimators=config.n_estimators, criterion=config.criterion, max_depth=config.max_depth, n_jobs=-1, random_state=599131614)\n",
    "        clf.fit(X_train, y_train)\n",
    "        wandb.log({'train_accuracy': accuracy_score(y_train, clf.predict(X_train)), 'val_accuracy': accuracy_score(y_val, clf.predict(X_val))})"
   ]
  },
  {
   "cell_type": "code",
   "execution_count": 15,
   "metadata": {},
   "outputs": [
    {
     "name": "stderr",
     "output_type": "stream",
     "text": [
      "\u001b[34m\u001b[1mwandb\u001b[0m: Agent Starting Run: rf48ho0y with config:\n",
      "\u001b[34m\u001b[1mwandb\u001b[0m: \tcriterion: gini\n",
      "\u001b[34m\u001b[1mwandb\u001b[0m: \tdataset: bow\n",
      "\u001b[34m\u001b[1mwandb\u001b[0m: \tmax_depth: 10\n",
      "\u001b[34m\u001b[1mwandb\u001b[0m: \tmin_samples_leaf: 1\n",
      "\u001b[34m\u001b[1mwandb\u001b[0m: \tn_estimators: 1\n"
     ]
    },
    {
     "data": {
      "text/html": [
       "Tracking run with wandb version 0.19.0"
      ],
      "text/plain": [
       "<IPython.core.display.HTML object>"
      ]
     },
     "metadata": {},
     "output_type": "display_data"
    },
    {
     "data": {
      "text/html": [
       "Run data is saved locally in <code>/home/parkmyungheon/Desktop/Work/CS-433/ml-project-2-yhs2/wandb/run-20241214_013326-rf48ho0y</code>"
      ],
      "text/plain": [
       "<IPython.core.display.HTML object>"
      ]
     },
     "metadata": {},
     "output_type": "display_data"
    },
    {
     "data": {
      "text/html": [
       "Syncing run <strong><a href='https://wandb.ai/cr7_reunited-cr7/epfl_ml_project2/runs/rf48ho0y' target=\"_blank\">sweepy-sweep-1</a></strong> to <a href='https://wandb.ai/cr7_reunited-cr7/epfl_ml_project2' target=\"_blank\">Weights & Biases</a> (<a href='https://wandb.me/developer-guide' target=\"_blank\">docs</a>)<br/>Sweep page: <a href='https://wandb.ai/cr7_reunited-cr7/epfl_ml_project2/sweeps/gy700h45' target=\"_blank\">https://wandb.ai/cr7_reunited-cr7/epfl_ml_project2/sweeps/gy700h45</a>"
      ],
      "text/plain": [
       "<IPython.core.display.HTML object>"
      ]
     },
     "metadata": {},
     "output_type": "display_data"
    },
    {
     "data": {
      "text/html": [
       " View project at <a href='https://wandb.ai/cr7_reunited-cr7/epfl_ml_project2' target=\"_blank\">https://wandb.ai/cr7_reunited-cr7/epfl_ml_project2</a>"
      ],
      "text/plain": [
       "<IPython.core.display.HTML object>"
      ]
     },
     "metadata": {},
     "output_type": "display_data"
    },
    {
     "data": {
      "text/html": [
       " View sweep at <a href='https://wandb.ai/cr7_reunited-cr7/epfl_ml_project2/sweeps/gy700h45' target=\"_blank\">https://wandb.ai/cr7_reunited-cr7/epfl_ml_project2/sweeps/gy700h45</a>"
      ],
      "text/plain": [
       "<IPython.core.display.HTML object>"
      ]
     },
     "metadata": {},
     "output_type": "display_data"
    },
    {
     "data": {
      "text/html": [
       " View run at <a href='https://wandb.ai/cr7_reunited-cr7/epfl_ml_project2/runs/rf48ho0y' target=\"_blank\">https://wandb.ai/cr7_reunited-cr7/epfl_ml_project2/runs/rf48ho0y</a>"
      ],
      "text/plain": [
       "<IPython.core.display.HTML object>"
      ]
     },
     "metadata": {},
     "output_type": "display_data"
    },
    {
     "data": {
      "text/html": [
       "\n",
       "    <style>\n",
       "        .wandb-row {\n",
       "            display: flex;\n",
       "            flex-direction: row;\n",
       "            flex-wrap: wrap;\n",
       "            justify-content: flex-start;\n",
       "            width: 100%;\n",
       "        }\n",
       "        .wandb-col {\n",
       "            display: flex;\n",
       "            flex-direction: column;\n",
       "            flex-basis: 100%;\n",
       "            flex: 1;\n",
       "            padding: 10px;\n",
       "        }\n",
       "    </style>\n",
       "<div class=\"wandb-row\"><div class=\"wandb-col\"><h3>Run history:</h3><br/><table class=\"wandb\"><tr><td>train_accuracy</td><td>▁</td></tr><tr><td>val_accuracy</td><td>▁</td></tr></table><br/></div><div class=\"wandb-col\"><h3>Run summary:</h3><br/><table class=\"wandb\"><tr><td>train_accuracy</td><td>0.52558</td></tr><tr><td>val_accuracy</td><td>0.5271</td></tr></table><br/></div></div>"
      ],
      "text/plain": [
       "<IPython.core.display.HTML object>"
      ]
     },
     "metadata": {},
     "output_type": "display_data"
    },
    {
     "data": {
      "text/html": [
       " View run <strong style=\"color:#cdcd00\">sweepy-sweep-1</strong> at: <a href='https://wandb.ai/cr7_reunited-cr7/epfl_ml_project2/runs/rf48ho0y' target=\"_blank\">https://wandb.ai/cr7_reunited-cr7/epfl_ml_project2/runs/rf48ho0y</a><br/> View project at: <a href='https://wandb.ai/cr7_reunited-cr7/epfl_ml_project2' target=\"_blank\">https://wandb.ai/cr7_reunited-cr7/epfl_ml_project2</a><br/>Synced 5 W&B file(s), 0 media file(s), 0 artifact file(s) and 0 other file(s)"
      ],
      "text/plain": [
       "<IPython.core.display.HTML object>"
      ]
     },
     "metadata": {},
     "output_type": "display_data"
    },
    {
     "data": {
      "text/html": [
       "Find logs at: <code>./wandb/run-20241214_013326-rf48ho0y/logs</code>"
      ],
      "text/plain": [
       "<IPython.core.display.HTML object>"
      ]
     },
     "metadata": {},
     "output_type": "display_data"
    },
    {
     "name": "stderr",
     "output_type": "stream",
     "text": [
      "\u001b[34m\u001b[1mwandb\u001b[0m: Agent Starting Run: rk59l2ov with config:\n",
      "\u001b[34m\u001b[1mwandb\u001b[0m: \tcriterion: gini\n",
      "\u001b[34m\u001b[1mwandb\u001b[0m: \tdataset: bow\n",
      "\u001b[34m\u001b[1mwandb\u001b[0m: \tmax_depth: 10\n",
      "\u001b[34m\u001b[1mwandb\u001b[0m: \tmin_samples_leaf: 1\n",
      "\u001b[34m\u001b[1mwandb\u001b[0m: \tn_estimators: 10\n"
     ]
    },
    {
     "data": {
      "text/html": [
       "Tracking run with wandb version 0.19.0"
      ],
      "text/plain": [
       "<IPython.core.display.HTML object>"
      ]
     },
     "metadata": {},
     "output_type": "display_data"
    },
    {
     "data": {
      "text/html": [
       "Run data is saved locally in <code>/home/parkmyungheon/Desktop/Work/CS-433/ml-project-2-yhs2/wandb/run-20241214_013331-rk59l2ov</code>"
      ],
      "text/plain": [
       "<IPython.core.display.HTML object>"
      ]
     },
     "metadata": {},
     "output_type": "display_data"
    },
    {
     "data": {
      "text/html": [
       "Syncing run <strong><a href='https://wandb.ai/cr7_reunited-cr7/epfl_ml_project2/runs/rk59l2ov' target=\"_blank\">snowy-sweep-2</a></strong> to <a href='https://wandb.ai/cr7_reunited-cr7/epfl_ml_project2' target=\"_blank\">Weights & Biases</a> (<a href='https://wandb.me/developer-guide' target=\"_blank\">docs</a>)<br/>Sweep page: <a href='https://wandb.ai/cr7_reunited-cr7/epfl_ml_project2/sweeps/gy700h45' target=\"_blank\">https://wandb.ai/cr7_reunited-cr7/epfl_ml_project2/sweeps/gy700h45</a>"
      ],
      "text/plain": [
       "<IPython.core.display.HTML object>"
      ]
     },
     "metadata": {},
     "output_type": "display_data"
    },
    {
     "data": {
      "text/html": [
       " View project at <a href='https://wandb.ai/cr7_reunited-cr7/epfl_ml_project2' target=\"_blank\">https://wandb.ai/cr7_reunited-cr7/epfl_ml_project2</a>"
      ],
      "text/plain": [
       "<IPython.core.display.HTML object>"
      ]
     },
     "metadata": {},
     "output_type": "display_data"
    },
    {
     "data": {
      "text/html": [
       " View sweep at <a href='https://wandb.ai/cr7_reunited-cr7/epfl_ml_project2/sweeps/gy700h45' target=\"_blank\">https://wandb.ai/cr7_reunited-cr7/epfl_ml_project2/sweeps/gy700h45</a>"
      ],
      "text/plain": [
       "<IPython.core.display.HTML object>"
      ]
     },
     "metadata": {},
     "output_type": "display_data"
    },
    {
     "data": {
      "text/html": [
       " View run at <a href='https://wandb.ai/cr7_reunited-cr7/epfl_ml_project2/runs/rk59l2ov' target=\"_blank\">https://wandb.ai/cr7_reunited-cr7/epfl_ml_project2/runs/rk59l2ov</a>"
      ],
      "text/plain": [
       "<IPython.core.display.HTML object>"
      ]
     },
     "metadata": {},
     "output_type": "display_data"
    },
    {
     "data": {
      "text/html": [
       "\n",
       "    <style>\n",
       "        .wandb-row {\n",
       "            display: flex;\n",
       "            flex-direction: row;\n",
       "            flex-wrap: wrap;\n",
       "            justify-content: flex-start;\n",
       "            width: 100%;\n",
       "        }\n",
       "        .wandb-col {\n",
       "            display: flex;\n",
       "            flex-direction: column;\n",
       "            flex-basis: 100%;\n",
       "            flex: 1;\n",
       "            padding: 10px;\n",
       "        }\n",
       "    </style>\n",
       "<div class=\"wandb-row\"><div class=\"wandb-col\"><h3>Run history:</h3><br/><table class=\"wandb\"><tr><td>train_accuracy</td><td>▁</td></tr><tr><td>val_accuracy</td><td>▁</td></tr></table><br/></div><div class=\"wandb-col\"><h3>Run summary:</h3><br/><table class=\"wandb\"><tr><td>train_accuracy</td><td>0.62989</td></tr><tr><td>val_accuracy</td><td>0.6254</td></tr></table><br/></div></div>"
      ],
      "text/plain": [
       "<IPython.core.display.HTML object>"
      ]
     },
     "metadata": {},
     "output_type": "display_data"
    },
    {
     "data": {
      "text/html": [
       " View run <strong style=\"color:#cdcd00\">snowy-sweep-2</strong> at: <a href='https://wandb.ai/cr7_reunited-cr7/epfl_ml_project2/runs/rk59l2ov' target=\"_blank\">https://wandb.ai/cr7_reunited-cr7/epfl_ml_project2/runs/rk59l2ov</a><br/> View project at: <a href='https://wandb.ai/cr7_reunited-cr7/epfl_ml_project2' target=\"_blank\">https://wandb.ai/cr7_reunited-cr7/epfl_ml_project2</a><br/>Synced 5 W&B file(s), 0 media file(s), 0 artifact file(s) and 0 other file(s)"
      ],
      "text/plain": [
       "<IPython.core.display.HTML object>"
      ]
     },
     "metadata": {},
     "output_type": "display_data"
    },
    {
     "data": {
      "text/html": [
       "Find logs at: <code>./wandb/run-20241214_013331-rk59l2ov/logs</code>"
      ],
      "text/plain": [
       "<IPython.core.display.HTML object>"
      ]
     },
     "metadata": {},
     "output_type": "display_data"
    },
    {
     "name": "stderr",
     "output_type": "stream",
     "text": [
      "\u001b[34m\u001b[1mwandb\u001b[0m: Agent Starting Run: rcxhr4uy with config:\n",
      "\u001b[34m\u001b[1mwandb\u001b[0m: \tcriterion: gini\n",
      "\u001b[34m\u001b[1mwandb\u001b[0m: \tdataset: bow\n",
      "\u001b[34m\u001b[1mwandb\u001b[0m: \tmax_depth: 10\n",
      "\u001b[34m\u001b[1mwandb\u001b[0m: \tmin_samples_leaf: 1\n",
      "\u001b[34m\u001b[1mwandb\u001b[0m: \tn_estimators: 50\n"
     ]
    },
    {
     "data": {
      "text/html": [
       "Tracking run with wandb version 0.19.0"
      ],
      "text/plain": [
       "<IPython.core.display.HTML object>"
      ]
     },
     "metadata": {},
     "output_type": "display_data"
    },
    {
     "data": {
      "text/html": [
       "Run data is saved locally in <code>/home/parkmyungheon/Desktop/Work/CS-433/ml-project-2-yhs2/wandb/run-20241214_013336-rcxhr4uy</code>"
      ],
      "text/plain": [
       "<IPython.core.display.HTML object>"
      ]
     },
     "metadata": {},
     "output_type": "display_data"
    },
    {
     "data": {
      "text/html": [
       "Syncing run <strong><a href='https://wandb.ai/cr7_reunited-cr7/epfl_ml_project2/runs/rcxhr4uy' target=\"_blank\">light-sweep-3</a></strong> to <a href='https://wandb.ai/cr7_reunited-cr7/epfl_ml_project2' target=\"_blank\">Weights & Biases</a> (<a href='https://wandb.me/developer-guide' target=\"_blank\">docs</a>)<br/>Sweep page: <a href='https://wandb.ai/cr7_reunited-cr7/epfl_ml_project2/sweeps/gy700h45' target=\"_blank\">https://wandb.ai/cr7_reunited-cr7/epfl_ml_project2/sweeps/gy700h45</a>"
      ],
      "text/plain": [
       "<IPython.core.display.HTML object>"
      ]
     },
     "metadata": {},
     "output_type": "display_data"
    },
    {
     "data": {
      "text/html": [
       " View project at <a href='https://wandb.ai/cr7_reunited-cr7/epfl_ml_project2' target=\"_blank\">https://wandb.ai/cr7_reunited-cr7/epfl_ml_project2</a>"
      ],
      "text/plain": [
       "<IPython.core.display.HTML object>"
      ]
     },
     "metadata": {},
     "output_type": "display_data"
    },
    {
     "data": {
      "text/html": [
       " View sweep at <a href='https://wandb.ai/cr7_reunited-cr7/epfl_ml_project2/sweeps/gy700h45' target=\"_blank\">https://wandb.ai/cr7_reunited-cr7/epfl_ml_project2/sweeps/gy700h45</a>"
      ],
      "text/plain": [
       "<IPython.core.display.HTML object>"
      ]
     },
     "metadata": {},
     "output_type": "display_data"
    },
    {
     "data": {
      "text/html": [
       " View run at <a href='https://wandb.ai/cr7_reunited-cr7/epfl_ml_project2/runs/rcxhr4uy' target=\"_blank\">https://wandb.ai/cr7_reunited-cr7/epfl_ml_project2/runs/rcxhr4uy</a>"
      ],
      "text/plain": [
       "<IPython.core.display.HTML object>"
      ]
     },
     "metadata": {},
     "output_type": "display_data"
    },
    {
     "data": {
      "text/html": [
       "\n",
       "    <style>\n",
       "        .wandb-row {\n",
       "            display: flex;\n",
       "            flex-direction: row;\n",
       "            flex-wrap: wrap;\n",
       "            justify-content: flex-start;\n",
       "            width: 100%;\n",
       "        }\n",
       "        .wandb-col {\n",
       "            display: flex;\n",
       "            flex-direction: column;\n",
       "            flex-basis: 100%;\n",
       "            flex: 1;\n",
       "            padding: 10px;\n",
       "        }\n",
       "    </style>\n",
       "<div class=\"wandb-row\"><div class=\"wandb-col\"><h3>Run history:</h3><br/><table class=\"wandb\"><tr><td>train_accuracy</td><td>▁</td></tr><tr><td>val_accuracy</td><td>▁</td></tr></table><br/></div><div class=\"wandb-col\"><h3>Run summary:</h3><br/><table class=\"wandb\"><tr><td>train_accuracy</td><td>0.71464</td></tr><tr><td>val_accuracy</td><td>0.70305</td></tr></table><br/></div></div>"
      ],
      "text/plain": [
       "<IPython.core.display.HTML object>"
      ]
     },
     "metadata": {},
     "output_type": "display_data"
    },
    {
     "data": {
      "text/html": [
       " View run <strong style=\"color:#cdcd00\">light-sweep-3</strong> at: <a href='https://wandb.ai/cr7_reunited-cr7/epfl_ml_project2/runs/rcxhr4uy' target=\"_blank\">https://wandb.ai/cr7_reunited-cr7/epfl_ml_project2/runs/rcxhr4uy</a><br/> View project at: <a href='https://wandb.ai/cr7_reunited-cr7/epfl_ml_project2' target=\"_blank\">https://wandb.ai/cr7_reunited-cr7/epfl_ml_project2</a><br/>Synced 5 W&B file(s), 0 media file(s), 0 artifact file(s) and 0 other file(s)"
      ],
      "text/plain": [
       "<IPython.core.display.HTML object>"
      ]
     },
     "metadata": {},
     "output_type": "display_data"
    },
    {
     "data": {
      "text/html": [
       "Find logs at: <code>./wandb/run-20241214_013336-rcxhr4uy/logs</code>"
      ],
      "text/plain": [
       "<IPython.core.display.HTML object>"
      ]
     },
     "metadata": {},
     "output_type": "display_data"
    },
    {
     "name": "stderr",
     "output_type": "stream",
     "text": [
      "\u001b[34m\u001b[1mwandb\u001b[0m: Agent Starting Run: q8d3b581 with config:\n",
      "\u001b[34m\u001b[1mwandb\u001b[0m: \tcriterion: gini\n",
      "\u001b[34m\u001b[1mwandb\u001b[0m: \tdataset: bow\n",
      "\u001b[34m\u001b[1mwandb\u001b[0m: \tmax_depth: 10\n",
      "\u001b[34m\u001b[1mwandb\u001b[0m: \tmin_samples_leaf: 1\n",
      "\u001b[34m\u001b[1mwandb\u001b[0m: \tn_estimators: 100\n"
     ]
    },
    {
     "data": {
      "text/html": [
       "Tracking run with wandb version 0.19.0"
      ],
      "text/plain": [
       "<IPython.core.display.HTML object>"
      ]
     },
     "metadata": {},
     "output_type": "display_data"
    },
    {
     "data": {
      "text/html": [
       "Run data is saved locally in <code>/home/parkmyungheon/Desktop/Work/CS-433/ml-project-2-yhs2/wandb/run-20241214_013342-q8d3b581</code>"
      ],
      "text/plain": [
       "<IPython.core.display.HTML object>"
      ]
     },
     "metadata": {},
     "output_type": "display_data"
    },
    {
     "data": {
      "text/html": [
       "Syncing run <strong><a href='https://wandb.ai/cr7_reunited-cr7/epfl_ml_project2/runs/q8d3b581' target=\"_blank\">expert-sweep-4</a></strong> to <a href='https://wandb.ai/cr7_reunited-cr7/epfl_ml_project2' target=\"_blank\">Weights & Biases</a> (<a href='https://wandb.me/developer-guide' target=\"_blank\">docs</a>)<br/>Sweep page: <a href='https://wandb.ai/cr7_reunited-cr7/epfl_ml_project2/sweeps/gy700h45' target=\"_blank\">https://wandb.ai/cr7_reunited-cr7/epfl_ml_project2/sweeps/gy700h45</a>"
      ],
      "text/plain": [
       "<IPython.core.display.HTML object>"
      ]
     },
     "metadata": {},
     "output_type": "display_data"
    },
    {
     "data": {
      "text/html": [
       " View project at <a href='https://wandb.ai/cr7_reunited-cr7/epfl_ml_project2' target=\"_blank\">https://wandb.ai/cr7_reunited-cr7/epfl_ml_project2</a>"
      ],
      "text/plain": [
       "<IPython.core.display.HTML object>"
      ]
     },
     "metadata": {},
     "output_type": "display_data"
    },
    {
     "data": {
      "text/html": [
       " View sweep at <a href='https://wandb.ai/cr7_reunited-cr7/epfl_ml_project2/sweeps/gy700h45' target=\"_blank\">https://wandb.ai/cr7_reunited-cr7/epfl_ml_project2/sweeps/gy700h45</a>"
      ],
      "text/plain": [
       "<IPython.core.display.HTML object>"
      ]
     },
     "metadata": {},
     "output_type": "display_data"
    },
    {
     "data": {
      "text/html": [
       " View run at <a href='https://wandb.ai/cr7_reunited-cr7/epfl_ml_project2/runs/q8d3b581' target=\"_blank\">https://wandb.ai/cr7_reunited-cr7/epfl_ml_project2/runs/q8d3b581</a>"
      ],
      "text/plain": [
       "<IPython.core.display.HTML object>"
      ]
     },
     "metadata": {},
     "output_type": "display_data"
    },
    {
     "data": {
      "text/html": [
       "\n",
       "    <style>\n",
       "        .wandb-row {\n",
       "            display: flex;\n",
       "            flex-direction: row;\n",
       "            flex-wrap: wrap;\n",
       "            justify-content: flex-start;\n",
       "            width: 100%;\n",
       "        }\n",
       "        .wandb-col {\n",
       "            display: flex;\n",
       "            flex-direction: column;\n",
       "            flex-basis: 100%;\n",
       "            flex: 1;\n",
       "            padding: 10px;\n",
       "        }\n",
       "    </style>\n",
       "<div class=\"wandb-row\"><div class=\"wandb-col\"><h3>Run history:</h3><br/><table class=\"wandb\"><tr><td>train_accuracy</td><td>▁</td></tr><tr><td>val_accuracy</td><td>▁</td></tr></table><br/></div><div class=\"wandb-col\"><h3>Run summary:</h3><br/><table class=\"wandb\"><tr><td>train_accuracy</td><td>0.71988</td></tr><tr><td>val_accuracy</td><td>0.7095</td></tr></table><br/></div></div>"
      ],
      "text/plain": [
       "<IPython.core.display.HTML object>"
      ]
     },
     "metadata": {},
     "output_type": "display_data"
    },
    {
     "data": {
      "text/html": [
       " View run <strong style=\"color:#cdcd00\">expert-sweep-4</strong> at: <a href='https://wandb.ai/cr7_reunited-cr7/epfl_ml_project2/runs/q8d3b581' target=\"_blank\">https://wandb.ai/cr7_reunited-cr7/epfl_ml_project2/runs/q8d3b581</a><br/> View project at: <a href='https://wandb.ai/cr7_reunited-cr7/epfl_ml_project2' target=\"_blank\">https://wandb.ai/cr7_reunited-cr7/epfl_ml_project2</a><br/>Synced 5 W&B file(s), 0 media file(s), 0 artifact file(s) and 0 other file(s)"
      ],
      "text/plain": [
       "<IPython.core.display.HTML object>"
      ]
     },
     "metadata": {},
     "output_type": "display_data"
    },
    {
     "data": {
      "text/html": [
       "Find logs at: <code>./wandb/run-20241214_013342-q8d3b581/logs</code>"
      ],
      "text/plain": [
       "<IPython.core.display.HTML object>"
      ]
     },
     "metadata": {},
     "output_type": "display_data"
    },
    {
     "name": "stderr",
     "output_type": "stream",
     "text": [
      "\u001b[34m\u001b[1mwandb\u001b[0m: Agent Starting Run: rcfnvfuv with config:\n",
      "\u001b[34m\u001b[1mwandb\u001b[0m: \tcriterion: gini\n",
      "\u001b[34m\u001b[1mwandb\u001b[0m: \tdataset: bow\n",
      "\u001b[34m\u001b[1mwandb\u001b[0m: \tmax_depth: 10\n",
      "\u001b[34m\u001b[1mwandb\u001b[0m: \tmin_samples_leaf: 1\n",
      "\u001b[34m\u001b[1mwandb\u001b[0m: \tn_estimators: 250\n"
     ]
    },
    {
     "data": {
      "text/html": [
       "Tracking run with wandb version 0.19.0"
      ],
      "text/plain": [
       "<IPython.core.display.HTML object>"
      ]
     },
     "metadata": {},
     "output_type": "display_data"
    },
    {
     "data": {
      "text/html": [
       "Run data is saved locally in <code>/home/parkmyungheon/Desktop/Work/CS-433/ml-project-2-yhs2/wandb/run-20241214_013347-rcfnvfuv</code>"
      ],
      "text/plain": [
       "<IPython.core.display.HTML object>"
      ]
     },
     "metadata": {},
     "output_type": "display_data"
    },
    {
     "data": {
      "text/html": [
       "Syncing run <strong><a href='https://wandb.ai/cr7_reunited-cr7/epfl_ml_project2/runs/rcfnvfuv' target=\"_blank\">toasty-sweep-5</a></strong> to <a href='https://wandb.ai/cr7_reunited-cr7/epfl_ml_project2' target=\"_blank\">Weights & Biases</a> (<a href='https://wandb.me/developer-guide' target=\"_blank\">docs</a>)<br/>Sweep page: <a href='https://wandb.ai/cr7_reunited-cr7/epfl_ml_project2/sweeps/gy700h45' target=\"_blank\">https://wandb.ai/cr7_reunited-cr7/epfl_ml_project2/sweeps/gy700h45</a>"
      ],
      "text/plain": [
       "<IPython.core.display.HTML object>"
      ]
     },
     "metadata": {},
     "output_type": "display_data"
    },
    {
     "data": {
      "text/html": [
       " View project at <a href='https://wandb.ai/cr7_reunited-cr7/epfl_ml_project2' target=\"_blank\">https://wandb.ai/cr7_reunited-cr7/epfl_ml_project2</a>"
      ],
      "text/plain": [
       "<IPython.core.display.HTML object>"
      ]
     },
     "metadata": {},
     "output_type": "display_data"
    },
    {
     "data": {
      "text/html": [
       " View sweep at <a href='https://wandb.ai/cr7_reunited-cr7/epfl_ml_project2/sweeps/gy700h45' target=\"_blank\">https://wandb.ai/cr7_reunited-cr7/epfl_ml_project2/sweeps/gy700h45</a>"
      ],
      "text/plain": [
       "<IPython.core.display.HTML object>"
      ]
     },
     "metadata": {},
     "output_type": "display_data"
    },
    {
     "data": {
      "text/html": [
       " View run at <a href='https://wandb.ai/cr7_reunited-cr7/epfl_ml_project2/runs/rcfnvfuv' target=\"_blank\">https://wandb.ai/cr7_reunited-cr7/epfl_ml_project2/runs/rcfnvfuv</a>"
      ],
      "text/plain": [
       "<IPython.core.display.HTML object>"
      ]
     },
     "metadata": {},
     "output_type": "display_data"
    },
    {
     "data": {
      "text/html": [
       "\n",
       "    <style>\n",
       "        .wandb-row {\n",
       "            display: flex;\n",
       "            flex-direction: row;\n",
       "            flex-wrap: wrap;\n",
       "            justify-content: flex-start;\n",
       "            width: 100%;\n",
       "        }\n",
       "        .wandb-col {\n",
       "            display: flex;\n",
       "            flex-direction: column;\n",
       "            flex-basis: 100%;\n",
       "            flex: 1;\n",
       "            padding: 10px;\n",
       "        }\n",
       "    </style>\n",
       "<div class=\"wandb-row\"><div class=\"wandb-col\"><h3>Run history:</h3><br/><table class=\"wandb\"><tr><td>train_accuracy</td><td>▁</td></tr><tr><td>val_accuracy</td><td>▁</td></tr></table><br/></div><div class=\"wandb-col\"><h3>Run summary:</h3><br/><table class=\"wandb\"><tr><td>train_accuracy</td><td>0.72405</td></tr><tr><td>val_accuracy</td><td>0.71305</td></tr></table><br/></div></div>"
      ],
      "text/plain": [
       "<IPython.core.display.HTML object>"
      ]
     },
     "metadata": {},
     "output_type": "display_data"
    },
    {
     "data": {
      "text/html": [
       " View run <strong style=\"color:#cdcd00\">toasty-sweep-5</strong> at: <a href='https://wandb.ai/cr7_reunited-cr7/epfl_ml_project2/runs/rcfnvfuv' target=\"_blank\">https://wandb.ai/cr7_reunited-cr7/epfl_ml_project2/runs/rcfnvfuv</a><br/> View project at: <a href='https://wandb.ai/cr7_reunited-cr7/epfl_ml_project2' target=\"_blank\">https://wandb.ai/cr7_reunited-cr7/epfl_ml_project2</a><br/>Synced 5 W&B file(s), 0 media file(s), 0 artifact file(s) and 0 other file(s)"
      ],
      "text/plain": [
       "<IPython.core.display.HTML object>"
      ]
     },
     "metadata": {},
     "output_type": "display_data"
    },
    {
     "data": {
      "text/html": [
       "Find logs at: <code>./wandb/run-20241214_013347-rcfnvfuv/logs</code>"
      ],
      "text/plain": [
       "<IPython.core.display.HTML object>"
      ]
     },
     "metadata": {},
     "output_type": "display_data"
    },
    {
     "name": "stderr",
     "output_type": "stream",
     "text": [
      "\u001b[34m\u001b[1mwandb\u001b[0m: Agent Starting Run: d49tslba with config:\n",
      "\u001b[34m\u001b[1mwandb\u001b[0m: \tcriterion: gini\n",
      "\u001b[34m\u001b[1mwandb\u001b[0m: \tdataset: bow\n",
      "\u001b[34m\u001b[1mwandb\u001b[0m: \tmax_depth: 10\n",
      "\u001b[34m\u001b[1mwandb\u001b[0m: \tmin_samples_leaf: 1\n",
      "\u001b[34m\u001b[1mwandb\u001b[0m: \tn_estimators: 500\n"
     ]
    },
    {
     "data": {
      "text/html": [
       "Tracking run with wandb version 0.19.0"
      ],
      "text/plain": [
       "<IPython.core.display.HTML object>"
      ]
     },
     "metadata": {},
     "output_type": "display_data"
    },
    {
     "data": {
      "text/html": [
       "Run data is saved locally in <code>/home/parkmyungheon/Desktop/Work/CS-433/ml-project-2-yhs2/wandb/run-20241214_013358-d49tslba</code>"
      ],
      "text/plain": [
       "<IPython.core.display.HTML object>"
      ]
     },
     "metadata": {},
     "output_type": "display_data"
    },
    {
     "data": {
      "text/html": [
       "Syncing run <strong><a href='https://wandb.ai/cr7_reunited-cr7/epfl_ml_project2/runs/d49tslba' target=\"_blank\">wandering-sweep-6</a></strong> to <a href='https://wandb.ai/cr7_reunited-cr7/epfl_ml_project2' target=\"_blank\">Weights & Biases</a> (<a href='https://wandb.me/developer-guide' target=\"_blank\">docs</a>)<br/>Sweep page: <a href='https://wandb.ai/cr7_reunited-cr7/epfl_ml_project2/sweeps/gy700h45' target=\"_blank\">https://wandb.ai/cr7_reunited-cr7/epfl_ml_project2/sweeps/gy700h45</a>"
      ],
      "text/plain": [
       "<IPython.core.display.HTML object>"
      ]
     },
     "metadata": {},
     "output_type": "display_data"
    },
    {
     "data": {
      "text/html": [
       " View project at <a href='https://wandb.ai/cr7_reunited-cr7/epfl_ml_project2' target=\"_blank\">https://wandb.ai/cr7_reunited-cr7/epfl_ml_project2</a>"
      ],
      "text/plain": [
       "<IPython.core.display.HTML object>"
      ]
     },
     "metadata": {},
     "output_type": "display_data"
    },
    {
     "data": {
      "text/html": [
       " View sweep at <a href='https://wandb.ai/cr7_reunited-cr7/epfl_ml_project2/sweeps/gy700h45' target=\"_blank\">https://wandb.ai/cr7_reunited-cr7/epfl_ml_project2/sweeps/gy700h45</a>"
      ],
      "text/plain": [
       "<IPython.core.display.HTML object>"
      ]
     },
     "metadata": {},
     "output_type": "display_data"
    },
    {
     "data": {
      "text/html": [
       " View run at <a href='https://wandb.ai/cr7_reunited-cr7/epfl_ml_project2/runs/d49tslba' target=\"_blank\">https://wandb.ai/cr7_reunited-cr7/epfl_ml_project2/runs/d49tslba</a>"
      ],
      "text/plain": [
       "<IPython.core.display.HTML object>"
      ]
     },
     "metadata": {},
     "output_type": "display_data"
    },
    {
     "data": {
      "text/html": [
       "\n",
       "    <style>\n",
       "        .wandb-row {\n",
       "            display: flex;\n",
       "            flex-direction: row;\n",
       "            flex-wrap: wrap;\n",
       "            justify-content: flex-start;\n",
       "            width: 100%;\n",
       "        }\n",
       "        .wandb-col {\n",
       "            display: flex;\n",
       "            flex-direction: column;\n",
       "            flex-basis: 100%;\n",
       "            flex: 1;\n",
       "            padding: 10px;\n",
       "        }\n",
       "    </style>\n",
       "<div class=\"wandb-row\"><div class=\"wandb-col\"><h3>Run history:</h3><br/><table class=\"wandb\"><tr><td>train_accuracy</td><td>▁</td></tr><tr><td>val_accuracy</td><td>▁</td></tr></table><br/></div><div class=\"wandb-col\"><h3>Run summary:</h3><br/><table class=\"wandb\"><tr><td>train_accuracy</td><td>0.72742</td></tr><tr><td>val_accuracy</td><td>0.71522</td></tr></table><br/></div></div>"
      ],
      "text/plain": [
       "<IPython.core.display.HTML object>"
      ]
     },
     "metadata": {},
     "output_type": "display_data"
    },
    {
     "data": {
      "text/html": [
       " View run <strong style=\"color:#cdcd00\">wandering-sweep-6</strong> at: <a href='https://wandb.ai/cr7_reunited-cr7/epfl_ml_project2/runs/d49tslba' target=\"_blank\">https://wandb.ai/cr7_reunited-cr7/epfl_ml_project2/runs/d49tslba</a><br/> View project at: <a href='https://wandb.ai/cr7_reunited-cr7/epfl_ml_project2' target=\"_blank\">https://wandb.ai/cr7_reunited-cr7/epfl_ml_project2</a><br/>Synced 5 W&B file(s), 0 media file(s), 0 artifact file(s) and 0 other file(s)"
      ],
      "text/plain": [
       "<IPython.core.display.HTML object>"
      ]
     },
     "metadata": {},
     "output_type": "display_data"
    },
    {
     "data": {
      "text/html": [
       "Find logs at: <code>./wandb/run-20241214_013358-d49tslba/logs</code>"
      ],
      "text/plain": [
       "<IPython.core.display.HTML object>"
      ]
     },
     "metadata": {},
     "output_type": "display_data"
    },
    {
     "name": "stderr",
     "output_type": "stream",
     "text": [
      "\u001b[34m\u001b[1mwandb\u001b[0m: Agent Starting Run: v6ucbog6 with config:\n",
      "\u001b[34m\u001b[1mwandb\u001b[0m: \tcriterion: gini\n",
      "\u001b[34m\u001b[1mwandb\u001b[0m: \tdataset: bow\n",
      "\u001b[34m\u001b[1mwandb\u001b[0m: \tmax_depth: 10\n",
      "\u001b[34m\u001b[1mwandb\u001b[0m: \tmin_samples_leaf: 2\n",
      "\u001b[34m\u001b[1mwandb\u001b[0m: \tn_estimators: 1\n"
     ]
    },
    {
     "data": {
      "text/html": [
       "Tracking run with wandb version 0.19.0"
      ],
      "text/plain": [
       "<IPython.core.display.HTML object>"
      ]
     },
     "metadata": {},
     "output_type": "display_data"
    },
    {
     "data": {
      "text/html": [
       "Run data is saved locally in <code>/home/parkmyungheon/Desktop/Work/CS-433/ml-project-2-yhs2/wandb/run-20241214_013408-v6ucbog6</code>"
      ],
      "text/plain": [
       "<IPython.core.display.HTML object>"
      ]
     },
     "metadata": {},
     "output_type": "display_data"
    },
    {
     "data": {
      "text/html": [
       "Syncing run <strong><a href='https://wandb.ai/cr7_reunited-cr7/epfl_ml_project2/runs/v6ucbog6' target=\"_blank\">fragrant-sweep-7</a></strong> to <a href='https://wandb.ai/cr7_reunited-cr7/epfl_ml_project2' target=\"_blank\">Weights & Biases</a> (<a href='https://wandb.me/developer-guide' target=\"_blank\">docs</a>)<br/>Sweep page: <a href='https://wandb.ai/cr7_reunited-cr7/epfl_ml_project2/sweeps/gy700h45' target=\"_blank\">https://wandb.ai/cr7_reunited-cr7/epfl_ml_project2/sweeps/gy700h45</a>"
      ],
      "text/plain": [
       "<IPython.core.display.HTML object>"
      ]
     },
     "metadata": {},
     "output_type": "display_data"
    },
    {
     "data": {
      "text/html": [
       " View project at <a href='https://wandb.ai/cr7_reunited-cr7/epfl_ml_project2' target=\"_blank\">https://wandb.ai/cr7_reunited-cr7/epfl_ml_project2</a>"
      ],
      "text/plain": [
       "<IPython.core.display.HTML object>"
      ]
     },
     "metadata": {},
     "output_type": "display_data"
    },
    {
     "data": {
      "text/html": [
       " View sweep at <a href='https://wandb.ai/cr7_reunited-cr7/epfl_ml_project2/sweeps/gy700h45' target=\"_blank\">https://wandb.ai/cr7_reunited-cr7/epfl_ml_project2/sweeps/gy700h45</a>"
      ],
      "text/plain": [
       "<IPython.core.display.HTML object>"
      ]
     },
     "metadata": {},
     "output_type": "display_data"
    },
    {
     "data": {
      "text/html": [
       " View run at <a href='https://wandb.ai/cr7_reunited-cr7/epfl_ml_project2/runs/v6ucbog6' target=\"_blank\">https://wandb.ai/cr7_reunited-cr7/epfl_ml_project2/runs/v6ucbog6</a>"
      ],
      "text/plain": [
       "<IPython.core.display.HTML object>"
      ]
     },
     "metadata": {},
     "output_type": "display_data"
    },
    {
     "data": {
      "text/html": [
       "\n",
       "    <style>\n",
       "        .wandb-row {\n",
       "            display: flex;\n",
       "            flex-direction: row;\n",
       "            flex-wrap: wrap;\n",
       "            justify-content: flex-start;\n",
       "            width: 100%;\n",
       "        }\n",
       "        .wandb-col {\n",
       "            display: flex;\n",
       "            flex-direction: column;\n",
       "            flex-basis: 100%;\n",
       "            flex: 1;\n",
       "            padding: 10px;\n",
       "        }\n",
       "    </style>\n",
       "<div class=\"wandb-row\"><div class=\"wandb-col\"><h3>Run history:</h3><br/><table class=\"wandb\"><tr><td>train_accuracy</td><td>▁</td></tr><tr><td>val_accuracy</td><td>▁</td></tr></table><br/></div><div class=\"wandb-col\"><h3>Run summary:</h3><br/><table class=\"wandb\"><tr><td>train_accuracy</td><td>0.52558</td></tr><tr><td>val_accuracy</td><td>0.5271</td></tr></table><br/></div></div>"
      ],
      "text/plain": [
       "<IPython.core.display.HTML object>"
      ]
     },
     "metadata": {},
     "output_type": "display_data"
    },
    {
     "data": {
      "text/html": [
       " View run <strong style=\"color:#cdcd00\">fragrant-sweep-7</strong> at: <a href='https://wandb.ai/cr7_reunited-cr7/epfl_ml_project2/runs/v6ucbog6' target=\"_blank\">https://wandb.ai/cr7_reunited-cr7/epfl_ml_project2/runs/v6ucbog6</a><br/> View project at: <a href='https://wandb.ai/cr7_reunited-cr7/epfl_ml_project2' target=\"_blank\">https://wandb.ai/cr7_reunited-cr7/epfl_ml_project2</a><br/>Synced 5 W&B file(s), 0 media file(s), 0 artifact file(s) and 0 other file(s)"
      ],
      "text/plain": [
       "<IPython.core.display.HTML object>"
      ]
     },
     "metadata": {},
     "output_type": "display_data"
    },
    {
     "data": {
      "text/html": [
       "Find logs at: <code>./wandb/run-20241214_013408-v6ucbog6/logs</code>"
      ],
      "text/plain": [
       "<IPython.core.display.HTML object>"
      ]
     },
     "metadata": {},
     "output_type": "display_data"
    },
    {
     "name": "stderr",
     "output_type": "stream",
     "text": [
      "\u001b[34m\u001b[1mwandb\u001b[0m: Agent Starting Run: mcipmyr2 with config:\n",
      "\u001b[34m\u001b[1mwandb\u001b[0m: \tcriterion: gini\n",
      "\u001b[34m\u001b[1mwandb\u001b[0m: \tdataset: bow\n",
      "\u001b[34m\u001b[1mwandb\u001b[0m: \tmax_depth: 10\n",
      "\u001b[34m\u001b[1mwandb\u001b[0m: \tmin_samples_leaf: 2\n",
      "\u001b[34m\u001b[1mwandb\u001b[0m: \tn_estimators: 10\n"
     ]
    },
    {
     "data": {
      "text/html": [
       "Tracking run with wandb version 0.19.0"
      ],
      "text/plain": [
       "<IPython.core.display.HTML object>"
      ]
     },
     "metadata": {},
     "output_type": "display_data"
    },
    {
     "data": {
      "text/html": [
       "Run data is saved locally in <code>/home/parkmyungheon/Desktop/Work/CS-433/ml-project-2-yhs2/wandb/run-20241214_013414-mcipmyr2</code>"
      ],
      "text/plain": [
       "<IPython.core.display.HTML object>"
      ]
     },
     "metadata": {},
     "output_type": "display_data"
    },
    {
     "data": {
      "text/html": [
       "Syncing run <strong><a href='https://wandb.ai/cr7_reunited-cr7/epfl_ml_project2/runs/mcipmyr2' target=\"_blank\">generous-sweep-8</a></strong> to <a href='https://wandb.ai/cr7_reunited-cr7/epfl_ml_project2' target=\"_blank\">Weights & Biases</a> (<a href='https://wandb.me/developer-guide' target=\"_blank\">docs</a>)<br/>Sweep page: <a href='https://wandb.ai/cr7_reunited-cr7/epfl_ml_project2/sweeps/gy700h45' target=\"_blank\">https://wandb.ai/cr7_reunited-cr7/epfl_ml_project2/sweeps/gy700h45</a>"
      ],
      "text/plain": [
       "<IPython.core.display.HTML object>"
      ]
     },
     "metadata": {},
     "output_type": "display_data"
    },
    {
     "data": {
      "text/html": [
       " View project at <a href='https://wandb.ai/cr7_reunited-cr7/epfl_ml_project2' target=\"_blank\">https://wandb.ai/cr7_reunited-cr7/epfl_ml_project2</a>"
      ],
      "text/plain": [
       "<IPython.core.display.HTML object>"
      ]
     },
     "metadata": {},
     "output_type": "display_data"
    },
    {
     "data": {
      "text/html": [
       " View sweep at <a href='https://wandb.ai/cr7_reunited-cr7/epfl_ml_project2/sweeps/gy700h45' target=\"_blank\">https://wandb.ai/cr7_reunited-cr7/epfl_ml_project2/sweeps/gy700h45</a>"
      ],
      "text/plain": [
       "<IPython.core.display.HTML object>"
      ]
     },
     "metadata": {},
     "output_type": "display_data"
    },
    {
     "data": {
      "text/html": [
       " View run at <a href='https://wandb.ai/cr7_reunited-cr7/epfl_ml_project2/runs/mcipmyr2' target=\"_blank\">https://wandb.ai/cr7_reunited-cr7/epfl_ml_project2/runs/mcipmyr2</a>"
      ],
      "text/plain": [
       "<IPython.core.display.HTML object>"
      ]
     },
     "metadata": {},
     "output_type": "display_data"
    },
    {
     "data": {
      "text/html": [
       "\n",
       "    <style>\n",
       "        .wandb-row {\n",
       "            display: flex;\n",
       "            flex-direction: row;\n",
       "            flex-wrap: wrap;\n",
       "            justify-content: flex-start;\n",
       "            width: 100%;\n",
       "        }\n",
       "        .wandb-col {\n",
       "            display: flex;\n",
       "            flex-direction: column;\n",
       "            flex-basis: 100%;\n",
       "            flex: 1;\n",
       "            padding: 10px;\n",
       "        }\n",
       "    </style>\n",
       "<div class=\"wandb-row\"><div class=\"wandb-col\"><h3>Run history:</h3><br/><table class=\"wandb\"><tr><td>train_accuracy</td><td>▁</td></tr><tr><td>val_accuracy</td><td>▁</td></tr></table><br/></div><div class=\"wandb-col\"><h3>Run summary:</h3><br/><table class=\"wandb\"><tr><td>train_accuracy</td><td>0.62989</td></tr><tr><td>val_accuracy</td><td>0.6254</td></tr></table><br/></div></div>"
      ],
      "text/plain": [
       "<IPython.core.display.HTML object>"
      ]
     },
     "metadata": {},
     "output_type": "display_data"
    },
    {
     "data": {
      "text/html": [
       " View run <strong style=\"color:#cdcd00\">generous-sweep-8</strong> at: <a href='https://wandb.ai/cr7_reunited-cr7/epfl_ml_project2/runs/mcipmyr2' target=\"_blank\">https://wandb.ai/cr7_reunited-cr7/epfl_ml_project2/runs/mcipmyr2</a><br/> View project at: <a href='https://wandb.ai/cr7_reunited-cr7/epfl_ml_project2' target=\"_blank\">https://wandb.ai/cr7_reunited-cr7/epfl_ml_project2</a><br/>Synced 5 W&B file(s), 0 media file(s), 0 artifact file(s) and 0 other file(s)"
      ],
      "text/plain": [
       "<IPython.core.display.HTML object>"
      ]
     },
     "metadata": {},
     "output_type": "display_data"
    },
    {
     "data": {
      "text/html": [
       "Find logs at: <code>./wandb/run-20241214_013414-mcipmyr2/logs</code>"
      ],
      "text/plain": [
       "<IPython.core.display.HTML object>"
      ]
     },
     "metadata": {},
     "output_type": "display_data"
    },
    {
     "name": "stderr",
     "output_type": "stream",
     "text": [
      "\u001b[34m\u001b[1mwandb\u001b[0m: Agent Starting Run: v17kfow1 with config:\n",
      "\u001b[34m\u001b[1mwandb\u001b[0m: \tcriterion: gini\n",
      "\u001b[34m\u001b[1mwandb\u001b[0m: \tdataset: bow\n",
      "\u001b[34m\u001b[1mwandb\u001b[0m: \tmax_depth: 10\n",
      "\u001b[34m\u001b[1mwandb\u001b[0m: \tmin_samples_leaf: 2\n",
      "\u001b[34m\u001b[1mwandb\u001b[0m: \tn_estimators: 50\n"
     ]
    },
    {
     "data": {
      "text/html": [
       "Tracking run with wandb version 0.19.0"
      ],
      "text/plain": [
       "<IPython.core.display.HTML object>"
      ]
     },
     "metadata": {},
     "output_type": "display_data"
    },
    {
     "data": {
      "text/html": [
       "Run data is saved locally in <code>/home/parkmyungheon/Desktop/Work/CS-433/ml-project-2-yhs2/wandb/run-20241214_013419-v17kfow1</code>"
      ],
      "text/plain": [
       "<IPython.core.display.HTML object>"
      ]
     },
     "metadata": {},
     "output_type": "display_data"
    },
    {
     "data": {
      "text/html": [
       "Syncing run <strong><a href='https://wandb.ai/cr7_reunited-cr7/epfl_ml_project2/runs/v17kfow1' target=\"_blank\">deep-sweep-9</a></strong> to <a href='https://wandb.ai/cr7_reunited-cr7/epfl_ml_project2' target=\"_blank\">Weights & Biases</a> (<a href='https://wandb.me/developer-guide' target=\"_blank\">docs</a>)<br/>Sweep page: <a href='https://wandb.ai/cr7_reunited-cr7/epfl_ml_project2/sweeps/gy700h45' target=\"_blank\">https://wandb.ai/cr7_reunited-cr7/epfl_ml_project2/sweeps/gy700h45</a>"
      ],
      "text/plain": [
       "<IPython.core.display.HTML object>"
      ]
     },
     "metadata": {},
     "output_type": "display_data"
    },
    {
     "data": {
      "text/html": [
       " View project at <a href='https://wandb.ai/cr7_reunited-cr7/epfl_ml_project2' target=\"_blank\">https://wandb.ai/cr7_reunited-cr7/epfl_ml_project2</a>"
      ],
      "text/plain": [
       "<IPython.core.display.HTML object>"
      ]
     },
     "metadata": {},
     "output_type": "display_data"
    },
    {
     "data": {
      "text/html": [
       " View sweep at <a href='https://wandb.ai/cr7_reunited-cr7/epfl_ml_project2/sweeps/gy700h45' target=\"_blank\">https://wandb.ai/cr7_reunited-cr7/epfl_ml_project2/sweeps/gy700h45</a>"
      ],
      "text/plain": [
       "<IPython.core.display.HTML object>"
      ]
     },
     "metadata": {},
     "output_type": "display_data"
    },
    {
     "data": {
      "text/html": [
       " View run at <a href='https://wandb.ai/cr7_reunited-cr7/epfl_ml_project2/runs/v17kfow1' target=\"_blank\">https://wandb.ai/cr7_reunited-cr7/epfl_ml_project2/runs/v17kfow1</a>"
      ],
      "text/plain": [
       "<IPython.core.display.HTML object>"
      ]
     },
     "metadata": {},
     "output_type": "display_data"
    },
    {
     "data": {
      "text/html": [
       "\n",
       "    <style>\n",
       "        .wandb-row {\n",
       "            display: flex;\n",
       "            flex-direction: row;\n",
       "            flex-wrap: wrap;\n",
       "            justify-content: flex-start;\n",
       "            width: 100%;\n",
       "        }\n",
       "        .wandb-col {\n",
       "            display: flex;\n",
       "            flex-direction: column;\n",
       "            flex-basis: 100%;\n",
       "            flex: 1;\n",
       "            padding: 10px;\n",
       "        }\n",
       "    </style>\n",
       "<div class=\"wandb-row\"><div class=\"wandb-col\"><h3>Run history:</h3><br/><table class=\"wandb\"><tr><td>train_accuracy</td><td>▁</td></tr><tr><td>val_accuracy</td><td>▁</td></tr></table><br/></div><div class=\"wandb-col\"><h3>Run summary:</h3><br/><table class=\"wandb\"><tr><td>train_accuracy</td><td>0.71464</td></tr><tr><td>val_accuracy</td><td>0.70305</td></tr></table><br/></div></div>"
      ],
      "text/plain": [
       "<IPython.core.display.HTML object>"
      ]
     },
     "metadata": {},
     "output_type": "display_data"
    },
    {
     "data": {
      "text/html": [
       " View run <strong style=\"color:#cdcd00\">deep-sweep-9</strong> at: <a href='https://wandb.ai/cr7_reunited-cr7/epfl_ml_project2/runs/v17kfow1' target=\"_blank\">https://wandb.ai/cr7_reunited-cr7/epfl_ml_project2/runs/v17kfow1</a><br/> View project at: <a href='https://wandb.ai/cr7_reunited-cr7/epfl_ml_project2' target=\"_blank\">https://wandb.ai/cr7_reunited-cr7/epfl_ml_project2</a><br/>Synced 5 W&B file(s), 0 media file(s), 0 artifact file(s) and 0 other file(s)"
      ],
      "text/plain": [
       "<IPython.core.display.HTML object>"
      ]
     },
     "metadata": {},
     "output_type": "display_data"
    },
    {
     "data": {
      "text/html": [
       "Find logs at: <code>./wandb/run-20241214_013419-v17kfow1/logs</code>"
      ],
      "text/plain": [
       "<IPython.core.display.HTML object>"
      ]
     },
     "metadata": {},
     "output_type": "display_data"
    },
    {
     "name": "stderr",
     "output_type": "stream",
     "text": [
      "\u001b[34m\u001b[1mwandb\u001b[0m: Agent Starting Run: ooqgg0jj with config:\n",
      "\u001b[34m\u001b[1mwandb\u001b[0m: \tcriterion: gini\n",
      "\u001b[34m\u001b[1mwandb\u001b[0m: \tdataset: bow\n",
      "\u001b[34m\u001b[1mwandb\u001b[0m: \tmax_depth: 10\n",
      "\u001b[34m\u001b[1mwandb\u001b[0m: \tmin_samples_leaf: 2\n",
      "\u001b[34m\u001b[1mwandb\u001b[0m: \tn_estimators: 100\n"
     ]
    },
    {
     "data": {
      "text/html": [
       "Tracking run with wandb version 0.19.0"
      ],
      "text/plain": [
       "<IPython.core.display.HTML object>"
      ]
     },
     "metadata": {},
     "output_type": "display_data"
    },
    {
     "data": {
      "text/html": [
       "Run data is saved locally in <code>/home/parkmyungheon/Desktop/Work/CS-433/ml-project-2-yhs2/wandb/run-20241214_013424-ooqgg0jj</code>"
      ],
      "text/plain": [
       "<IPython.core.display.HTML object>"
      ]
     },
     "metadata": {},
     "output_type": "display_data"
    },
    {
     "data": {
      "text/html": [
       "Syncing run <strong><a href='https://wandb.ai/cr7_reunited-cr7/epfl_ml_project2/runs/ooqgg0jj' target=\"_blank\">visionary-sweep-10</a></strong> to <a href='https://wandb.ai/cr7_reunited-cr7/epfl_ml_project2' target=\"_blank\">Weights & Biases</a> (<a href='https://wandb.me/developer-guide' target=\"_blank\">docs</a>)<br/>Sweep page: <a href='https://wandb.ai/cr7_reunited-cr7/epfl_ml_project2/sweeps/gy700h45' target=\"_blank\">https://wandb.ai/cr7_reunited-cr7/epfl_ml_project2/sweeps/gy700h45</a>"
      ],
      "text/plain": [
       "<IPython.core.display.HTML object>"
      ]
     },
     "metadata": {},
     "output_type": "display_data"
    },
    {
     "data": {
      "text/html": [
       " View project at <a href='https://wandb.ai/cr7_reunited-cr7/epfl_ml_project2' target=\"_blank\">https://wandb.ai/cr7_reunited-cr7/epfl_ml_project2</a>"
      ],
      "text/plain": [
       "<IPython.core.display.HTML object>"
      ]
     },
     "metadata": {},
     "output_type": "display_data"
    },
    {
     "data": {
      "text/html": [
       " View sweep at <a href='https://wandb.ai/cr7_reunited-cr7/epfl_ml_project2/sweeps/gy700h45' target=\"_blank\">https://wandb.ai/cr7_reunited-cr7/epfl_ml_project2/sweeps/gy700h45</a>"
      ],
      "text/plain": [
       "<IPython.core.display.HTML object>"
      ]
     },
     "metadata": {},
     "output_type": "display_data"
    },
    {
     "data": {
      "text/html": [
       " View run at <a href='https://wandb.ai/cr7_reunited-cr7/epfl_ml_project2/runs/ooqgg0jj' target=\"_blank\">https://wandb.ai/cr7_reunited-cr7/epfl_ml_project2/runs/ooqgg0jj</a>"
      ],
      "text/plain": [
       "<IPython.core.display.HTML object>"
      ]
     },
     "metadata": {},
     "output_type": "display_data"
    },
    {
     "data": {
      "text/html": [
       "\n",
       "    <style>\n",
       "        .wandb-row {\n",
       "            display: flex;\n",
       "            flex-direction: row;\n",
       "            flex-wrap: wrap;\n",
       "            justify-content: flex-start;\n",
       "            width: 100%;\n",
       "        }\n",
       "        .wandb-col {\n",
       "            display: flex;\n",
       "            flex-direction: column;\n",
       "            flex-basis: 100%;\n",
       "            flex: 1;\n",
       "            padding: 10px;\n",
       "        }\n",
       "    </style>\n",
       "<div class=\"wandb-row\"><div class=\"wandb-col\"><h3>Run history:</h3><br/><table class=\"wandb\"><tr><td>train_accuracy</td><td>▁</td></tr><tr><td>val_accuracy</td><td>▁</td></tr></table><br/></div><div class=\"wandb-col\"><h3>Run summary:</h3><br/><table class=\"wandb\"><tr><td>train_accuracy</td><td>0.71988</td></tr><tr><td>val_accuracy</td><td>0.7095</td></tr></table><br/></div></div>"
      ],
      "text/plain": [
       "<IPython.core.display.HTML object>"
      ]
     },
     "metadata": {},
     "output_type": "display_data"
    },
    {
     "data": {
      "text/html": [
       " View run <strong style=\"color:#cdcd00\">visionary-sweep-10</strong> at: <a href='https://wandb.ai/cr7_reunited-cr7/epfl_ml_project2/runs/ooqgg0jj' target=\"_blank\">https://wandb.ai/cr7_reunited-cr7/epfl_ml_project2/runs/ooqgg0jj</a><br/> View project at: <a href='https://wandb.ai/cr7_reunited-cr7/epfl_ml_project2' target=\"_blank\">https://wandb.ai/cr7_reunited-cr7/epfl_ml_project2</a><br/>Synced 5 W&B file(s), 0 media file(s), 0 artifact file(s) and 0 other file(s)"
      ],
      "text/plain": [
       "<IPython.core.display.HTML object>"
      ]
     },
     "metadata": {},
     "output_type": "display_data"
    },
    {
     "data": {
      "text/html": [
       "Find logs at: <code>./wandb/run-20241214_013424-ooqgg0jj/logs</code>"
      ],
      "text/plain": [
       "<IPython.core.display.HTML object>"
      ]
     },
     "metadata": {},
     "output_type": "display_data"
    }
   ],
   "source": [
    "wandb.agent(sweep_id, train)"
   ]
  }
 ],
 "metadata": {
  "kernelspec": {
   "display_name": "Python 3 (ipykernel)",
   "language": "python",
   "name": "python3"
  },
  "language_info": {
   "codemirror_mode": {
    "name": "ipython",
    "version": 3
   },
   "file_extension": ".py",
   "mimetype": "text/x-python",
   "name": "python",
   "nbconvert_exporter": "python",
   "pygments_lexer": "ipython3",
   "version": "3.11.10"
  }
 },
 "nbformat": 4,
 "nbformat_minor": 4
}
