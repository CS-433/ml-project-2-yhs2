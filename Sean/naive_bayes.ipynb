{
 "cells": [
  {
   "cell_type": "code",
   "execution_count": 1,
   "metadata": {},
   "outputs": [],
   "source": [
    "import numpy as np\n",
    "import pandas as pd\n",
    "import wandb\n",
    "import pprint\n",
    "import helper\n",
    "from sklearn.naive_bayes import MultinomialNB, ComplementNB\n",
    "from sklearn.ensemble import RandomForestClassifier\n",
    "from sklearn.metrics import accuracy_score, f1_score"
   ]
  },
  {
   "cell_type": "code",
   "execution_count": 2,
   "metadata": {},
   "outputs": [
    {
     "name": "stderr",
     "output_type": "stream",
     "text": [
      "\u001b[34m\u001b[1mwandb\u001b[0m: Using wandb-core as the SDK backend.  Please refer to https://wandb.me/wandb-core for more information.\n",
      "\u001b[34m\u001b[1mwandb\u001b[0m: Currently logged in as: \u001b[33mcr7_reunited\u001b[0m (\u001b[33mcr7_reunited-cr7\u001b[0m). Use \u001b[1m`wandb login --relogin`\u001b[0m to force relogin\n"
     ]
    },
    {
     "data": {
      "text/html": [
       "Tracking run with wandb version 0.19.0"
      ],
      "text/plain": [
       "<IPython.core.display.HTML object>"
      ]
     },
     "metadata": {},
     "output_type": "display_data"
    },
    {
     "data": {
      "text/html": [
       "Run data is saved locally in <code>/home/parkmyungheon/Desktop/Work/CS-433/ml-project-2-yhs2/Sean/wandb/run-20241217_201409-mg8oeu29</code>"
      ],
      "text/plain": [
       "<IPython.core.display.HTML object>"
      ]
     },
     "metadata": {},
     "output_type": "display_data"
    },
    {
     "data": {
      "text/html": [
       "Syncing run <strong><a href='https://wandb.ai/cr7_reunited-cr7/epfl_ml_project2/runs/mg8oeu29' target=\"_blank\">load_tweet_dataset_1</a></strong> to <a href='https://wandb.ai/cr7_reunited-cr7/epfl_ml_project2' target=\"_blank\">Weights & Biases</a> (<a href='https://wandb.me/developer-guide' target=\"_blank\">docs</a>)<br/>"
      ],
      "text/plain": [
       "<IPython.core.display.HTML object>"
      ]
     },
     "metadata": {},
     "output_type": "display_data"
    },
    {
     "data": {
      "text/html": [
       " View project at <a href='https://wandb.ai/cr7_reunited-cr7/epfl_ml_project2' target=\"_blank\">https://wandb.ai/cr7_reunited-cr7/epfl_ml_project2</a>"
      ],
      "text/plain": [
       "<IPython.core.display.HTML object>"
      ]
     },
     "metadata": {},
     "output_type": "display_data"
    },
    {
     "data": {
      "text/html": [
       " View run at <a href='https://wandb.ai/cr7_reunited-cr7/epfl_ml_project2/runs/mg8oeu29' target=\"_blank\">https://wandb.ai/cr7_reunited-cr7/epfl_ml_project2/runs/mg8oeu29</a>"
      ],
      "text/plain": [
       "<IPython.core.display.HTML object>"
      ]
     },
     "metadata": {},
     "output_type": "display_data"
    },
    {
     "name": "stderr",
     "output_type": "stream",
     "text": [
      "\u001b[34m\u001b[1mwandb\u001b[0m:   3 of 3 files downloaded.  \n"
     ]
    },
    {
     "data": {
      "text/html": [
       " View run <strong style=\"color:#cdcd00\">load_tweet_dataset_1</strong> at: <a href='https://wandb.ai/cr7_reunited-cr7/epfl_ml_project2/runs/mg8oeu29' target=\"_blank\">https://wandb.ai/cr7_reunited-cr7/epfl_ml_project2/runs/mg8oeu29</a><br/> View project at: <a href='https://wandb.ai/cr7_reunited-cr7/epfl_ml_project2' target=\"_blank\">https://wandb.ai/cr7_reunited-cr7/epfl_ml_project2</a><br/>Synced 5 W&B file(s), 0 media file(s), 0 artifact file(s) and 0 other file(s)"
      ],
      "text/plain": [
       "<IPython.core.display.HTML object>"
      ]
     },
     "metadata": {},
     "output_type": "display_data"
    },
    {
     "data": {
      "text/html": [
       "Find logs at: <code>./wandb/run-20241217_201409-mg8oeu29/logs</code>"
      ],
      "text/plain": [
       "<IPython.core.display.HTML object>"
      ]
     },
     "metadata": {},
     "output_type": "display_data"
    }
   ],
   "source": [
    "# Preparing dataset\n",
    "wandb.init(name='load_tweet_dataset_1',\n",
    "                 project='epfl_ml_project2', \n",
    "                 tags=['load_dataset'],\n",
    "                 job_type='for_testing')\n",
    "artifact = wandb.use_artifact('hsunyu/epfl_ml_project2/twitter_dataset_1:v0')\n",
    "artifact_dir = artifact.download()\n",
    "wandb.finish()"
   ]
  },
  {
   "cell_type": "code",
   "execution_count": 3,
   "metadata": {},
   "outputs": [
    {
     "data": {
      "text/plain": [
       "True"
      ]
     },
     "execution_count": 3,
     "metadata": {},
     "output_type": "execute_result"
    }
   ],
   "source": [
    "wandb.login()"
   ]
  },
  {
   "cell_type": "code",
   "execution_count": 4,
   "metadata": {},
   "outputs": [],
   "source": [
    "# Load it into a pandas dataframe\n",
    "train_df = pd.read_json(artifact_dir + '/train.json', lines=True)\n",
    "val_df = pd.read_json(artifact_dir + '/val.json', lines=True)\n",
    "test_df = pd.read_json(artifact_dir + '/test.json', lines=True)"
   ]
  },
  {
   "cell_type": "code",
   "execution_count": 5,
   "metadata": {},
   "outputs": [],
   "source": [
    "# Initializing hyperparameter grid\n",
    "sweep_config = {\n",
    "    'method': 'grid'\n",
    "}\n",
    "\n",
    "metric = {\n",
    "    'name': 'val_accuracy',\n",
    "    'goal': 'maximize'\n",
    "}\n",
    "\n",
    "parameters_dict = {\n",
    "    'dataset': {\n",
    "        'values': ['bow', 'tfidf']\n",
    "    },\n",
    "    'num_features': {\n",
    "        'values': [100, 500, 1000, 5000, 10000, 20000, 50000, 74552]\n",
    "    },\n",
    "    'model': {\n",
    "        'values': ['Multinomial NB', 'Complement NB']\n",
    "    }\n",
    "}\n",
    "\n",
    "sweep_config['metric'] = metric\n",
    "sweep_config['parameters'] = parameters_dict\n",
    "\n",
    "models = {\n",
    "    'Multinomial NB': MultinomialNB,\n",
    "    'Complement NB': ComplementNB\n",
    "}"
   ]
  },
  {
   "cell_type": "code",
   "execution_count": 6,
   "metadata": {},
   "outputs": [
    {
     "name": "stdout",
     "output_type": "stream",
     "text": [
      "{'method': 'grid',\n",
      " 'metric': {'goal': 'maximize', 'name': 'val_accuracy'},\n",
      " 'parameters': {'dataset': {'values': ['bow', 'tfidf']},\n",
      "                'model': {'values': ['Multinomial NB', 'Complement NB']},\n",
      "                'num_features': {'values': [100,\n",
      "                                            500,\n",
      "                                            1000,\n",
      "                                            5000,\n",
      "                                            10000,\n",
      "                                            20000,\n",
      "                                            50000,\n",
      "                                            74552]}}}\n"
     ]
    }
   ],
   "source": [
    "pprint.pprint(sweep_config)"
   ]
  },
  {
   "cell_type": "code",
   "execution_count": 7,
   "metadata": {},
   "outputs": [
    {
     "name": "stdout",
     "output_type": "stream",
     "text": [
      "Create sweep with ID: tghwcg4n\n",
      "Sweep URL: https://wandb.ai/cr7_reunited-cr7/epfl_ml_project2/sweeps/tghwcg4n\n"
     ]
    }
   ],
   "source": [
    "sweep_id = wandb.sweep(sweep_config, project='epfl_ml_project2')"
   ]
  },
  {
   "cell_type": "code",
   "execution_count": 8,
   "metadata": {},
   "outputs": [],
   "source": [
    "# Preprocessing dataset, `datasets` is a dictionary of keys 'bow', 'tfidf' with values containing their respective train, validation, and test datasets\n",
    "datasets = helper.prepare_datasets(train_df, val_df, test_df)"
   ]
  },
  {
   "cell_type": "code",
   "execution_count": 9,
   "metadata": {},
   "outputs": [
    {
     "name": "stderr",
     "output_type": "stream",
     "text": [
      "\u001b[34m\u001b[1mwandb\u001b[0m: Sorting runs by -summary_metrics.val_accuracy\n"
     ]
    }
   ],
   "source": [
    "# Getting optimal Random Forest's hyperparameters\n",
    "best_RF_params = helper.get_optimal_RF_params()"
   ]
  },
  {
   "cell_type": "code",
   "execution_count": 10,
   "metadata": {},
   "outputs": [
    {
     "data": {
      "text/html": [
       "<style>#sk-container-id-1 {color: black;}#sk-container-id-1 pre{padding: 0;}#sk-container-id-1 div.sk-toggleable {background-color: white;}#sk-container-id-1 label.sk-toggleable__label {cursor: pointer;display: block;width: 100%;margin-bottom: 0;padding: 0.3em;box-sizing: border-box;text-align: center;}#sk-container-id-1 label.sk-toggleable__label-arrow:before {content: \"▸\";float: left;margin-right: 0.25em;color: #696969;}#sk-container-id-1 label.sk-toggleable__label-arrow:hover:before {color: black;}#sk-container-id-1 div.sk-estimator:hover label.sk-toggleable__label-arrow:before {color: black;}#sk-container-id-1 div.sk-toggleable__content {max-height: 0;max-width: 0;overflow: hidden;text-align: left;background-color: #f0f8ff;}#sk-container-id-1 div.sk-toggleable__content pre {margin: 0.2em;color: black;border-radius: 0.25em;background-color: #f0f8ff;}#sk-container-id-1 input.sk-toggleable__control:checked~div.sk-toggleable__content {max-height: 200px;max-width: 100%;overflow: auto;}#sk-container-id-1 input.sk-toggleable__control:checked~label.sk-toggleable__label-arrow:before {content: \"▾\";}#sk-container-id-1 div.sk-estimator input.sk-toggleable__control:checked~label.sk-toggleable__label {background-color: #d4ebff;}#sk-container-id-1 div.sk-label input.sk-toggleable__control:checked~label.sk-toggleable__label {background-color: #d4ebff;}#sk-container-id-1 input.sk-hidden--visually {border: 0;clip: rect(1px 1px 1px 1px);clip: rect(1px, 1px, 1px, 1px);height: 1px;margin: -1px;overflow: hidden;padding: 0;position: absolute;width: 1px;}#sk-container-id-1 div.sk-estimator {font-family: monospace;background-color: #f0f8ff;border: 1px dotted black;border-radius: 0.25em;box-sizing: border-box;margin-bottom: 0.5em;}#sk-container-id-1 div.sk-estimator:hover {background-color: #d4ebff;}#sk-container-id-1 div.sk-parallel-item::after {content: \"\";width: 100%;border-bottom: 1px solid gray;flex-grow: 1;}#sk-container-id-1 div.sk-label:hover label.sk-toggleable__label {background-color: #d4ebff;}#sk-container-id-1 div.sk-serial::before {content: \"\";position: absolute;border-left: 1px solid gray;box-sizing: border-box;top: 0;bottom: 0;left: 50%;z-index: 0;}#sk-container-id-1 div.sk-serial {display: flex;flex-direction: column;align-items: center;background-color: white;padding-right: 0.2em;padding-left: 0.2em;position: relative;}#sk-container-id-1 div.sk-item {position: relative;z-index: 1;}#sk-container-id-1 div.sk-parallel {display: flex;align-items: stretch;justify-content: center;background-color: white;position: relative;}#sk-container-id-1 div.sk-item::before, #sk-container-id-1 div.sk-parallel-item::before {content: \"\";position: absolute;border-left: 1px solid gray;box-sizing: border-box;top: 0;bottom: 0;left: 50%;z-index: -1;}#sk-container-id-1 div.sk-parallel-item {display: flex;flex-direction: column;z-index: 1;position: relative;background-color: white;}#sk-container-id-1 div.sk-parallel-item:first-child::after {align-self: flex-end;width: 50%;}#sk-container-id-1 div.sk-parallel-item:last-child::after {align-self: flex-start;width: 50%;}#sk-container-id-1 div.sk-parallel-item:only-child::after {width: 0;}#sk-container-id-1 div.sk-dashed-wrapped {border: 1px dashed gray;margin: 0 0.4em 0.5em 0.4em;box-sizing: border-box;padding-bottom: 0.4em;background-color: white;}#sk-container-id-1 div.sk-label label {font-family: monospace;font-weight: bold;display: inline-block;line-height: 1.2em;}#sk-container-id-1 div.sk-label-container {text-align: center;}#sk-container-id-1 div.sk-container {/* jupyter's `normalize.less` sets `[hidden] { display: none; }` but bootstrap.min.css set `[hidden] { display: none !important; }` so we also need the `!important` here to be able to override the default hidden behavior on the sphinx rendered scikit-learn.org. See: https://github.com/scikit-learn/scikit-learn/issues/21755 */display: inline-block !important;position: relative;}#sk-container-id-1 div.sk-text-repr-fallback {display: none;}</style><div id=\"sk-container-id-1\" class=\"sk-top-container\"><div class=\"sk-text-repr-fallback\"><pre>RandomForestClassifier(criterion=&#x27;log_loss&#x27;, n_estimators=500, n_jobs=-1,\n",
       "                       random_state=599131614)</pre><b>In a Jupyter environment, please rerun this cell to show the HTML representation or trust the notebook. <br />On GitHub, the HTML representation is unable to render, please try loading this page with nbviewer.org.</b></div><div class=\"sk-container\" hidden><div class=\"sk-item\"><div class=\"sk-estimator sk-toggleable\"><input class=\"sk-toggleable__control sk-hidden--visually\" id=\"sk-estimator-id-1\" type=\"checkbox\" checked><label for=\"sk-estimator-id-1\" class=\"sk-toggleable__label sk-toggleable__label-arrow\">RandomForestClassifier</label><div class=\"sk-toggleable__content\"><pre>RandomForestClassifier(criterion=&#x27;log_loss&#x27;, n_estimators=500, n_jobs=-1,\n",
       "                       random_state=599131614)</pre></div></div></div></div></div>"
      ],
      "text/plain": [
       "RandomForestClassifier(criterion='log_loss', n_estimators=500, n_jobs=-1,\n",
       "                       random_state=599131614)"
      ]
     },
     "execution_count": 10,
     "metadata": {},
     "output_type": "execute_result"
    }
   ],
   "source": [
    "# Training optimal random forest\n",
    "X_train, _, X_test, y_train, _, y_test = datasets[best_RF_params['dataset']]\n",
    "clf = RandomForestClassifier(n_estimators=best_RF_params['n_estimators'], criterion=best_RF_params['criterion'], max_depth=best_RF_params['max_depth'], min_samples_leaf=best_RF_params['min_samples_leaf'], n_jobs=-1, random_state=599131614)\n",
    "clf.fit(X_train, y_train)"
   ]
  },
  {
   "cell_type": "code",
   "execution_count": 11,
   "metadata": {},
   "outputs": [
    {
     "name": "stdout",
     "output_type": "stream",
     "text": [
      "(74552,)\n"
     ]
    }
   ],
   "source": [
    "# Generating feature importances from optimal random forest\n",
    "importances = clf.feature_importances_\n",
    "print(importances.shape)\n",
    "indices = np.argsort(importances)[::-1]"
   ]
  },
  {
   "cell_type": "code",
   "execution_count": 12,
   "metadata": {},
   "outputs": [],
   "source": [
    "def train(config=None):\n",
    "    \"\"\"\n",
    "    Boilerplate for training and evaluating model from hyperparameter grids using wandb.\n",
    "    Boilerplate for each model differes a little bit, hence needs to be manually configured for each model.\n",
    "    \"\"\"\n",
    "    with wandb.init(config=config):\n",
    "        config = wandb.config\n",
    "        X_train, X_val,_ , y_train, y_val, _ = helper.get_features(*datasets[config.dataset], config.num_features, indices)\n",
    "        clf = models[config.model]()\n",
    "        clf.fit(X_train, y_train)\n",
    "        wandb.log({'train_accuracy': accuracy_score(y_train, clf.predict(X_train)), 'val_accuracy': accuracy_score(y_val, clf.predict(X_val))})"
   ]
  },
  {
   "cell_type": "code",
   "execution_count": 13,
   "metadata": {
    "scrolled": true
   },
   "outputs": [
    {
     "name": "stderr",
     "output_type": "stream",
     "text": [
      "\u001b[34m\u001b[1mwandb\u001b[0m: Agent Starting Run: y92tvas1 with config:\n",
      "\u001b[34m\u001b[1mwandb\u001b[0m: \tdataset: bow\n",
      "\u001b[34m\u001b[1mwandb\u001b[0m: \tmodel: Multinomial NB\n",
      "\u001b[34m\u001b[1mwandb\u001b[0m: \tnum_features: 100\n"
     ]
    },
    {
     "data": {
      "text/html": [
       "Tracking run with wandb version 0.19.0"
      ],
      "text/plain": [
       "<IPython.core.display.HTML object>"
      ]
     },
     "metadata": {},
     "output_type": "display_data"
    },
    {
     "data": {
      "text/html": [
       "Run data is saved locally in <code>/home/parkmyungheon/Desktop/Work/CS-433/ml-project-2-yhs2/Sean/wandb/run-20241217_202046-y92tvas1</code>"
      ],
      "text/plain": [
       "<IPython.core.display.HTML object>"
      ]
     },
     "metadata": {},
     "output_type": "display_data"
    },
    {
     "data": {
      "text/html": [
       "Syncing run <strong><a href='https://wandb.ai/cr7_reunited-cr7/epfl_ml_project2/runs/y92tvas1' target=\"_blank\">earthy-sweep-1</a></strong> to <a href='https://wandb.ai/cr7_reunited-cr7/epfl_ml_project2' target=\"_blank\">Weights & Biases</a> (<a href='https://wandb.me/developer-guide' target=\"_blank\">docs</a>)<br/>Sweep page: <a href='https://wandb.ai/cr7_reunited-cr7/epfl_ml_project2/sweeps/tghwcg4n' target=\"_blank\">https://wandb.ai/cr7_reunited-cr7/epfl_ml_project2/sweeps/tghwcg4n</a>"
      ],
      "text/plain": [
       "<IPython.core.display.HTML object>"
      ]
     },
     "metadata": {},
     "output_type": "display_data"
    },
    {
     "data": {
      "text/html": [
       " View project at <a href='https://wandb.ai/cr7_reunited-cr7/epfl_ml_project2' target=\"_blank\">https://wandb.ai/cr7_reunited-cr7/epfl_ml_project2</a>"
      ],
      "text/plain": [
       "<IPython.core.display.HTML object>"
      ]
     },
     "metadata": {},
     "output_type": "display_data"
    },
    {
     "data": {
      "text/html": [
       " View sweep at <a href='https://wandb.ai/cr7_reunited-cr7/epfl_ml_project2/sweeps/tghwcg4n' target=\"_blank\">https://wandb.ai/cr7_reunited-cr7/epfl_ml_project2/sweeps/tghwcg4n</a>"
      ],
      "text/plain": [
       "<IPython.core.display.HTML object>"
      ]
     },
     "metadata": {},
     "output_type": "display_data"
    },
    {
     "data": {
      "text/html": [
       " View run at <a href='https://wandb.ai/cr7_reunited-cr7/epfl_ml_project2/runs/y92tvas1' target=\"_blank\">https://wandb.ai/cr7_reunited-cr7/epfl_ml_project2/runs/y92tvas1</a>"
      ],
      "text/plain": [
       "<IPython.core.display.HTML object>"
      ]
     },
     "metadata": {},
     "output_type": "display_data"
    },
    {
     "data": {
      "text/html": [
       "\n",
       "    <style>\n",
       "        .wandb-row {\n",
       "            display: flex;\n",
       "            flex-direction: row;\n",
       "            flex-wrap: wrap;\n",
       "            justify-content: flex-start;\n",
       "            width: 100%;\n",
       "        }\n",
       "        .wandb-col {\n",
       "            display: flex;\n",
       "            flex-direction: column;\n",
       "            flex-basis: 100%;\n",
       "            flex: 1;\n",
       "            padding: 10px;\n",
       "        }\n",
       "    </style>\n",
       "<div class=\"wandb-row\"><div class=\"wandb-col\"><h3>Run history:</h3><br/><table class=\"wandb\"><tr><td>train_accuracy</td><td>▁</td></tr><tr><td>val_accuracy</td><td>▁</td></tr></table><br/></div><div class=\"wandb-col\"><h3>Run summary:</h3><br/><table class=\"wandb\"><tr><td>train_accuracy</td><td>0.70016</td></tr><tr><td>val_accuracy</td><td>0.68945</td></tr></table><br/></div></div>"
      ],
      "text/plain": [
       "<IPython.core.display.HTML object>"
      ]
     },
     "metadata": {},
     "output_type": "display_data"
    },
    {
     "data": {
      "text/html": [
       " View run <strong style=\"color:#cdcd00\">earthy-sweep-1</strong> at: <a href='https://wandb.ai/cr7_reunited-cr7/epfl_ml_project2/runs/y92tvas1' target=\"_blank\">https://wandb.ai/cr7_reunited-cr7/epfl_ml_project2/runs/y92tvas1</a><br/> View project at: <a href='https://wandb.ai/cr7_reunited-cr7/epfl_ml_project2' target=\"_blank\">https://wandb.ai/cr7_reunited-cr7/epfl_ml_project2</a><br/>Synced 5 W&B file(s), 0 media file(s), 0 artifact file(s) and 0 other file(s)"
      ],
      "text/plain": [
       "<IPython.core.display.HTML object>"
      ]
     },
     "metadata": {},
     "output_type": "display_data"
    },
    {
     "data": {
      "text/html": [
       "Find logs at: <code>./wandb/run-20241217_202046-y92tvas1/logs</code>"
      ],
      "text/plain": [
       "<IPython.core.display.HTML object>"
      ]
     },
     "metadata": {},
     "output_type": "display_data"
    },
    {
     "name": "stderr",
     "output_type": "stream",
     "text": [
      "\u001b[34m\u001b[1mwandb\u001b[0m: Agent Starting Run: h3n7rly5 with config:\n",
      "\u001b[34m\u001b[1mwandb\u001b[0m: \tdataset: bow\n",
      "\u001b[34m\u001b[1mwandb\u001b[0m: \tmodel: Multinomial NB\n",
      "\u001b[34m\u001b[1mwandb\u001b[0m: \tnum_features: 500\n"
     ]
    },
    {
     "data": {
      "text/html": [
       "Tracking run with wandb version 0.19.0"
      ],
      "text/plain": [
       "<IPython.core.display.HTML object>"
      ]
     },
     "metadata": {},
     "output_type": "display_data"
    },
    {
     "data": {
      "text/html": [
       "Run data is saved locally in <code>/home/parkmyungheon/Desktop/Work/CS-433/ml-project-2-yhs2/Sean/wandb/run-20241217_202051-h3n7rly5</code>"
      ],
      "text/plain": [
       "<IPython.core.display.HTML object>"
      ]
     },
     "metadata": {},
     "output_type": "display_data"
    },
    {
     "data": {
      "text/html": [
       "Syncing run <strong><a href='https://wandb.ai/cr7_reunited-cr7/epfl_ml_project2/runs/h3n7rly5' target=\"_blank\">leafy-sweep-2</a></strong> to <a href='https://wandb.ai/cr7_reunited-cr7/epfl_ml_project2' target=\"_blank\">Weights & Biases</a> (<a href='https://wandb.me/developer-guide' target=\"_blank\">docs</a>)<br/>Sweep page: <a href='https://wandb.ai/cr7_reunited-cr7/epfl_ml_project2/sweeps/tghwcg4n' target=\"_blank\">https://wandb.ai/cr7_reunited-cr7/epfl_ml_project2/sweeps/tghwcg4n</a>"
      ],
      "text/plain": [
       "<IPython.core.display.HTML object>"
      ]
     },
     "metadata": {},
     "output_type": "display_data"
    },
    {
     "data": {
      "text/html": [
       " View project at <a href='https://wandb.ai/cr7_reunited-cr7/epfl_ml_project2' target=\"_blank\">https://wandb.ai/cr7_reunited-cr7/epfl_ml_project2</a>"
      ],
      "text/plain": [
       "<IPython.core.display.HTML object>"
      ]
     },
     "metadata": {},
     "output_type": "display_data"
    },
    {
     "data": {
      "text/html": [
       " View sweep at <a href='https://wandb.ai/cr7_reunited-cr7/epfl_ml_project2/sweeps/tghwcg4n' target=\"_blank\">https://wandb.ai/cr7_reunited-cr7/epfl_ml_project2/sweeps/tghwcg4n</a>"
      ],
      "text/plain": [
       "<IPython.core.display.HTML object>"
      ]
     },
     "metadata": {},
     "output_type": "display_data"
    },
    {
     "data": {
      "text/html": [
       " View run at <a href='https://wandb.ai/cr7_reunited-cr7/epfl_ml_project2/runs/h3n7rly5' target=\"_blank\">https://wandb.ai/cr7_reunited-cr7/epfl_ml_project2/runs/h3n7rly5</a>"
      ],
      "text/plain": [
       "<IPython.core.display.HTML object>"
      ]
     },
     "metadata": {},
     "output_type": "display_data"
    },
    {
     "data": {
      "text/html": [
       "\n",
       "    <style>\n",
       "        .wandb-row {\n",
       "            display: flex;\n",
       "            flex-direction: row;\n",
       "            flex-wrap: wrap;\n",
       "            justify-content: flex-start;\n",
       "            width: 100%;\n",
       "        }\n",
       "        .wandb-col {\n",
       "            display: flex;\n",
       "            flex-direction: column;\n",
       "            flex-basis: 100%;\n",
       "            flex: 1;\n",
       "            padding: 10px;\n",
       "        }\n",
       "    </style>\n",
       "<div class=\"wandb-row\"><div class=\"wandb-col\"><h3>Run history:</h3><br/><table class=\"wandb\"><tr><td>train_accuracy</td><td>▁</td></tr><tr><td>val_accuracy</td><td>▁</td></tr></table><br/></div><div class=\"wandb-col\"><h3>Run summary:</h3><br/><table class=\"wandb\"><tr><td>train_accuracy</td><td>0.74103</td></tr><tr><td>val_accuracy</td><td>0.7328</td></tr></table><br/></div></div>"
      ],
      "text/plain": [
       "<IPython.core.display.HTML object>"
      ]
     },
     "metadata": {},
     "output_type": "display_data"
    },
    {
     "data": {
      "text/html": [
       " View run <strong style=\"color:#cdcd00\">leafy-sweep-2</strong> at: <a href='https://wandb.ai/cr7_reunited-cr7/epfl_ml_project2/runs/h3n7rly5' target=\"_blank\">https://wandb.ai/cr7_reunited-cr7/epfl_ml_project2/runs/h3n7rly5</a><br/> View project at: <a href='https://wandb.ai/cr7_reunited-cr7/epfl_ml_project2' target=\"_blank\">https://wandb.ai/cr7_reunited-cr7/epfl_ml_project2</a><br/>Synced 5 W&B file(s), 0 media file(s), 0 artifact file(s) and 0 other file(s)"
      ],
      "text/plain": [
       "<IPython.core.display.HTML object>"
      ]
     },
     "metadata": {},
     "output_type": "display_data"
    },
    {
     "data": {
      "text/html": [
       "Find logs at: <code>./wandb/run-20241217_202051-h3n7rly5/logs</code>"
      ],
      "text/plain": [
       "<IPython.core.display.HTML object>"
      ]
     },
     "metadata": {},
     "output_type": "display_data"
    },
    {
     "name": "stderr",
     "output_type": "stream",
     "text": [
      "\u001b[34m\u001b[1mwandb\u001b[0m: Agent Starting Run: i8uxqyea with config:\n",
      "\u001b[34m\u001b[1mwandb\u001b[0m: \tdataset: bow\n",
      "\u001b[34m\u001b[1mwandb\u001b[0m: \tmodel: Multinomial NB\n",
      "\u001b[34m\u001b[1mwandb\u001b[0m: \tnum_features: 1000\n"
     ]
    },
    {
     "data": {
      "text/html": [
       "Tracking run with wandb version 0.19.0"
      ],
      "text/plain": [
       "<IPython.core.display.HTML object>"
      ]
     },
     "metadata": {},
     "output_type": "display_data"
    },
    {
     "data": {
      "text/html": [
       "Run data is saved locally in <code>/home/parkmyungheon/Desktop/Work/CS-433/ml-project-2-yhs2/Sean/wandb/run-20241217_202056-i8uxqyea</code>"
      ],
      "text/plain": [
       "<IPython.core.display.HTML object>"
      ]
     },
     "metadata": {},
     "output_type": "display_data"
    },
    {
     "data": {
      "text/html": [
       "Syncing run <strong><a href='https://wandb.ai/cr7_reunited-cr7/epfl_ml_project2/runs/i8uxqyea' target=\"_blank\">peach-sweep-3</a></strong> to <a href='https://wandb.ai/cr7_reunited-cr7/epfl_ml_project2' target=\"_blank\">Weights & Biases</a> (<a href='https://wandb.me/developer-guide' target=\"_blank\">docs</a>)<br/>Sweep page: <a href='https://wandb.ai/cr7_reunited-cr7/epfl_ml_project2/sweeps/tghwcg4n' target=\"_blank\">https://wandb.ai/cr7_reunited-cr7/epfl_ml_project2/sweeps/tghwcg4n</a>"
      ],
      "text/plain": [
       "<IPython.core.display.HTML object>"
      ]
     },
     "metadata": {},
     "output_type": "display_data"
    },
    {
     "data": {
      "text/html": [
       " View project at <a href='https://wandb.ai/cr7_reunited-cr7/epfl_ml_project2' target=\"_blank\">https://wandb.ai/cr7_reunited-cr7/epfl_ml_project2</a>"
      ],
      "text/plain": [
       "<IPython.core.display.HTML object>"
      ]
     },
     "metadata": {},
     "output_type": "display_data"
    },
    {
     "data": {
      "text/html": [
       " View sweep at <a href='https://wandb.ai/cr7_reunited-cr7/epfl_ml_project2/sweeps/tghwcg4n' target=\"_blank\">https://wandb.ai/cr7_reunited-cr7/epfl_ml_project2/sweeps/tghwcg4n</a>"
      ],
      "text/plain": [
       "<IPython.core.display.HTML object>"
      ]
     },
     "metadata": {},
     "output_type": "display_data"
    },
    {
     "data": {
      "text/html": [
       " View run at <a href='https://wandb.ai/cr7_reunited-cr7/epfl_ml_project2/runs/i8uxqyea' target=\"_blank\">https://wandb.ai/cr7_reunited-cr7/epfl_ml_project2/runs/i8uxqyea</a>"
      ],
      "text/plain": [
       "<IPython.core.display.HTML object>"
      ]
     },
     "metadata": {},
     "output_type": "display_data"
    },
    {
     "data": {
      "text/html": [
       "\n",
       "    <style>\n",
       "        .wandb-row {\n",
       "            display: flex;\n",
       "            flex-direction: row;\n",
       "            flex-wrap: wrap;\n",
       "            justify-content: flex-start;\n",
       "            width: 100%;\n",
       "        }\n",
       "        .wandb-col {\n",
       "            display: flex;\n",
       "            flex-direction: column;\n",
       "            flex-basis: 100%;\n",
       "            flex: 1;\n",
       "            padding: 10px;\n",
       "        }\n",
       "    </style>\n",
       "<div class=\"wandb-row\"><div class=\"wandb-col\"><h3>Run history:</h3><br/><table class=\"wandb\"><tr><td>train_accuracy</td><td>▁</td></tr><tr><td>val_accuracy</td><td>▁</td></tr></table><br/></div><div class=\"wandb-col\"><h3>Run summary:</h3><br/><table class=\"wandb\"><tr><td>train_accuracy</td><td>0.74958</td></tr><tr><td>val_accuracy</td><td>0.73882</td></tr></table><br/></div></div>"
      ],
      "text/plain": [
       "<IPython.core.display.HTML object>"
      ]
     },
     "metadata": {},
     "output_type": "display_data"
    },
    {
     "data": {
      "text/html": [
       " View run <strong style=\"color:#cdcd00\">peach-sweep-3</strong> at: <a href='https://wandb.ai/cr7_reunited-cr7/epfl_ml_project2/runs/i8uxqyea' target=\"_blank\">https://wandb.ai/cr7_reunited-cr7/epfl_ml_project2/runs/i8uxqyea</a><br/> View project at: <a href='https://wandb.ai/cr7_reunited-cr7/epfl_ml_project2' target=\"_blank\">https://wandb.ai/cr7_reunited-cr7/epfl_ml_project2</a><br/>Synced 5 W&B file(s), 0 media file(s), 0 artifact file(s) and 0 other file(s)"
      ],
      "text/plain": [
       "<IPython.core.display.HTML object>"
      ]
     },
     "metadata": {},
     "output_type": "display_data"
    },
    {
     "data": {
      "text/html": [
       "Find logs at: <code>./wandb/run-20241217_202056-i8uxqyea/logs</code>"
      ],
      "text/plain": [
       "<IPython.core.display.HTML object>"
      ]
     },
     "metadata": {},
     "output_type": "display_data"
    },
    {
     "name": "stderr",
     "output_type": "stream",
     "text": [
      "\u001b[34m\u001b[1mwandb\u001b[0m: Agent Starting Run: o3scmg0u with config:\n",
      "\u001b[34m\u001b[1mwandb\u001b[0m: \tdataset: bow\n",
      "\u001b[34m\u001b[1mwandb\u001b[0m: \tmodel: Multinomial NB\n",
      "\u001b[34m\u001b[1mwandb\u001b[0m: \tnum_features: 5000\n"
     ]
    },
    {
     "data": {
      "text/html": [
       "Tracking run with wandb version 0.19.0"
      ],
      "text/plain": [
       "<IPython.core.display.HTML object>"
      ]
     },
     "metadata": {},
     "output_type": "display_data"
    },
    {
     "data": {
      "text/html": [
       "Run data is saved locally in <code>/home/parkmyungheon/Desktop/Work/CS-433/ml-project-2-yhs2/Sean/wandb/run-20241217_202101-o3scmg0u</code>"
      ],
      "text/plain": [
       "<IPython.core.display.HTML object>"
      ]
     },
     "metadata": {},
     "output_type": "display_data"
    },
    {
     "data": {
      "text/html": [
       "Syncing run <strong><a href='https://wandb.ai/cr7_reunited-cr7/epfl_ml_project2/runs/o3scmg0u' target=\"_blank\">quiet-sweep-4</a></strong> to <a href='https://wandb.ai/cr7_reunited-cr7/epfl_ml_project2' target=\"_blank\">Weights & Biases</a> (<a href='https://wandb.me/developer-guide' target=\"_blank\">docs</a>)<br/>Sweep page: <a href='https://wandb.ai/cr7_reunited-cr7/epfl_ml_project2/sweeps/tghwcg4n' target=\"_blank\">https://wandb.ai/cr7_reunited-cr7/epfl_ml_project2/sweeps/tghwcg4n</a>"
      ],
      "text/plain": [
       "<IPython.core.display.HTML object>"
      ]
     },
     "metadata": {},
     "output_type": "display_data"
    },
    {
     "data": {
      "text/html": [
       " View project at <a href='https://wandb.ai/cr7_reunited-cr7/epfl_ml_project2' target=\"_blank\">https://wandb.ai/cr7_reunited-cr7/epfl_ml_project2</a>"
      ],
      "text/plain": [
       "<IPython.core.display.HTML object>"
      ]
     },
     "metadata": {},
     "output_type": "display_data"
    },
    {
     "data": {
      "text/html": [
       " View sweep at <a href='https://wandb.ai/cr7_reunited-cr7/epfl_ml_project2/sweeps/tghwcg4n' target=\"_blank\">https://wandb.ai/cr7_reunited-cr7/epfl_ml_project2/sweeps/tghwcg4n</a>"
      ],
      "text/plain": [
       "<IPython.core.display.HTML object>"
      ]
     },
     "metadata": {},
     "output_type": "display_data"
    },
    {
     "data": {
      "text/html": [
       " View run at <a href='https://wandb.ai/cr7_reunited-cr7/epfl_ml_project2/runs/o3scmg0u' target=\"_blank\">https://wandb.ai/cr7_reunited-cr7/epfl_ml_project2/runs/o3scmg0u</a>"
      ],
      "text/plain": [
       "<IPython.core.display.HTML object>"
      ]
     },
     "metadata": {},
     "output_type": "display_data"
    },
    {
     "data": {
      "text/html": [
       "\n",
       "    <style>\n",
       "        .wandb-row {\n",
       "            display: flex;\n",
       "            flex-direction: row;\n",
       "            flex-wrap: wrap;\n",
       "            justify-content: flex-start;\n",
       "            width: 100%;\n",
       "        }\n",
       "        .wandb-col {\n",
       "            display: flex;\n",
       "            flex-direction: column;\n",
       "            flex-basis: 100%;\n",
       "            flex: 1;\n",
       "            padding: 10px;\n",
       "        }\n",
       "    </style>\n",
       "<div class=\"wandb-row\"><div class=\"wandb-col\"><h3>Run history:</h3><br/><table class=\"wandb\"><tr><td>train_accuracy</td><td>▁</td></tr><tr><td>val_accuracy</td><td>▁</td></tr></table><br/></div><div class=\"wandb-col\"><h3>Run summary:</h3><br/><table class=\"wandb\"><tr><td>train_accuracy</td><td>0.75656</td></tr><tr><td>val_accuracy</td><td>0.74055</td></tr></table><br/></div></div>"
      ],
      "text/plain": [
       "<IPython.core.display.HTML object>"
      ]
     },
     "metadata": {},
     "output_type": "display_data"
    },
    {
     "data": {
      "text/html": [
       " View run <strong style=\"color:#cdcd00\">quiet-sweep-4</strong> at: <a href='https://wandb.ai/cr7_reunited-cr7/epfl_ml_project2/runs/o3scmg0u' target=\"_blank\">https://wandb.ai/cr7_reunited-cr7/epfl_ml_project2/runs/o3scmg0u</a><br/> View project at: <a href='https://wandb.ai/cr7_reunited-cr7/epfl_ml_project2' target=\"_blank\">https://wandb.ai/cr7_reunited-cr7/epfl_ml_project2</a><br/>Synced 5 W&B file(s), 0 media file(s), 0 artifact file(s) and 0 other file(s)"
      ],
      "text/plain": [
       "<IPython.core.display.HTML object>"
      ]
     },
     "metadata": {},
     "output_type": "display_data"
    },
    {
     "data": {
      "text/html": [
       "Find logs at: <code>./wandb/run-20241217_202101-o3scmg0u/logs</code>"
      ],
      "text/plain": [
       "<IPython.core.display.HTML object>"
      ]
     },
     "metadata": {},
     "output_type": "display_data"
    },
    {
     "name": "stderr",
     "output_type": "stream",
     "text": [
      "\u001b[34m\u001b[1mwandb\u001b[0m: Agent Starting Run: khmkoks5 with config:\n",
      "\u001b[34m\u001b[1mwandb\u001b[0m: \tdataset: bow\n",
      "\u001b[34m\u001b[1mwandb\u001b[0m: \tmodel: Multinomial NB\n",
      "\u001b[34m\u001b[1mwandb\u001b[0m: \tnum_features: 10000\n"
     ]
    },
    {
     "data": {
      "text/html": [
       "Tracking run with wandb version 0.19.0"
      ],
      "text/plain": [
       "<IPython.core.display.HTML object>"
      ]
     },
     "metadata": {},
     "output_type": "display_data"
    },
    {
     "data": {
      "text/html": [
       "Run data is saved locally in <code>/home/parkmyungheon/Desktop/Work/CS-433/ml-project-2-yhs2/Sean/wandb/run-20241217_202107-khmkoks5</code>"
      ],
      "text/plain": [
       "<IPython.core.display.HTML object>"
      ]
     },
     "metadata": {},
     "output_type": "display_data"
    },
    {
     "data": {
      "text/html": [
       "Syncing run <strong><a href='https://wandb.ai/cr7_reunited-cr7/epfl_ml_project2/runs/khmkoks5' target=\"_blank\">deft-sweep-5</a></strong> to <a href='https://wandb.ai/cr7_reunited-cr7/epfl_ml_project2' target=\"_blank\">Weights & Biases</a> (<a href='https://wandb.me/developer-guide' target=\"_blank\">docs</a>)<br/>Sweep page: <a href='https://wandb.ai/cr7_reunited-cr7/epfl_ml_project2/sweeps/tghwcg4n' target=\"_blank\">https://wandb.ai/cr7_reunited-cr7/epfl_ml_project2/sweeps/tghwcg4n</a>"
      ],
      "text/plain": [
       "<IPython.core.display.HTML object>"
      ]
     },
     "metadata": {},
     "output_type": "display_data"
    },
    {
     "data": {
      "text/html": [
       " View project at <a href='https://wandb.ai/cr7_reunited-cr7/epfl_ml_project2' target=\"_blank\">https://wandb.ai/cr7_reunited-cr7/epfl_ml_project2</a>"
      ],
      "text/plain": [
       "<IPython.core.display.HTML object>"
      ]
     },
     "metadata": {},
     "output_type": "display_data"
    },
    {
     "data": {
      "text/html": [
       " View sweep at <a href='https://wandb.ai/cr7_reunited-cr7/epfl_ml_project2/sweeps/tghwcg4n' target=\"_blank\">https://wandb.ai/cr7_reunited-cr7/epfl_ml_project2/sweeps/tghwcg4n</a>"
      ],
      "text/plain": [
       "<IPython.core.display.HTML object>"
      ]
     },
     "metadata": {},
     "output_type": "display_data"
    },
    {
     "data": {
      "text/html": [
       " View run at <a href='https://wandb.ai/cr7_reunited-cr7/epfl_ml_project2/runs/khmkoks5' target=\"_blank\">https://wandb.ai/cr7_reunited-cr7/epfl_ml_project2/runs/khmkoks5</a>"
      ],
      "text/plain": [
       "<IPython.core.display.HTML object>"
      ]
     },
     "metadata": {},
     "output_type": "display_data"
    },
    {
     "data": {
      "text/html": [
       "\n",
       "    <style>\n",
       "        .wandb-row {\n",
       "            display: flex;\n",
       "            flex-direction: row;\n",
       "            flex-wrap: wrap;\n",
       "            justify-content: flex-start;\n",
       "            width: 100%;\n",
       "        }\n",
       "        .wandb-col {\n",
       "            display: flex;\n",
       "            flex-direction: column;\n",
       "            flex-basis: 100%;\n",
       "            flex: 1;\n",
       "            padding: 10px;\n",
       "        }\n",
       "    </style>\n",
       "<div class=\"wandb-row\"><div class=\"wandb-col\"><h3>Run history:</h3><br/><table class=\"wandb\"><tr><td>train_accuracy</td><td>▁</td></tr><tr><td>val_accuracy</td><td>▁</td></tr></table><br/></div><div class=\"wandb-col\"><h3>Run summary:</h3><br/><table class=\"wandb\"><tr><td>train_accuracy</td><td>0.76089</td></tr><tr><td>val_accuracy</td><td>0.73923</td></tr></table><br/></div></div>"
      ],
      "text/plain": [
       "<IPython.core.display.HTML object>"
      ]
     },
     "metadata": {},
     "output_type": "display_data"
    },
    {
     "data": {
      "text/html": [
       " View run <strong style=\"color:#cdcd00\">deft-sweep-5</strong> at: <a href='https://wandb.ai/cr7_reunited-cr7/epfl_ml_project2/runs/khmkoks5' target=\"_blank\">https://wandb.ai/cr7_reunited-cr7/epfl_ml_project2/runs/khmkoks5</a><br/> View project at: <a href='https://wandb.ai/cr7_reunited-cr7/epfl_ml_project2' target=\"_blank\">https://wandb.ai/cr7_reunited-cr7/epfl_ml_project2</a><br/>Synced 5 W&B file(s), 0 media file(s), 0 artifact file(s) and 0 other file(s)"
      ],
      "text/plain": [
       "<IPython.core.display.HTML object>"
      ]
     },
     "metadata": {},
     "output_type": "display_data"
    },
    {
     "data": {
      "text/html": [
       "Find logs at: <code>./wandb/run-20241217_202107-khmkoks5/logs</code>"
      ],
      "text/plain": [
       "<IPython.core.display.HTML object>"
      ]
     },
     "metadata": {},
     "output_type": "display_data"
    },
    {
     "name": "stderr",
     "output_type": "stream",
     "text": [
      "\u001b[34m\u001b[1mwandb\u001b[0m: Agent Starting Run: i7d1r6zi with config:\n",
      "\u001b[34m\u001b[1mwandb\u001b[0m: \tdataset: bow\n",
      "\u001b[34m\u001b[1mwandb\u001b[0m: \tmodel: Multinomial NB\n",
      "\u001b[34m\u001b[1mwandb\u001b[0m: \tnum_features: 20000\n"
     ]
    },
    {
     "data": {
      "text/html": [
       "Tracking run with wandb version 0.19.0"
      ],
      "text/plain": [
       "<IPython.core.display.HTML object>"
      ]
     },
     "metadata": {},
     "output_type": "display_data"
    },
    {
     "data": {
      "text/html": [
       "Run data is saved locally in <code>/home/parkmyungheon/Desktop/Work/CS-433/ml-project-2-yhs2/Sean/wandb/run-20241217_202112-i7d1r6zi</code>"
      ],
      "text/plain": [
       "<IPython.core.display.HTML object>"
      ]
     },
     "metadata": {},
     "output_type": "display_data"
    },
    {
     "data": {
      "text/html": [
       "Syncing run <strong><a href='https://wandb.ai/cr7_reunited-cr7/epfl_ml_project2/runs/i7d1r6zi' target=\"_blank\">revived-sweep-6</a></strong> to <a href='https://wandb.ai/cr7_reunited-cr7/epfl_ml_project2' target=\"_blank\">Weights & Biases</a> (<a href='https://wandb.me/developer-guide' target=\"_blank\">docs</a>)<br/>Sweep page: <a href='https://wandb.ai/cr7_reunited-cr7/epfl_ml_project2/sweeps/tghwcg4n' target=\"_blank\">https://wandb.ai/cr7_reunited-cr7/epfl_ml_project2/sweeps/tghwcg4n</a>"
      ],
      "text/plain": [
       "<IPython.core.display.HTML object>"
      ]
     },
     "metadata": {},
     "output_type": "display_data"
    },
    {
     "data": {
      "text/html": [
       " View project at <a href='https://wandb.ai/cr7_reunited-cr7/epfl_ml_project2' target=\"_blank\">https://wandb.ai/cr7_reunited-cr7/epfl_ml_project2</a>"
      ],
      "text/plain": [
       "<IPython.core.display.HTML object>"
      ]
     },
     "metadata": {},
     "output_type": "display_data"
    },
    {
     "data": {
      "text/html": [
       " View sweep at <a href='https://wandb.ai/cr7_reunited-cr7/epfl_ml_project2/sweeps/tghwcg4n' target=\"_blank\">https://wandb.ai/cr7_reunited-cr7/epfl_ml_project2/sweeps/tghwcg4n</a>"
      ],
      "text/plain": [
       "<IPython.core.display.HTML object>"
      ]
     },
     "metadata": {},
     "output_type": "display_data"
    },
    {
     "data": {
      "text/html": [
       " View run at <a href='https://wandb.ai/cr7_reunited-cr7/epfl_ml_project2/runs/i7d1r6zi' target=\"_blank\">https://wandb.ai/cr7_reunited-cr7/epfl_ml_project2/runs/i7d1r6zi</a>"
      ],
      "text/plain": [
       "<IPython.core.display.HTML object>"
      ]
     },
     "metadata": {},
     "output_type": "display_data"
    },
    {
     "data": {
      "text/html": [
       "\n",
       "    <style>\n",
       "        .wandb-row {\n",
       "            display: flex;\n",
       "            flex-direction: row;\n",
       "            flex-wrap: wrap;\n",
       "            justify-content: flex-start;\n",
       "            width: 100%;\n",
       "        }\n",
       "        .wandb-col {\n",
       "            display: flex;\n",
       "            flex-direction: column;\n",
       "            flex-basis: 100%;\n",
       "            flex: 1;\n",
       "            padding: 10px;\n",
       "        }\n",
       "    </style>\n",
       "<div class=\"wandb-row\"><div class=\"wandb-col\"><h3>Run history:</h3><br/><table class=\"wandb\"><tr><td>train_accuracy</td><td>▁</td></tr><tr><td>val_accuracy</td><td>▁</td></tr></table><br/></div><div class=\"wandb-col\"><h3>Run summary:</h3><br/><table class=\"wandb\"><tr><td>train_accuracy</td><td>0.76687</td></tr><tr><td>val_accuracy</td><td>0.737</td></tr></table><br/></div></div>"
      ],
      "text/plain": [
       "<IPython.core.display.HTML object>"
      ]
     },
     "metadata": {},
     "output_type": "display_data"
    },
    {
     "data": {
      "text/html": [
       " View run <strong style=\"color:#cdcd00\">revived-sweep-6</strong> at: <a href='https://wandb.ai/cr7_reunited-cr7/epfl_ml_project2/runs/i7d1r6zi' target=\"_blank\">https://wandb.ai/cr7_reunited-cr7/epfl_ml_project2/runs/i7d1r6zi</a><br/> View project at: <a href='https://wandb.ai/cr7_reunited-cr7/epfl_ml_project2' target=\"_blank\">https://wandb.ai/cr7_reunited-cr7/epfl_ml_project2</a><br/>Synced 5 W&B file(s), 0 media file(s), 0 artifact file(s) and 0 other file(s)"
      ],
      "text/plain": [
       "<IPython.core.display.HTML object>"
      ]
     },
     "metadata": {},
     "output_type": "display_data"
    },
    {
     "data": {
      "text/html": [
       "Find logs at: <code>./wandb/run-20241217_202112-i7d1r6zi/logs</code>"
      ],
      "text/plain": [
       "<IPython.core.display.HTML object>"
      ]
     },
     "metadata": {},
     "output_type": "display_data"
    },
    {
     "name": "stderr",
     "output_type": "stream",
     "text": [
      "\u001b[34m\u001b[1mwandb\u001b[0m: Agent Starting Run: 4a8wib8o with config:\n",
      "\u001b[34m\u001b[1mwandb\u001b[0m: \tdataset: bow\n",
      "\u001b[34m\u001b[1mwandb\u001b[0m: \tmodel: Multinomial NB\n",
      "\u001b[34m\u001b[1mwandb\u001b[0m: \tnum_features: 50000\n"
     ]
    },
    {
     "data": {
      "text/html": [
       "Tracking run with wandb version 0.19.0"
      ],
      "text/plain": [
       "<IPython.core.display.HTML object>"
      ]
     },
     "metadata": {},
     "output_type": "display_data"
    },
    {
     "data": {
      "text/html": [
       "Run data is saved locally in <code>/home/parkmyungheon/Desktop/Work/CS-433/ml-project-2-yhs2/Sean/wandb/run-20241217_202118-4a8wib8o</code>"
      ],
      "text/plain": [
       "<IPython.core.display.HTML object>"
      ]
     },
     "metadata": {},
     "output_type": "display_data"
    },
    {
     "data": {
      "text/html": [
       "Syncing run <strong><a href='https://wandb.ai/cr7_reunited-cr7/epfl_ml_project2/runs/4a8wib8o' target=\"_blank\">easy-sweep-7</a></strong> to <a href='https://wandb.ai/cr7_reunited-cr7/epfl_ml_project2' target=\"_blank\">Weights & Biases</a> (<a href='https://wandb.me/developer-guide' target=\"_blank\">docs</a>)<br/>Sweep page: <a href='https://wandb.ai/cr7_reunited-cr7/epfl_ml_project2/sweeps/tghwcg4n' target=\"_blank\">https://wandb.ai/cr7_reunited-cr7/epfl_ml_project2/sweeps/tghwcg4n</a>"
      ],
      "text/plain": [
       "<IPython.core.display.HTML object>"
      ]
     },
     "metadata": {},
     "output_type": "display_data"
    },
    {
     "data": {
      "text/html": [
       " View project at <a href='https://wandb.ai/cr7_reunited-cr7/epfl_ml_project2' target=\"_blank\">https://wandb.ai/cr7_reunited-cr7/epfl_ml_project2</a>"
      ],
      "text/plain": [
       "<IPython.core.display.HTML object>"
      ]
     },
     "metadata": {},
     "output_type": "display_data"
    },
    {
     "data": {
      "text/html": [
       " View sweep at <a href='https://wandb.ai/cr7_reunited-cr7/epfl_ml_project2/sweeps/tghwcg4n' target=\"_blank\">https://wandb.ai/cr7_reunited-cr7/epfl_ml_project2/sweeps/tghwcg4n</a>"
      ],
      "text/plain": [
       "<IPython.core.display.HTML object>"
      ]
     },
     "metadata": {},
     "output_type": "display_data"
    },
    {
     "data": {
      "text/html": [
       " View run at <a href='https://wandb.ai/cr7_reunited-cr7/epfl_ml_project2/runs/4a8wib8o' target=\"_blank\">https://wandb.ai/cr7_reunited-cr7/epfl_ml_project2/runs/4a8wib8o</a>"
      ],
      "text/plain": [
       "<IPython.core.display.HTML object>"
      ]
     },
     "metadata": {},
     "output_type": "display_data"
    },
    {
     "data": {
      "text/html": [
       "\n",
       "    <style>\n",
       "        .wandb-row {\n",
       "            display: flex;\n",
       "            flex-direction: row;\n",
       "            flex-wrap: wrap;\n",
       "            justify-content: flex-start;\n",
       "            width: 100%;\n",
       "        }\n",
       "        .wandb-col {\n",
       "            display: flex;\n",
       "            flex-direction: column;\n",
       "            flex-basis: 100%;\n",
       "            flex: 1;\n",
       "            padding: 10px;\n",
       "        }\n",
       "    </style>\n",
       "<div class=\"wandb-row\"><div class=\"wandb-col\"><h3>Run history:</h3><br/><table class=\"wandb\"><tr><td>train_accuracy</td><td>▁</td></tr><tr><td>val_accuracy</td><td>▁</td></tr></table><br/></div><div class=\"wandb-col\"><h3>Run summary:</h3><br/><table class=\"wandb\"><tr><td>train_accuracy</td><td>0.77757</td></tr><tr><td>val_accuracy</td><td>0.7345</td></tr></table><br/></div></div>"
      ],
      "text/plain": [
       "<IPython.core.display.HTML object>"
      ]
     },
     "metadata": {},
     "output_type": "display_data"
    },
    {
     "data": {
      "text/html": [
       " View run <strong style=\"color:#cdcd00\">easy-sweep-7</strong> at: <a href='https://wandb.ai/cr7_reunited-cr7/epfl_ml_project2/runs/4a8wib8o' target=\"_blank\">https://wandb.ai/cr7_reunited-cr7/epfl_ml_project2/runs/4a8wib8o</a><br/> View project at: <a href='https://wandb.ai/cr7_reunited-cr7/epfl_ml_project2' target=\"_blank\">https://wandb.ai/cr7_reunited-cr7/epfl_ml_project2</a><br/>Synced 5 W&B file(s), 0 media file(s), 0 artifact file(s) and 0 other file(s)"
      ],
      "text/plain": [
       "<IPython.core.display.HTML object>"
      ]
     },
     "metadata": {},
     "output_type": "display_data"
    },
    {
     "data": {
      "text/html": [
       "Find logs at: <code>./wandb/run-20241217_202118-4a8wib8o/logs</code>"
      ],
      "text/plain": [
       "<IPython.core.display.HTML object>"
      ]
     },
     "metadata": {},
     "output_type": "display_data"
    },
    {
     "name": "stderr",
     "output_type": "stream",
     "text": [
      "\u001b[34m\u001b[1mwandb\u001b[0m: Agent Starting Run: mxqp2clw with config:\n",
      "\u001b[34m\u001b[1mwandb\u001b[0m: \tdataset: bow\n",
      "\u001b[34m\u001b[1mwandb\u001b[0m: \tmodel: Multinomial NB\n",
      "\u001b[34m\u001b[1mwandb\u001b[0m: \tnum_features: 74552\n"
     ]
    },
    {
     "data": {
      "text/html": [
       "Tracking run with wandb version 0.19.0"
      ],
      "text/plain": [
       "<IPython.core.display.HTML object>"
      ]
     },
     "metadata": {},
     "output_type": "display_data"
    },
    {
     "data": {
      "text/html": [
       "Run data is saved locally in <code>/home/parkmyungheon/Desktop/Work/CS-433/ml-project-2-yhs2/Sean/wandb/run-20241217_202123-mxqp2clw</code>"
      ],
      "text/plain": [
       "<IPython.core.display.HTML object>"
      ]
     },
     "metadata": {},
     "output_type": "display_data"
    },
    {
     "data": {
      "text/html": [
       "Syncing run <strong><a href='https://wandb.ai/cr7_reunited-cr7/epfl_ml_project2/runs/mxqp2clw' target=\"_blank\">fearless-sweep-8</a></strong> to <a href='https://wandb.ai/cr7_reunited-cr7/epfl_ml_project2' target=\"_blank\">Weights & Biases</a> (<a href='https://wandb.me/developer-guide' target=\"_blank\">docs</a>)<br/>Sweep page: <a href='https://wandb.ai/cr7_reunited-cr7/epfl_ml_project2/sweeps/tghwcg4n' target=\"_blank\">https://wandb.ai/cr7_reunited-cr7/epfl_ml_project2/sweeps/tghwcg4n</a>"
      ],
      "text/plain": [
       "<IPython.core.display.HTML object>"
      ]
     },
     "metadata": {},
     "output_type": "display_data"
    },
    {
     "data": {
      "text/html": [
       " View project at <a href='https://wandb.ai/cr7_reunited-cr7/epfl_ml_project2' target=\"_blank\">https://wandb.ai/cr7_reunited-cr7/epfl_ml_project2</a>"
      ],
      "text/plain": [
       "<IPython.core.display.HTML object>"
      ]
     },
     "metadata": {},
     "output_type": "display_data"
    },
    {
     "data": {
      "text/html": [
       " View sweep at <a href='https://wandb.ai/cr7_reunited-cr7/epfl_ml_project2/sweeps/tghwcg4n' target=\"_blank\">https://wandb.ai/cr7_reunited-cr7/epfl_ml_project2/sweeps/tghwcg4n</a>"
      ],
      "text/plain": [
       "<IPython.core.display.HTML object>"
      ]
     },
     "metadata": {},
     "output_type": "display_data"
    },
    {
     "data": {
      "text/html": [
       " View run at <a href='https://wandb.ai/cr7_reunited-cr7/epfl_ml_project2/runs/mxqp2clw' target=\"_blank\">https://wandb.ai/cr7_reunited-cr7/epfl_ml_project2/runs/mxqp2clw</a>"
      ],
      "text/plain": [
       "<IPython.core.display.HTML object>"
      ]
     },
     "metadata": {},
     "output_type": "display_data"
    },
    {
     "data": {
      "text/html": [
       "\n",
       "    <style>\n",
       "        .wandb-row {\n",
       "            display: flex;\n",
       "            flex-direction: row;\n",
       "            flex-wrap: wrap;\n",
       "            justify-content: flex-start;\n",
       "            width: 100%;\n",
       "        }\n",
       "        .wandb-col {\n",
       "            display: flex;\n",
       "            flex-direction: column;\n",
       "            flex-basis: 100%;\n",
       "            flex: 1;\n",
       "            padding: 10px;\n",
       "        }\n",
       "    </style>\n",
       "<div class=\"wandb-row\"><div class=\"wandb-col\"><h3>Run history:</h3><br/><table class=\"wandb\"><tr><td>train_accuracy</td><td>▁</td></tr><tr><td>val_accuracy</td><td>▁</td></tr></table><br/></div><div class=\"wandb-col\"><h3>Run summary:</h3><br/><table class=\"wandb\"><tr><td>train_accuracy</td><td>0.77197</td></tr><tr><td>val_accuracy</td><td>0.72942</td></tr></table><br/></div></div>"
      ],
      "text/plain": [
       "<IPython.core.display.HTML object>"
      ]
     },
     "metadata": {},
     "output_type": "display_data"
    },
    {
     "data": {
      "text/html": [
       " View run <strong style=\"color:#cdcd00\">fearless-sweep-8</strong> at: <a href='https://wandb.ai/cr7_reunited-cr7/epfl_ml_project2/runs/mxqp2clw' target=\"_blank\">https://wandb.ai/cr7_reunited-cr7/epfl_ml_project2/runs/mxqp2clw</a><br/> View project at: <a href='https://wandb.ai/cr7_reunited-cr7/epfl_ml_project2' target=\"_blank\">https://wandb.ai/cr7_reunited-cr7/epfl_ml_project2</a><br/>Synced 5 W&B file(s), 0 media file(s), 0 artifact file(s) and 0 other file(s)"
      ],
      "text/plain": [
       "<IPython.core.display.HTML object>"
      ]
     },
     "metadata": {},
     "output_type": "display_data"
    },
    {
     "data": {
      "text/html": [
       "Find logs at: <code>./wandb/run-20241217_202123-mxqp2clw/logs</code>"
      ],
      "text/plain": [
       "<IPython.core.display.HTML object>"
      ]
     },
     "metadata": {},
     "output_type": "display_data"
    },
    {
     "name": "stderr",
     "output_type": "stream",
     "text": [
      "\u001b[34m\u001b[1mwandb\u001b[0m: Agent Starting Run: jxeyzulx with config:\n",
      "\u001b[34m\u001b[1mwandb\u001b[0m: \tdataset: bow\n",
      "\u001b[34m\u001b[1mwandb\u001b[0m: \tmodel: Complement NB\n",
      "\u001b[34m\u001b[1mwandb\u001b[0m: \tnum_features: 100\n"
     ]
    },
    {
     "data": {
      "text/html": [
       "Tracking run with wandb version 0.19.0"
      ],
      "text/plain": [
       "<IPython.core.display.HTML object>"
      ]
     },
     "metadata": {},
     "output_type": "display_data"
    },
    {
     "data": {
      "text/html": [
       "Run data is saved locally in <code>/home/parkmyungheon/Desktop/Work/CS-433/ml-project-2-yhs2/Sean/wandb/run-20241217_202128-jxeyzulx</code>"
      ],
      "text/plain": [
       "<IPython.core.display.HTML object>"
      ]
     },
     "metadata": {},
     "output_type": "display_data"
    },
    {
     "data": {
      "text/html": [
       "Syncing run <strong><a href='https://wandb.ai/cr7_reunited-cr7/epfl_ml_project2/runs/jxeyzulx' target=\"_blank\">exalted-sweep-9</a></strong> to <a href='https://wandb.ai/cr7_reunited-cr7/epfl_ml_project2' target=\"_blank\">Weights & Biases</a> (<a href='https://wandb.me/developer-guide' target=\"_blank\">docs</a>)<br/>Sweep page: <a href='https://wandb.ai/cr7_reunited-cr7/epfl_ml_project2/sweeps/tghwcg4n' target=\"_blank\">https://wandb.ai/cr7_reunited-cr7/epfl_ml_project2/sweeps/tghwcg4n</a>"
      ],
      "text/plain": [
       "<IPython.core.display.HTML object>"
      ]
     },
     "metadata": {},
     "output_type": "display_data"
    },
    {
     "data": {
      "text/html": [
       " View project at <a href='https://wandb.ai/cr7_reunited-cr7/epfl_ml_project2' target=\"_blank\">https://wandb.ai/cr7_reunited-cr7/epfl_ml_project2</a>"
      ],
      "text/plain": [
       "<IPython.core.display.HTML object>"
      ]
     },
     "metadata": {},
     "output_type": "display_data"
    },
    {
     "data": {
      "text/html": [
       " View sweep at <a href='https://wandb.ai/cr7_reunited-cr7/epfl_ml_project2/sweeps/tghwcg4n' target=\"_blank\">https://wandb.ai/cr7_reunited-cr7/epfl_ml_project2/sweeps/tghwcg4n</a>"
      ],
      "text/plain": [
       "<IPython.core.display.HTML object>"
      ]
     },
     "metadata": {},
     "output_type": "display_data"
    },
    {
     "data": {
      "text/html": [
       " View run at <a href='https://wandb.ai/cr7_reunited-cr7/epfl_ml_project2/runs/jxeyzulx' target=\"_blank\">https://wandb.ai/cr7_reunited-cr7/epfl_ml_project2/runs/jxeyzulx</a>"
      ],
      "text/plain": [
       "<IPython.core.display.HTML object>"
      ]
     },
     "metadata": {},
     "output_type": "display_data"
    },
    {
     "data": {
      "text/html": [
       "\n",
       "    <style>\n",
       "        .wandb-row {\n",
       "            display: flex;\n",
       "            flex-direction: row;\n",
       "            flex-wrap: wrap;\n",
       "            justify-content: flex-start;\n",
       "            width: 100%;\n",
       "        }\n",
       "        .wandb-col {\n",
       "            display: flex;\n",
       "            flex-direction: column;\n",
       "            flex-basis: 100%;\n",
       "            flex: 1;\n",
       "            padding: 10px;\n",
       "        }\n",
       "    </style>\n",
       "<div class=\"wandb-row\"><div class=\"wandb-col\"><h3>Run history:</h3><br/><table class=\"wandb\"><tr><td>train_accuracy</td><td>▁</td></tr><tr><td>val_accuracy</td><td>▁</td></tr></table><br/></div><div class=\"wandb-col\"><h3>Run summary:</h3><br/><table class=\"wandb\"><tr><td>train_accuracy</td><td>0.69973</td></tr><tr><td>val_accuracy</td><td>0.68837</td></tr></table><br/></div></div>"
      ],
      "text/plain": [
       "<IPython.core.display.HTML object>"
      ]
     },
     "metadata": {},
     "output_type": "display_data"
    },
    {
     "data": {
      "text/html": [
       " View run <strong style=\"color:#cdcd00\">exalted-sweep-9</strong> at: <a href='https://wandb.ai/cr7_reunited-cr7/epfl_ml_project2/runs/jxeyzulx' target=\"_blank\">https://wandb.ai/cr7_reunited-cr7/epfl_ml_project2/runs/jxeyzulx</a><br/> View project at: <a href='https://wandb.ai/cr7_reunited-cr7/epfl_ml_project2' target=\"_blank\">https://wandb.ai/cr7_reunited-cr7/epfl_ml_project2</a><br/>Synced 5 W&B file(s), 0 media file(s), 0 artifact file(s) and 0 other file(s)"
      ],
      "text/plain": [
       "<IPython.core.display.HTML object>"
      ]
     },
     "metadata": {},
     "output_type": "display_data"
    },
    {
     "data": {
      "text/html": [
       "Find logs at: <code>./wandb/run-20241217_202128-jxeyzulx/logs</code>"
      ],
      "text/plain": [
       "<IPython.core.display.HTML object>"
      ]
     },
     "metadata": {},
     "output_type": "display_data"
    },
    {
     "name": "stderr",
     "output_type": "stream",
     "text": [
      "\u001b[34m\u001b[1mwandb\u001b[0m: Agent Starting Run: dn9mas2b with config:\n",
      "\u001b[34m\u001b[1mwandb\u001b[0m: \tdataset: bow\n",
      "\u001b[34m\u001b[1mwandb\u001b[0m: \tmodel: Complement NB\n",
      "\u001b[34m\u001b[1mwandb\u001b[0m: \tnum_features: 500\n"
     ]
    },
    {
     "data": {
      "text/html": [
       "Tracking run with wandb version 0.19.0"
      ],
      "text/plain": [
       "<IPython.core.display.HTML object>"
      ]
     },
     "metadata": {},
     "output_type": "display_data"
    },
    {
     "data": {
      "text/html": [
       "Run data is saved locally in <code>/home/parkmyungheon/Desktop/Work/CS-433/ml-project-2-yhs2/Sean/wandb/run-20241217_202133-dn9mas2b</code>"
      ],
      "text/plain": [
       "<IPython.core.display.HTML object>"
      ]
     },
     "metadata": {},
     "output_type": "display_data"
    },
    {
     "data": {
      "text/html": [
       "Syncing run <strong><a href='https://wandb.ai/cr7_reunited-cr7/epfl_ml_project2/runs/dn9mas2b' target=\"_blank\">swift-sweep-10</a></strong> to <a href='https://wandb.ai/cr7_reunited-cr7/epfl_ml_project2' target=\"_blank\">Weights & Biases</a> (<a href='https://wandb.me/developer-guide' target=\"_blank\">docs</a>)<br/>Sweep page: <a href='https://wandb.ai/cr7_reunited-cr7/epfl_ml_project2/sweeps/tghwcg4n' target=\"_blank\">https://wandb.ai/cr7_reunited-cr7/epfl_ml_project2/sweeps/tghwcg4n</a>"
      ],
      "text/plain": [
       "<IPython.core.display.HTML object>"
      ]
     },
     "metadata": {},
     "output_type": "display_data"
    },
    {
     "data": {
      "text/html": [
       " View project at <a href='https://wandb.ai/cr7_reunited-cr7/epfl_ml_project2' target=\"_blank\">https://wandb.ai/cr7_reunited-cr7/epfl_ml_project2</a>"
      ],
      "text/plain": [
       "<IPython.core.display.HTML object>"
      ]
     },
     "metadata": {},
     "output_type": "display_data"
    },
    {
     "data": {
      "text/html": [
       " View sweep at <a href='https://wandb.ai/cr7_reunited-cr7/epfl_ml_project2/sweeps/tghwcg4n' target=\"_blank\">https://wandb.ai/cr7_reunited-cr7/epfl_ml_project2/sweeps/tghwcg4n</a>"
      ],
      "text/plain": [
       "<IPython.core.display.HTML object>"
      ]
     },
     "metadata": {},
     "output_type": "display_data"
    },
    {
     "data": {
      "text/html": [
       " View run at <a href='https://wandb.ai/cr7_reunited-cr7/epfl_ml_project2/runs/dn9mas2b' target=\"_blank\">https://wandb.ai/cr7_reunited-cr7/epfl_ml_project2/runs/dn9mas2b</a>"
      ],
      "text/plain": [
       "<IPython.core.display.HTML object>"
      ]
     },
     "metadata": {},
     "output_type": "display_data"
    },
    {
     "data": {
      "text/html": [
       "\n",
       "    <style>\n",
       "        .wandb-row {\n",
       "            display: flex;\n",
       "            flex-direction: row;\n",
       "            flex-wrap: wrap;\n",
       "            justify-content: flex-start;\n",
       "            width: 100%;\n",
       "        }\n",
       "        .wandb-col {\n",
       "            display: flex;\n",
       "            flex-direction: column;\n",
       "            flex-basis: 100%;\n",
       "            flex: 1;\n",
       "            padding: 10px;\n",
       "        }\n",
       "    </style>\n",
       "<div class=\"wandb-row\"><div class=\"wandb-col\"><h3>Run history:</h3><br/><table class=\"wandb\"><tr><td>train_accuracy</td><td>▁</td></tr><tr><td>val_accuracy</td><td>▁</td></tr></table><br/></div><div class=\"wandb-col\"><h3>Run summary:</h3><br/><table class=\"wandb\"><tr><td>train_accuracy</td><td>0.7409</td></tr><tr><td>val_accuracy</td><td>0.73303</td></tr></table><br/></div></div>"
      ],
      "text/plain": [
       "<IPython.core.display.HTML object>"
      ]
     },
     "metadata": {},
     "output_type": "display_data"
    },
    {
     "data": {
      "text/html": [
       " View run <strong style=\"color:#cdcd00\">swift-sweep-10</strong> at: <a href='https://wandb.ai/cr7_reunited-cr7/epfl_ml_project2/runs/dn9mas2b' target=\"_blank\">https://wandb.ai/cr7_reunited-cr7/epfl_ml_project2/runs/dn9mas2b</a><br/> View project at: <a href='https://wandb.ai/cr7_reunited-cr7/epfl_ml_project2' target=\"_blank\">https://wandb.ai/cr7_reunited-cr7/epfl_ml_project2</a><br/>Synced 5 W&B file(s), 0 media file(s), 0 artifact file(s) and 0 other file(s)"
      ],
      "text/plain": [
       "<IPython.core.display.HTML object>"
      ]
     },
     "metadata": {},
     "output_type": "display_data"
    },
    {
     "data": {
      "text/html": [
       "Find logs at: <code>./wandb/run-20241217_202133-dn9mas2b/logs</code>"
      ],
      "text/plain": [
       "<IPython.core.display.HTML object>"
      ]
     },
     "metadata": {},
     "output_type": "display_data"
    },
    {
     "name": "stderr",
     "output_type": "stream",
     "text": [
      "\u001b[34m\u001b[1mwandb\u001b[0m: Agent Starting Run: vmfaqj24 with config:\n",
      "\u001b[34m\u001b[1mwandb\u001b[0m: \tdataset: bow\n",
      "\u001b[34m\u001b[1mwandb\u001b[0m: \tmodel: Complement NB\n",
      "\u001b[34m\u001b[1mwandb\u001b[0m: \tnum_features: 1000\n"
     ]
    },
    {
     "data": {
      "text/html": [
       "Tracking run with wandb version 0.19.0"
      ],
      "text/plain": [
       "<IPython.core.display.HTML object>"
      ]
     },
     "metadata": {},
     "output_type": "display_data"
    },
    {
     "data": {
      "text/html": [
       "Run data is saved locally in <code>/home/parkmyungheon/Desktop/Work/CS-433/ml-project-2-yhs2/Sean/wandb/run-20241217_202139-vmfaqj24</code>"
      ],
      "text/plain": [
       "<IPython.core.display.HTML object>"
      ]
     },
     "metadata": {},
     "output_type": "display_data"
    },
    {
     "data": {
      "text/html": [
       "Syncing run <strong><a href='https://wandb.ai/cr7_reunited-cr7/epfl_ml_project2/runs/vmfaqj24' target=\"_blank\">lunar-sweep-11</a></strong> to <a href='https://wandb.ai/cr7_reunited-cr7/epfl_ml_project2' target=\"_blank\">Weights & Biases</a> (<a href='https://wandb.me/developer-guide' target=\"_blank\">docs</a>)<br/>Sweep page: <a href='https://wandb.ai/cr7_reunited-cr7/epfl_ml_project2/sweeps/tghwcg4n' target=\"_blank\">https://wandb.ai/cr7_reunited-cr7/epfl_ml_project2/sweeps/tghwcg4n</a>"
      ],
      "text/plain": [
       "<IPython.core.display.HTML object>"
      ]
     },
     "metadata": {},
     "output_type": "display_data"
    },
    {
     "data": {
      "text/html": [
       " View project at <a href='https://wandb.ai/cr7_reunited-cr7/epfl_ml_project2' target=\"_blank\">https://wandb.ai/cr7_reunited-cr7/epfl_ml_project2</a>"
      ],
      "text/plain": [
       "<IPython.core.display.HTML object>"
      ]
     },
     "metadata": {},
     "output_type": "display_data"
    },
    {
     "data": {
      "text/html": [
       " View sweep at <a href='https://wandb.ai/cr7_reunited-cr7/epfl_ml_project2/sweeps/tghwcg4n' target=\"_blank\">https://wandb.ai/cr7_reunited-cr7/epfl_ml_project2/sweeps/tghwcg4n</a>"
      ],
      "text/plain": [
       "<IPython.core.display.HTML object>"
      ]
     },
     "metadata": {},
     "output_type": "display_data"
    },
    {
     "data": {
      "text/html": [
       " View run at <a href='https://wandb.ai/cr7_reunited-cr7/epfl_ml_project2/runs/vmfaqj24' target=\"_blank\">https://wandb.ai/cr7_reunited-cr7/epfl_ml_project2/runs/vmfaqj24</a>"
      ],
      "text/plain": [
       "<IPython.core.display.HTML object>"
      ]
     },
     "metadata": {},
     "output_type": "display_data"
    },
    {
     "data": {
      "text/html": [
       "\n",
       "    <style>\n",
       "        .wandb-row {\n",
       "            display: flex;\n",
       "            flex-direction: row;\n",
       "            flex-wrap: wrap;\n",
       "            justify-content: flex-start;\n",
       "            width: 100%;\n",
       "        }\n",
       "        .wandb-col {\n",
       "            display: flex;\n",
       "            flex-direction: column;\n",
       "            flex-basis: 100%;\n",
       "            flex: 1;\n",
       "            padding: 10px;\n",
       "        }\n",
       "    </style>\n",
       "<div class=\"wandb-row\"><div class=\"wandb-col\"><h3>Run history:</h3><br/><table class=\"wandb\"><tr><td>train_accuracy</td><td>▁</td></tr><tr><td>val_accuracy</td><td>▁</td></tr></table><br/></div><div class=\"wandb-col\"><h3>Run summary:</h3><br/><table class=\"wandb\"><tr><td>train_accuracy</td><td>0.74971</td></tr><tr><td>val_accuracy</td><td>0.73872</td></tr></table><br/></div></div>"
      ],
      "text/plain": [
       "<IPython.core.display.HTML object>"
      ]
     },
     "metadata": {},
     "output_type": "display_data"
    },
    {
     "data": {
      "text/html": [
       " View run <strong style=\"color:#cdcd00\">lunar-sweep-11</strong> at: <a href='https://wandb.ai/cr7_reunited-cr7/epfl_ml_project2/runs/vmfaqj24' target=\"_blank\">https://wandb.ai/cr7_reunited-cr7/epfl_ml_project2/runs/vmfaqj24</a><br/> View project at: <a href='https://wandb.ai/cr7_reunited-cr7/epfl_ml_project2' target=\"_blank\">https://wandb.ai/cr7_reunited-cr7/epfl_ml_project2</a><br/>Synced 5 W&B file(s), 0 media file(s), 0 artifact file(s) and 0 other file(s)"
      ],
      "text/plain": [
       "<IPython.core.display.HTML object>"
      ]
     },
     "metadata": {},
     "output_type": "display_data"
    },
    {
     "data": {
      "text/html": [
       "Find logs at: <code>./wandb/run-20241217_202139-vmfaqj24/logs</code>"
      ],
      "text/plain": [
       "<IPython.core.display.HTML object>"
      ]
     },
     "metadata": {},
     "output_type": "display_data"
    },
    {
     "name": "stderr",
     "output_type": "stream",
     "text": [
      "\u001b[34m\u001b[1mwandb\u001b[0m: Agent Starting Run: e769ial3 with config:\n",
      "\u001b[34m\u001b[1mwandb\u001b[0m: \tdataset: bow\n",
      "\u001b[34m\u001b[1mwandb\u001b[0m: \tmodel: Complement NB\n",
      "\u001b[34m\u001b[1mwandb\u001b[0m: \tnum_features: 5000\n"
     ]
    },
    {
     "data": {
      "text/html": [
       "Tracking run with wandb version 0.19.0"
      ],
      "text/plain": [
       "<IPython.core.display.HTML object>"
      ]
     },
     "metadata": {},
     "output_type": "display_data"
    },
    {
     "data": {
      "text/html": [
       "Run data is saved locally in <code>/home/parkmyungheon/Desktop/Work/CS-433/ml-project-2-yhs2/Sean/wandb/run-20241217_202144-e769ial3</code>"
      ],
      "text/plain": [
       "<IPython.core.display.HTML object>"
      ]
     },
     "metadata": {},
     "output_type": "display_data"
    },
    {
     "data": {
      "text/html": [
       "Syncing run <strong><a href='https://wandb.ai/cr7_reunited-cr7/epfl_ml_project2/runs/e769ial3' target=\"_blank\">upbeat-sweep-12</a></strong> to <a href='https://wandb.ai/cr7_reunited-cr7/epfl_ml_project2' target=\"_blank\">Weights & Biases</a> (<a href='https://wandb.me/developer-guide' target=\"_blank\">docs</a>)<br/>Sweep page: <a href='https://wandb.ai/cr7_reunited-cr7/epfl_ml_project2/sweeps/tghwcg4n' target=\"_blank\">https://wandb.ai/cr7_reunited-cr7/epfl_ml_project2/sweeps/tghwcg4n</a>"
      ],
      "text/plain": [
       "<IPython.core.display.HTML object>"
      ]
     },
     "metadata": {},
     "output_type": "display_data"
    },
    {
     "data": {
      "text/html": [
       " View project at <a href='https://wandb.ai/cr7_reunited-cr7/epfl_ml_project2' target=\"_blank\">https://wandb.ai/cr7_reunited-cr7/epfl_ml_project2</a>"
      ],
      "text/plain": [
       "<IPython.core.display.HTML object>"
      ]
     },
     "metadata": {},
     "output_type": "display_data"
    },
    {
     "data": {
      "text/html": [
       " View sweep at <a href='https://wandb.ai/cr7_reunited-cr7/epfl_ml_project2/sweeps/tghwcg4n' target=\"_blank\">https://wandb.ai/cr7_reunited-cr7/epfl_ml_project2/sweeps/tghwcg4n</a>"
      ],
      "text/plain": [
       "<IPython.core.display.HTML object>"
      ]
     },
     "metadata": {},
     "output_type": "display_data"
    },
    {
     "data": {
      "text/html": [
       " View run at <a href='https://wandb.ai/cr7_reunited-cr7/epfl_ml_project2/runs/e769ial3' target=\"_blank\">https://wandb.ai/cr7_reunited-cr7/epfl_ml_project2/runs/e769ial3</a>"
      ],
      "text/plain": [
       "<IPython.core.display.HTML object>"
      ]
     },
     "metadata": {},
     "output_type": "display_data"
    },
    {
     "data": {
      "text/html": [
       "\n",
       "    <style>\n",
       "        .wandb-row {\n",
       "            display: flex;\n",
       "            flex-direction: row;\n",
       "            flex-wrap: wrap;\n",
       "            justify-content: flex-start;\n",
       "            width: 100%;\n",
       "        }\n",
       "        .wandb-col {\n",
       "            display: flex;\n",
       "            flex-direction: column;\n",
       "            flex-basis: 100%;\n",
       "            flex: 1;\n",
       "            padding: 10px;\n",
       "        }\n",
       "    </style>\n",
       "<div class=\"wandb-row\"><div class=\"wandb-col\"><h3>Run history:</h3><br/><table class=\"wandb\"><tr><td>train_accuracy</td><td>▁</td></tr><tr><td>val_accuracy</td><td>▁</td></tr></table><br/></div><div class=\"wandb-col\"><h3>Run summary:</h3><br/><table class=\"wandb\"><tr><td>train_accuracy</td><td>0.75668</td></tr><tr><td>val_accuracy</td><td>0.74065</td></tr></table><br/></div></div>"
      ],
      "text/plain": [
       "<IPython.core.display.HTML object>"
      ]
     },
     "metadata": {},
     "output_type": "display_data"
    },
    {
     "data": {
      "text/html": [
       " View run <strong style=\"color:#cdcd00\">upbeat-sweep-12</strong> at: <a href='https://wandb.ai/cr7_reunited-cr7/epfl_ml_project2/runs/e769ial3' target=\"_blank\">https://wandb.ai/cr7_reunited-cr7/epfl_ml_project2/runs/e769ial3</a><br/> View project at: <a href='https://wandb.ai/cr7_reunited-cr7/epfl_ml_project2' target=\"_blank\">https://wandb.ai/cr7_reunited-cr7/epfl_ml_project2</a><br/>Synced 5 W&B file(s), 0 media file(s), 0 artifact file(s) and 0 other file(s)"
      ],
      "text/plain": [
       "<IPython.core.display.HTML object>"
      ]
     },
     "metadata": {},
     "output_type": "display_data"
    },
    {
     "data": {
      "text/html": [
       "Find logs at: <code>./wandb/run-20241217_202144-e769ial3/logs</code>"
      ],
      "text/plain": [
       "<IPython.core.display.HTML object>"
      ]
     },
     "metadata": {},
     "output_type": "display_data"
    },
    {
     "name": "stderr",
     "output_type": "stream",
     "text": [
      "\u001b[34m\u001b[1mwandb\u001b[0m: Agent Starting Run: im3qo4cf with config:\n",
      "\u001b[34m\u001b[1mwandb\u001b[0m: \tdataset: bow\n",
      "\u001b[34m\u001b[1mwandb\u001b[0m: \tmodel: Complement NB\n",
      "\u001b[34m\u001b[1mwandb\u001b[0m: \tnum_features: 10000\n"
     ]
    },
    {
     "data": {
      "text/html": [
       "Tracking run with wandb version 0.19.0"
      ],
      "text/plain": [
       "<IPython.core.display.HTML object>"
      ]
     },
     "metadata": {},
     "output_type": "display_data"
    },
    {
     "data": {
      "text/html": [
       "Run data is saved locally in <code>/home/parkmyungheon/Desktop/Work/CS-433/ml-project-2-yhs2/Sean/wandb/run-20241217_202149-im3qo4cf</code>"
      ],
      "text/plain": [
       "<IPython.core.display.HTML object>"
      ]
     },
     "metadata": {},
     "output_type": "display_data"
    },
    {
     "data": {
      "text/html": [
       "Syncing run <strong><a href='https://wandb.ai/cr7_reunited-cr7/epfl_ml_project2/runs/im3qo4cf' target=\"_blank\">still-sweep-13</a></strong> to <a href='https://wandb.ai/cr7_reunited-cr7/epfl_ml_project2' target=\"_blank\">Weights & Biases</a> (<a href='https://wandb.me/developer-guide' target=\"_blank\">docs</a>)<br/>Sweep page: <a href='https://wandb.ai/cr7_reunited-cr7/epfl_ml_project2/sweeps/tghwcg4n' target=\"_blank\">https://wandb.ai/cr7_reunited-cr7/epfl_ml_project2/sweeps/tghwcg4n</a>"
      ],
      "text/plain": [
       "<IPython.core.display.HTML object>"
      ]
     },
     "metadata": {},
     "output_type": "display_data"
    },
    {
     "data": {
      "text/html": [
       " View project at <a href='https://wandb.ai/cr7_reunited-cr7/epfl_ml_project2' target=\"_blank\">https://wandb.ai/cr7_reunited-cr7/epfl_ml_project2</a>"
      ],
      "text/plain": [
       "<IPython.core.display.HTML object>"
      ]
     },
     "metadata": {},
     "output_type": "display_data"
    },
    {
     "data": {
      "text/html": [
       " View sweep at <a href='https://wandb.ai/cr7_reunited-cr7/epfl_ml_project2/sweeps/tghwcg4n' target=\"_blank\">https://wandb.ai/cr7_reunited-cr7/epfl_ml_project2/sweeps/tghwcg4n</a>"
      ],
      "text/plain": [
       "<IPython.core.display.HTML object>"
      ]
     },
     "metadata": {},
     "output_type": "display_data"
    },
    {
     "data": {
      "text/html": [
       " View run at <a href='https://wandb.ai/cr7_reunited-cr7/epfl_ml_project2/runs/im3qo4cf' target=\"_blank\">https://wandb.ai/cr7_reunited-cr7/epfl_ml_project2/runs/im3qo4cf</a>"
      ],
      "text/plain": [
       "<IPython.core.display.HTML object>"
      ]
     },
     "metadata": {},
     "output_type": "display_data"
    },
    {
     "data": {
      "text/html": [
       "\n",
       "    <style>\n",
       "        .wandb-row {\n",
       "            display: flex;\n",
       "            flex-direction: row;\n",
       "            flex-wrap: wrap;\n",
       "            justify-content: flex-start;\n",
       "            width: 100%;\n",
       "        }\n",
       "        .wandb-col {\n",
       "            display: flex;\n",
       "            flex-direction: column;\n",
       "            flex-basis: 100%;\n",
       "            flex: 1;\n",
       "            padding: 10px;\n",
       "        }\n",
       "    </style>\n",
       "<div class=\"wandb-row\"><div class=\"wandb-col\"><h3>Run history:</h3><br/><table class=\"wandb\"><tr><td>train_accuracy</td><td>▁</td></tr><tr><td>val_accuracy</td><td>▁</td></tr></table><br/></div><div class=\"wandb-col\"><h3>Run summary:</h3><br/><table class=\"wandb\"><tr><td>train_accuracy</td><td>0.76104</td></tr><tr><td>val_accuracy</td><td>0.73957</td></tr></table><br/></div></div>"
      ],
      "text/plain": [
       "<IPython.core.display.HTML object>"
      ]
     },
     "metadata": {},
     "output_type": "display_data"
    },
    {
     "data": {
      "text/html": [
       " View run <strong style=\"color:#cdcd00\">still-sweep-13</strong> at: <a href='https://wandb.ai/cr7_reunited-cr7/epfl_ml_project2/runs/im3qo4cf' target=\"_blank\">https://wandb.ai/cr7_reunited-cr7/epfl_ml_project2/runs/im3qo4cf</a><br/> View project at: <a href='https://wandb.ai/cr7_reunited-cr7/epfl_ml_project2' target=\"_blank\">https://wandb.ai/cr7_reunited-cr7/epfl_ml_project2</a><br/>Synced 5 W&B file(s), 0 media file(s), 0 artifact file(s) and 0 other file(s)"
      ],
      "text/plain": [
       "<IPython.core.display.HTML object>"
      ]
     },
     "metadata": {},
     "output_type": "display_data"
    },
    {
     "data": {
      "text/html": [
       "Find logs at: <code>./wandb/run-20241217_202149-im3qo4cf/logs</code>"
      ],
      "text/plain": [
       "<IPython.core.display.HTML object>"
      ]
     },
     "metadata": {},
     "output_type": "display_data"
    },
    {
     "name": "stderr",
     "output_type": "stream",
     "text": [
      "\u001b[34m\u001b[1mwandb\u001b[0m: Agent Starting Run: 3oehwf00 with config:\n",
      "\u001b[34m\u001b[1mwandb\u001b[0m: \tdataset: bow\n",
      "\u001b[34m\u001b[1mwandb\u001b[0m: \tmodel: Complement NB\n",
      "\u001b[34m\u001b[1mwandb\u001b[0m: \tnum_features: 20000\n"
     ]
    },
    {
     "data": {
      "text/html": [
       "Tracking run with wandb version 0.19.0"
      ],
      "text/plain": [
       "<IPython.core.display.HTML object>"
      ]
     },
     "metadata": {},
     "output_type": "display_data"
    },
    {
     "data": {
      "text/html": [
       "Run data is saved locally in <code>/home/parkmyungheon/Desktop/Work/CS-433/ml-project-2-yhs2/Sean/wandb/run-20241217_202155-3oehwf00</code>"
      ],
      "text/plain": [
       "<IPython.core.display.HTML object>"
      ]
     },
     "metadata": {},
     "output_type": "display_data"
    },
    {
     "data": {
      "text/html": [
       "Syncing run <strong><a href='https://wandb.ai/cr7_reunited-cr7/epfl_ml_project2/runs/3oehwf00' target=\"_blank\">genial-sweep-14</a></strong> to <a href='https://wandb.ai/cr7_reunited-cr7/epfl_ml_project2' target=\"_blank\">Weights & Biases</a> (<a href='https://wandb.me/developer-guide' target=\"_blank\">docs</a>)<br/>Sweep page: <a href='https://wandb.ai/cr7_reunited-cr7/epfl_ml_project2/sweeps/tghwcg4n' target=\"_blank\">https://wandb.ai/cr7_reunited-cr7/epfl_ml_project2/sweeps/tghwcg4n</a>"
      ],
      "text/plain": [
       "<IPython.core.display.HTML object>"
      ]
     },
     "metadata": {},
     "output_type": "display_data"
    },
    {
     "data": {
      "text/html": [
       " View project at <a href='https://wandb.ai/cr7_reunited-cr7/epfl_ml_project2' target=\"_blank\">https://wandb.ai/cr7_reunited-cr7/epfl_ml_project2</a>"
      ],
      "text/plain": [
       "<IPython.core.display.HTML object>"
      ]
     },
     "metadata": {},
     "output_type": "display_data"
    },
    {
     "data": {
      "text/html": [
       " View sweep at <a href='https://wandb.ai/cr7_reunited-cr7/epfl_ml_project2/sweeps/tghwcg4n' target=\"_blank\">https://wandb.ai/cr7_reunited-cr7/epfl_ml_project2/sweeps/tghwcg4n</a>"
      ],
      "text/plain": [
       "<IPython.core.display.HTML object>"
      ]
     },
     "metadata": {},
     "output_type": "display_data"
    },
    {
     "data": {
      "text/html": [
       " View run at <a href='https://wandb.ai/cr7_reunited-cr7/epfl_ml_project2/runs/3oehwf00' target=\"_blank\">https://wandb.ai/cr7_reunited-cr7/epfl_ml_project2/runs/3oehwf00</a>"
      ],
      "text/plain": [
       "<IPython.core.display.HTML object>"
      ]
     },
     "metadata": {},
     "output_type": "display_data"
    },
    {
     "data": {
      "text/html": [
       "\n",
       "    <style>\n",
       "        .wandb-row {\n",
       "            display: flex;\n",
       "            flex-direction: row;\n",
       "            flex-wrap: wrap;\n",
       "            justify-content: flex-start;\n",
       "            width: 100%;\n",
       "        }\n",
       "        .wandb-col {\n",
       "            display: flex;\n",
       "            flex-direction: column;\n",
       "            flex-basis: 100%;\n",
       "            flex: 1;\n",
       "            padding: 10px;\n",
       "        }\n",
       "    </style>\n",
       "<div class=\"wandb-row\"><div class=\"wandb-col\"><h3>Run history:</h3><br/><table class=\"wandb\"><tr><td>train_accuracy</td><td>▁</td></tr><tr><td>val_accuracy</td><td>▁</td></tr></table><br/></div><div class=\"wandb-col\"><h3>Run summary:</h3><br/><table class=\"wandb\"><tr><td>train_accuracy</td><td>0.76705</td></tr><tr><td>val_accuracy</td><td>0.73695</td></tr></table><br/></div></div>"
      ],
      "text/plain": [
       "<IPython.core.display.HTML object>"
      ]
     },
     "metadata": {},
     "output_type": "display_data"
    },
    {
     "data": {
      "text/html": [
       " View run <strong style=\"color:#cdcd00\">genial-sweep-14</strong> at: <a href='https://wandb.ai/cr7_reunited-cr7/epfl_ml_project2/runs/3oehwf00' target=\"_blank\">https://wandb.ai/cr7_reunited-cr7/epfl_ml_project2/runs/3oehwf00</a><br/> View project at: <a href='https://wandb.ai/cr7_reunited-cr7/epfl_ml_project2' target=\"_blank\">https://wandb.ai/cr7_reunited-cr7/epfl_ml_project2</a><br/>Synced 5 W&B file(s), 0 media file(s), 0 artifact file(s) and 0 other file(s)"
      ],
      "text/plain": [
       "<IPython.core.display.HTML object>"
      ]
     },
     "metadata": {},
     "output_type": "display_data"
    },
    {
     "data": {
      "text/html": [
       "Find logs at: <code>./wandb/run-20241217_202155-3oehwf00/logs</code>"
      ],
      "text/plain": [
       "<IPython.core.display.HTML object>"
      ]
     },
     "metadata": {},
     "output_type": "display_data"
    },
    {
     "name": "stderr",
     "output_type": "stream",
     "text": [
      "\u001b[34m\u001b[1mwandb\u001b[0m: Agent Starting Run: 0solf3uz with config:\n",
      "\u001b[34m\u001b[1mwandb\u001b[0m: \tdataset: bow\n",
      "\u001b[34m\u001b[1mwandb\u001b[0m: \tmodel: Complement NB\n",
      "\u001b[34m\u001b[1mwandb\u001b[0m: \tnum_features: 50000\n"
     ]
    },
    {
     "data": {
      "text/html": [
       "Tracking run with wandb version 0.19.0"
      ],
      "text/plain": [
       "<IPython.core.display.HTML object>"
      ]
     },
     "metadata": {},
     "output_type": "display_data"
    },
    {
     "data": {
      "text/html": [
       "Run data is saved locally in <code>/home/parkmyungheon/Desktop/Work/CS-433/ml-project-2-yhs2/Sean/wandb/run-20241217_202200-0solf3uz</code>"
      ],
      "text/plain": [
       "<IPython.core.display.HTML object>"
      ]
     },
     "metadata": {},
     "output_type": "display_data"
    },
    {
     "data": {
      "text/html": [
       "Syncing run <strong><a href='https://wandb.ai/cr7_reunited-cr7/epfl_ml_project2/runs/0solf3uz' target=\"_blank\">summer-sweep-15</a></strong> to <a href='https://wandb.ai/cr7_reunited-cr7/epfl_ml_project2' target=\"_blank\">Weights & Biases</a> (<a href='https://wandb.me/developer-guide' target=\"_blank\">docs</a>)<br/>Sweep page: <a href='https://wandb.ai/cr7_reunited-cr7/epfl_ml_project2/sweeps/tghwcg4n' target=\"_blank\">https://wandb.ai/cr7_reunited-cr7/epfl_ml_project2/sweeps/tghwcg4n</a>"
      ],
      "text/plain": [
       "<IPython.core.display.HTML object>"
      ]
     },
     "metadata": {},
     "output_type": "display_data"
    },
    {
     "data": {
      "text/html": [
       " View project at <a href='https://wandb.ai/cr7_reunited-cr7/epfl_ml_project2' target=\"_blank\">https://wandb.ai/cr7_reunited-cr7/epfl_ml_project2</a>"
      ],
      "text/plain": [
       "<IPython.core.display.HTML object>"
      ]
     },
     "metadata": {},
     "output_type": "display_data"
    },
    {
     "data": {
      "text/html": [
       " View sweep at <a href='https://wandb.ai/cr7_reunited-cr7/epfl_ml_project2/sweeps/tghwcg4n' target=\"_blank\">https://wandb.ai/cr7_reunited-cr7/epfl_ml_project2/sweeps/tghwcg4n</a>"
      ],
      "text/plain": [
       "<IPython.core.display.HTML object>"
      ]
     },
     "metadata": {},
     "output_type": "display_data"
    },
    {
     "data": {
      "text/html": [
       " View run at <a href='https://wandb.ai/cr7_reunited-cr7/epfl_ml_project2/runs/0solf3uz' target=\"_blank\">https://wandb.ai/cr7_reunited-cr7/epfl_ml_project2/runs/0solf3uz</a>"
      ],
      "text/plain": [
       "<IPython.core.display.HTML object>"
      ]
     },
     "metadata": {},
     "output_type": "display_data"
    },
    {
     "data": {
      "text/html": [
       "\n",
       "    <style>\n",
       "        .wandb-row {\n",
       "            display: flex;\n",
       "            flex-direction: row;\n",
       "            flex-wrap: wrap;\n",
       "            justify-content: flex-start;\n",
       "            width: 100%;\n",
       "        }\n",
       "        .wandb-col {\n",
       "            display: flex;\n",
       "            flex-direction: column;\n",
       "            flex-basis: 100%;\n",
       "            flex: 1;\n",
       "            padding: 10px;\n",
       "        }\n",
       "    </style>\n",
       "<div class=\"wandb-row\"><div class=\"wandb-col\"><h3>Run history:</h3><br/><table class=\"wandb\"><tr><td>train_accuracy</td><td>▁</td></tr><tr><td>val_accuracy</td><td>▁</td></tr></table><br/></div><div class=\"wandb-col\"><h3>Run summary:</h3><br/><table class=\"wandb\"><tr><td>train_accuracy</td><td>0.77782</td></tr><tr><td>val_accuracy</td><td>0.73472</td></tr></table><br/></div></div>"
      ],
      "text/plain": [
       "<IPython.core.display.HTML object>"
      ]
     },
     "metadata": {},
     "output_type": "display_data"
    },
    {
     "data": {
      "text/html": [
       " View run <strong style=\"color:#cdcd00\">summer-sweep-15</strong> at: <a href='https://wandb.ai/cr7_reunited-cr7/epfl_ml_project2/runs/0solf3uz' target=\"_blank\">https://wandb.ai/cr7_reunited-cr7/epfl_ml_project2/runs/0solf3uz</a><br/> View project at: <a href='https://wandb.ai/cr7_reunited-cr7/epfl_ml_project2' target=\"_blank\">https://wandb.ai/cr7_reunited-cr7/epfl_ml_project2</a><br/>Synced 5 W&B file(s), 0 media file(s), 0 artifact file(s) and 0 other file(s)"
      ],
      "text/plain": [
       "<IPython.core.display.HTML object>"
      ]
     },
     "metadata": {},
     "output_type": "display_data"
    },
    {
     "data": {
      "text/html": [
       "Find logs at: <code>./wandb/run-20241217_202200-0solf3uz/logs</code>"
      ],
      "text/plain": [
       "<IPython.core.display.HTML object>"
      ]
     },
     "metadata": {},
     "output_type": "display_data"
    },
    {
     "name": "stderr",
     "output_type": "stream",
     "text": [
      "\u001b[34m\u001b[1mwandb\u001b[0m: Agent Starting Run: yzq6uzi6 with config:\n",
      "\u001b[34m\u001b[1mwandb\u001b[0m: \tdataset: bow\n",
      "\u001b[34m\u001b[1mwandb\u001b[0m: \tmodel: Complement NB\n",
      "\u001b[34m\u001b[1mwandb\u001b[0m: \tnum_features: 74552\n"
     ]
    },
    {
     "data": {
      "text/html": [
       "Tracking run with wandb version 0.19.0"
      ],
      "text/plain": [
       "<IPython.core.display.HTML object>"
      ]
     },
     "metadata": {},
     "output_type": "display_data"
    },
    {
     "data": {
      "text/html": [
       "Run data is saved locally in <code>/home/parkmyungheon/Desktop/Work/CS-433/ml-project-2-yhs2/Sean/wandb/run-20241217_202205-yzq6uzi6</code>"
      ],
      "text/plain": [
       "<IPython.core.display.HTML object>"
      ]
     },
     "metadata": {},
     "output_type": "display_data"
    },
    {
     "data": {
      "text/html": [
       "Syncing run <strong><a href='https://wandb.ai/cr7_reunited-cr7/epfl_ml_project2/runs/yzq6uzi6' target=\"_blank\">winter-sweep-16</a></strong> to <a href='https://wandb.ai/cr7_reunited-cr7/epfl_ml_project2' target=\"_blank\">Weights & Biases</a> (<a href='https://wandb.me/developer-guide' target=\"_blank\">docs</a>)<br/>Sweep page: <a href='https://wandb.ai/cr7_reunited-cr7/epfl_ml_project2/sweeps/tghwcg4n' target=\"_blank\">https://wandb.ai/cr7_reunited-cr7/epfl_ml_project2/sweeps/tghwcg4n</a>"
      ],
      "text/plain": [
       "<IPython.core.display.HTML object>"
      ]
     },
     "metadata": {},
     "output_type": "display_data"
    },
    {
     "data": {
      "text/html": [
       " View project at <a href='https://wandb.ai/cr7_reunited-cr7/epfl_ml_project2' target=\"_blank\">https://wandb.ai/cr7_reunited-cr7/epfl_ml_project2</a>"
      ],
      "text/plain": [
       "<IPython.core.display.HTML object>"
      ]
     },
     "metadata": {},
     "output_type": "display_data"
    },
    {
     "data": {
      "text/html": [
       " View sweep at <a href='https://wandb.ai/cr7_reunited-cr7/epfl_ml_project2/sweeps/tghwcg4n' target=\"_blank\">https://wandb.ai/cr7_reunited-cr7/epfl_ml_project2/sweeps/tghwcg4n</a>"
      ],
      "text/plain": [
       "<IPython.core.display.HTML object>"
      ]
     },
     "metadata": {},
     "output_type": "display_data"
    },
    {
     "data": {
      "text/html": [
       " View run at <a href='https://wandb.ai/cr7_reunited-cr7/epfl_ml_project2/runs/yzq6uzi6' target=\"_blank\">https://wandb.ai/cr7_reunited-cr7/epfl_ml_project2/runs/yzq6uzi6</a>"
      ],
      "text/plain": [
       "<IPython.core.display.HTML object>"
      ]
     },
     "metadata": {},
     "output_type": "display_data"
    },
    {
     "data": {
      "text/html": [
       "\n",
       "    <style>\n",
       "        .wandb-row {\n",
       "            display: flex;\n",
       "            flex-direction: row;\n",
       "            flex-wrap: wrap;\n",
       "            justify-content: flex-start;\n",
       "            width: 100%;\n",
       "        }\n",
       "        .wandb-col {\n",
       "            display: flex;\n",
       "            flex-direction: column;\n",
       "            flex-basis: 100%;\n",
       "            flex: 1;\n",
       "            padding: 10px;\n",
       "        }\n",
       "    </style>\n",
       "<div class=\"wandb-row\"><div class=\"wandb-col\"><h3>Run history:</h3><br/><table class=\"wandb\"><tr><td>train_accuracy</td><td>▁</td></tr><tr><td>val_accuracy</td><td>▁</td></tr></table><br/></div><div class=\"wandb-col\"><h3>Run summary:</h3><br/><table class=\"wandb\"><tr><td>train_accuracy</td><td>0.7722</td></tr><tr><td>val_accuracy</td><td>0.72952</td></tr></table><br/></div></div>"
      ],
      "text/plain": [
       "<IPython.core.display.HTML object>"
      ]
     },
     "metadata": {},
     "output_type": "display_data"
    },
    {
     "data": {
      "text/html": [
       " View run <strong style=\"color:#cdcd00\">winter-sweep-16</strong> at: <a href='https://wandb.ai/cr7_reunited-cr7/epfl_ml_project2/runs/yzq6uzi6' target=\"_blank\">https://wandb.ai/cr7_reunited-cr7/epfl_ml_project2/runs/yzq6uzi6</a><br/> View project at: <a href='https://wandb.ai/cr7_reunited-cr7/epfl_ml_project2' target=\"_blank\">https://wandb.ai/cr7_reunited-cr7/epfl_ml_project2</a><br/>Synced 5 W&B file(s), 0 media file(s), 0 artifact file(s) and 0 other file(s)"
      ],
      "text/plain": [
       "<IPython.core.display.HTML object>"
      ]
     },
     "metadata": {},
     "output_type": "display_data"
    },
    {
     "data": {
      "text/html": [
       "Find logs at: <code>./wandb/run-20241217_202205-yzq6uzi6/logs</code>"
      ],
      "text/plain": [
       "<IPython.core.display.HTML object>"
      ]
     },
     "metadata": {},
     "output_type": "display_data"
    },
    {
     "name": "stderr",
     "output_type": "stream",
     "text": [
      "\u001b[34m\u001b[1mwandb\u001b[0m: Agent Starting Run: qm4i57pa with config:\n",
      "\u001b[34m\u001b[1mwandb\u001b[0m: \tdataset: tfidf\n",
      "\u001b[34m\u001b[1mwandb\u001b[0m: \tmodel: Multinomial NB\n",
      "\u001b[34m\u001b[1mwandb\u001b[0m: \tnum_features: 100\n"
     ]
    },
    {
     "data": {
      "text/html": [
       "Tracking run with wandb version 0.19.0"
      ],
      "text/plain": [
       "<IPython.core.display.HTML object>"
      ]
     },
     "metadata": {},
     "output_type": "display_data"
    },
    {
     "data": {
      "text/html": [
       "Run data is saved locally in <code>/home/parkmyungheon/Desktop/Work/CS-433/ml-project-2-yhs2/Sean/wandb/run-20241217_202211-qm4i57pa</code>"
      ],
      "text/plain": [
       "<IPython.core.display.HTML object>"
      ]
     },
     "metadata": {},
     "output_type": "display_data"
    },
    {
     "data": {
      "text/html": [
       "Syncing run <strong><a href='https://wandb.ai/cr7_reunited-cr7/epfl_ml_project2/runs/qm4i57pa' target=\"_blank\">feasible-sweep-17</a></strong> to <a href='https://wandb.ai/cr7_reunited-cr7/epfl_ml_project2' target=\"_blank\">Weights & Biases</a> (<a href='https://wandb.me/developer-guide' target=\"_blank\">docs</a>)<br/>Sweep page: <a href='https://wandb.ai/cr7_reunited-cr7/epfl_ml_project2/sweeps/tghwcg4n' target=\"_blank\">https://wandb.ai/cr7_reunited-cr7/epfl_ml_project2/sweeps/tghwcg4n</a>"
      ],
      "text/plain": [
       "<IPython.core.display.HTML object>"
      ]
     },
     "metadata": {},
     "output_type": "display_data"
    },
    {
     "data": {
      "text/html": [
       " View project at <a href='https://wandb.ai/cr7_reunited-cr7/epfl_ml_project2' target=\"_blank\">https://wandb.ai/cr7_reunited-cr7/epfl_ml_project2</a>"
      ],
      "text/plain": [
       "<IPython.core.display.HTML object>"
      ]
     },
     "metadata": {},
     "output_type": "display_data"
    },
    {
     "data": {
      "text/html": [
       " View sweep at <a href='https://wandb.ai/cr7_reunited-cr7/epfl_ml_project2/sweeps/tghwcg4n' target=\"_blank\">https://wandb.ai/cr7_reunited-cr7/epfl_ml_project2/sweeps/tghwcg4n</a>"
      ],
      "text/plain": [
       "<IPython.core.display.HTML object>"
      ]
     },
     "metadata": {},
     "output_type": "display_data"
    },
    {
     "data": {
      "text/html": [
       " View run at <a href='https://wandb.ai/cr7_reunited-cr7/epfl_ml_project2/runs/qm4i57pa' target=\"_blank\">https://wandb.ai/cr7_reunited-cr7/epfl_ml_project2/runs/qm4i57pa</a>"
      ],
      "text/plain": [
       "<IPython.core.display.HTML object>"
      ]
     },
     "metadata": {},
     "output_type": "display_data"
    },
    {
     "data": {
      "text/html": [
       "\n",
       "    <style>\n",
       "        .wandb-row {\n",
       "            display: flex;\n",
       "            flex-direction: row;\n",
       "            flex-wrap: wrap;\n",
       "            justify-content: flex-start;\n",
       "            width: 100%;\n",
       "        }\n",
       "        .wandb-col {\n",
       "            display: flex;\n",
       "            flex-direction: column;\n",
       "            flex-basis: 100%;\n",
       "            flex: 1;\n",
       "            padding: 10px;\n",
       "        }\n",
       "    </style>\n",
       "<div class=\"wandb-row\"><div class=\"wandb-col\"><h3>Run history:</h3><br/><table class=\"wandb\"><tr><td>train_accuracy</td><td>▁</td></tr><tr><td>val_accuracy</td><td>▁</td></tr></table><br/></div><div class=\"wandb-col\"><h3>Run summary:</h3><br/><table class=\"wandb\"><tr><td>train_accuracy</td><td>0.7037</td></tr><tr><td>val_accuracy</td><td>0.69552</td></tr></table><br/></div></div>"
      ],
      "text/plain": [
       "<IPython.core.display.HTML object>"
      ]
     },
     "metadata": {},
     "output_type": "display_data"
    },
    {
     "data": {
      "text/html": [
       " View run <strong style=\"color:#cdcd00\">feasible-sweep-17</strong> at: <a href='https://wandb.ai/cr7_reunited-cr7/epfl_ml_project2/runs/qm4i57pa' target=\"_blank\">https://wandb.ai/cr7_reunited-cr7/epfl_ml_project2/runs/qm4i57pa</a><br/> View project at: <a href='https://wandb.ai/cr7_reunited-cr7/epfl_ml_project2' target=\"_blank\">https://wandb.ai/cr7_reunited-cr7/epfl_ml_project2</a><br/>Synced 5 W&B file(s), 0 media file(s), 0 artifact file(s) and 0 other file(s)"
      ],
      "text/plain": [
       "<IPython.core.display.HTML object>"
      ]
     },
     "metadata": {},
     "output_type": "display_data"
    },
    {
     "data": {
      "text/html": [
       "Find logs at: <code>./wandb/run-20241217_202211-qm4i57pa/logs</code>"
      ],
      "text/plain": [
       "<IPython.core.display.HTML object>"
      ]
     },
     "metadata": {},
     "output_type": "display_data"
    },
    {
     "name": "stderr",
     "output_type": "stream",
     "text": [
      "\u001b[34m\u001b[1mwandb\u001b[0m: Agent Starting Run: yj5wc5p4 with config:\n",
      "\u001b[34m\u001b[1mwandb\u001b[0m: \tdataset: tfidf\n",
      "\u001b[34m\u001b[1mwandb\u001b[0m: \tmodel: Multinomial NB\n",
      "\u001b[34m\u001b[1mwandb\u001b[0m: \tnum_features: 500\n"
     ]
    },
    {
     "data": {
      "text/html": [
       "Tracking run with wandb version 0.19.0"
      ],
      "text/plain": [
       "<IPython.core.display.HTML object>"
      ]
     },
     "metadata": {},
     "output_type": "display_data"
    },
    {
     "data": {
      "text/html": [
       "Run data is saved locally in <code>/home/parkmyungheon/Desktop/Work/CS-433/ml-project-2-yhs2/Sean/wandb/run-20241217_202216-yj5wc5p4</code>"
      ],
      "text/plain": [
       "<IPython.core.display.HTML object>"
      ]
     },
     "metadata": {},
     "output_type": "display_data"
    },
    {
     "data": {
      "text/html": [
       "Syncing run <strong><a href='https://wandb.ai/cr7_reunited-cr7/epfl_ml_project2/runs/yj5wc5p4' target=\"_blank\">snowy-sweep-18</a></strong> to <a href='https://wandb.ai/cr7_reunited-cr7/epfl_ml_project2' target=\"_blank\">Weights & Biases</a> (<a href='https://wandb.me/developer-guide' target=\"_blank\">docs</a>)<br/>Sweep page: <a href='https://wandb.ai/cr7_reunited-cr7/epfl_ml_project2/sweeps/tghwcg4n' target=\"_blank\">https://wandb.ai/cr7_reunited-cr7/epfl_ml_project2/sweeps/tghwcg4n</a>"
      ],
      "text/plain": [
       "<IPython.core.display.HTML object>"
      ]
     },
     "metadata": {},
     "output_type": "display_data"
    },
    {
     "data": {
      "text/html": [
       " View project at <a href='https://wandb.ai/cr7_reunited-cr7/epfl_ml_project2' target=\"_blank\">https://wandb.ai/cr7_reunited-cr7/epfl_ml_project2</a>"
      ],
      "text/plain": [
       "<IPython.core.display.HTML object>"
      ]
     },
     "metadata": {},
     "output_type": "display_data"
    },
    {
     "data": {
      "text/html": [
       " View sweep at <a href='https://wandb.ai/cr7_reunited-cr7/epfl_ml_project2/sweeps/tghwcg4n' target=\"_blank\">https://wandb.ai/cr7_reunited-cr7/epfl_ml_project2/sweeps/tghwcg4n</a>"
      ],
      "text/plain": [
       "<IPython.core.display.HTML object>"
      ]
     },
     "metadata": {},
     "output_type": "display_data"
    },
    {
     "data": {
      "text/html": [
       " View run at <a href='https://wandb.ai/cr7_reunited-cr7/epfl_ml_project2/runs/yj5wc5p4' target=\"_blank\">https://wandb.ai/cr7_reunited-cr7/epfl_ml_project2/runs/yj5wc5p4</a>"
      ],
      "text/plain": [
       "<IPython.core.display.HTML object>"
      ]
     },
     "metadata": {},
     "output_type": "display_data"
    },
    {
     "data": {
      "text/html": [
       "\n",
       "    <style>\n",
       "        .wandb-row {\n",
       "            display: flex;\n",
       "            flex-direction: row;\n",
       "            flex-wrap: wrap;\n",
       "            justify-content: flex-start;\n",
       "            width: 100%;\n",
       "        }\n",
       "        .wandb-col {\n",
       "            display: flex;\n",
       "            flex-direction: column;\n",
       "            flex-basis: 100%;\n",
       "            flex: 1;\n",
       "            padding: 10px;\n",
       "        }\n",
       "    </style>\n",
       "<div class=\"wandb-row\"><div class=\"wandb-col\"><h3>Run history:</h3><br/><table class=\"wandb\"><tr><td>train_accuracy</td><td>▁</td></tr><tr><td>val_accuracy</td><td>▁</td></tr></table><br/></div><div class=\"wandb-col\"><h3>Run summary:</h3><br/><table class=\"wandb\"><tr><td>train_accuracy</td><td>0.75766</td></tr><tr><td>val_accuracy</td><td>0.74867</td></tr></table><br/></div></div>"
      ],
      "text/plain": [
       "<IPython.core.display.HTML object>"
      ]
     },
     "metadata": {},
     "output_type": "display_data"
    },
    {
     "data": {
      "text/html": [
       " View run <strong style=\"color:#cdcd00\">snowy-sweep-18</strong> at: <a href='https://wandb.ai/cr7_reunited-cr7/epfl_ml_project2/runs/yj5wc5p4' target=\"_blank\">https://wandb.ai/cr7_reunited-cr7/epfl_ml_project2/runs/yj5wc5p4</a><br/> View project at: <a href='https://wandb.ai/cr7_reunited-cr7/epfl_ml_project2' target=\"_blank\">https://wandb.ai/cr7_reunited-cr7/epfl_ml_project2</a><br/>Synced 5 W&B file(s), 0 media file(s), 0 artifact file(s) and 0 other file(s)"
      ],
      "text/plain": [
       "<IPython.core.display.HTML object>"
      ]
     },
     "metadata": {},
     "output_type": "display_data"
    },
    {
     "data": {
      "text/html": [
       "Find logs at: <code>./wandb/run-20241217_202216-yj5wc5p4/logs</code>"
      ],
      "text/plain": [
       "<IPython.core.display.HTML object>"
      ]
     },
     "metadata": {},
     "output_type": "display_data"
    },
    {
     "name": "stderr",
     "output_type": "stream",
     "text": [
      "\u001b[34m\u001b[1mwandb\u001b[0m: Agent Starting Run: ay9yiiju with config:\n",
      "\u001b[34m\u001b[1mwandb\u001b[0m: \tdataset: tfidf\n",
      "\u001b[34m\u001b[1mwandb\u001b[0m: \tmodel: Multinomial NB\n",
      "\u001b[34m\u001b[1mwandb\u001b[0m: \tnum_features: 1000\n"
     ]
    },
    {
     "data": {
      "text/html": [
       "Tracking run with wandb version 0.19.0"
      ],
      "text/plain": [
       "<IPython.core.display.HTML object>"
      ]
     },
     "metadata": {},
     "output_type": "display_data"
    },
    {
     "data": {
      "text/html": [
       "Run data is saved locally in <code>/home/parkmyungheon/Desktop/Work/CS-433/ml-project-2-yhs2/Sean/wandb/run-20241217_202221-ay9yiiju</code>"
      ],
      "text/plain": [
       "<IPython.core.display.HTML object>"
      ]
     },
     "metadata": {},
     "output_type": "display_data"
    },
    {
     "data": {
      "text/html": [
       "Syncing run <strong><a href='https://wandb.ai/cr7_reunited-cr7/epfl_ml_project2/runs/ay9yiiju' target=\"_blank\">cerulean-sweep-19</a></strong> to <a href='https://wandb.ai/cr7_reunited-cr7/epfl_ml_project2' target=\"_blank\">Weights & Biases</a> (<a href='https://wandb.me/developer-guide' target=\"_blank\">docs</a>)<br/>Sweep page: <a href='https://wandb.ai/cr7_reunited-cr7/epfl_ml_project2/sweeps/tghwcg4n' target=\"_blank\">https://wandb.ai/cr7_reunited-cr7/epfl_ml_project2/sweeps/tghwcg4n</a>"
      ],
      "text/plain": [
       "<IPython.core.display.HTML object>"
      ]
     },
     "metadata": {},
     "output_type": "display_data"
    },
    {
     "data": {
      "text/html": [
       " View project at <a href='https://wandb.ai/cr7_reunited-cr7/epfl_ml_project2' target=\"_blank\">https://wandb.ai/cr7_reunited-cr7/epfl_ml_project2</a>"
      ],
      "text/plain": [
       "<IPython.core.display.HTML object>"
      ]
     },
     "metadata": {},
     "output_type": "display_data"
    },
    {
     "data": {
      "text/html": [
       " View sweep at <a href='https://wandb.ai/cr7_reunited-cr7/epfl_ml_project2/sweeps/tghwcg4n' target=\"_blank\">https://wandb.ai/cr7_reunited-cr7/epfl_ml_project2/sweeps/tghwcg4n</a>"
      ],
      "text/plain": [
       "<IPython.core.display.HTML object>"
      ]
     },
     "metadata": {},
     "output_type": "display_data"
    },
    {
     "data": {
      "text/html": [
       " View run at <a href='https://wandb.ai/cr7_reunited-cr7/epfl_ml_project2/runs/ay9yiiju' target=\"_blank\">https://wandb.ai/cr7_reunited-cr7/epfl_ml_project2/runs/ay9yiiju</a>"
      ],
      "text/plain": [
       "<IPython.core.display.HTML object>"
      ]
     },
     "metadata": {},
     "output_type": "display_data"
    },
    {
     "data": {
      "text/html": [
       "\n",
       "    <style>\n",
       "        .wandb-row {\n",
       "            display: flex;\n",
       "            flex-direction: row;\n",
       "            flex-wrap: wrap;\n",
       "            justify-content: flex-start;\n",
       "            width: 100%;\n",
       "        }\n",
       "        .wandb-col {\n",
       "            display: flex;\n",
       "            flex-direction: column;\n",
       "            flex-basis: 100%;\n",
       "            flex: 1;\n",
       "            padding: 10px;\n",
       "        }\n",
       "    </style>\n",
       "<div class=\"wandb-row\"><div class=\"wandb-col\"><h3>Run history:</h3><br/><table class=\"wandb\"><tr><td>train_accuracy</td><td>▁</td></tr><tr><td>val_accuracy</td><td>▁</td></tr></table><br/></div><div class=\"wandb-col\"><h3>Run summary:</h3><br/><table class=\"wandb\"><tr><td>train_accuracy</td><td>0.77246</td></tr><tr><td>val_accuracy</td><td>0.7601</td></tr></table><br/></div></div>"
      ],
      "text/plain": [
       "<IPython.core.display.HTML object>"
      ]
     },
     "metadata": {},
     "output_type": "display_data"
    },
    {
     "data": {
      "text/html": [
       " View run <strong style=\"color:#cdcd00\">cerulean-sweep-19</strong> at: <a href='https://wandb.ai/cr7_reunited-cr7/epfl_ml_project2/runs/ay9yiiju' target=\"_blank\">https://wandb.ai/cr7_reunited-cr7/epfl_ml_project2/runs/ay9yiiju</a><br/> View project at: <a href='https://wandb.ai/cr7_reunited-cr7/epfl_ml_project2' target=\"_blank\">https://wandb.ai/cr7_reunited-cr7/epfl_ml_project2</a><br/>Synced 5 W&B file(s), 0 media file(s), 0 artifact file(s) and 0 other file(s)"
      ],
      "text/plain": [
       "<IPython.core.display.HTML object>"
      ]
     },
     "metadata": {},
     "output_type": "display_data"
    },
    {
     "data": {
      "text/html": [
       "Find logs at: <code>./wandb/run-20241217_202221-ay9yiiju/logs</code>"
      ],
      "text/plain": [
       "<IPython.core.display.HTML object>"
      ]
     },
     "metadata": {},
     "output_type": "display_data"
    },
    {
     "name": "stderr",
     "output_type": "stream",
     "text": [
      "\u001b[34m\u001b[1mwandb\u001b[0m: Agent Starting Run: evm9op2q with config:\n",
      "\u001b[34m\u001b[1mwandb\u001b[0m: \tdataset: tfidf\n",
      "\u001b[34m\u001b[1mwandb\u001b[0m: \tmodel: Multinomial NB\n",
      "\u001b[34m\u001b[1mwandb\u001b[0m: \tnum_features: 5000\n"
     ]
    },
    {
     "data": {
      "text/html": [
       "Tracking run with wandb version 0.19.0"
      ],
      "text/plain": [
       "<IPython.core.display.HTML object>"
      ]
     },
     "metadata": {},
     "output_type": "display_data"
    },
    {
     "data": {
      "text/html": [
       "Run data is saved locally in <code>/home/parkmyungheon/Desktop/Work/CS-433/ml-project-2-yhs2/Sean/wandb/run-20241217_202227-evm9op2q</code>"
      ],
      "text/plain": [
       "<IPython.core.display.HTML object>"
      ]
     },
     "metadata": {},
     "output_type": "display_data"
    },
    {
     "data": {
      "text/html": [
       "Syncing run <strong><a href='https://wandb.ai/cr7_reunited-cr7/epfl_ml_project2/runs/evm9op2q' target=\"_blank\">sandy-sweep-20</a></strong> to <a href='https://wandb.ai/cr7_reunited-cr7/epfl_ml_project2' target=\"_blank\">Weights & Biases</a> (<a href='https://wandb.me/developer-guide' target=\"_blank\">docs</a>)<br/>Sweep page: <a href='https://wandb.ai/cr7_reunited-cr7/epfl_ml_project2/sweeps/tghwcg4n' target=\"_blank\">https://wandb.ai/cr7_reunited-cr7/epfl_ml_project2/sweeps/tghwcg4n</a>"
      ],
      "text/plain": [
       "<IPython.core.display.HTML object>"
      ]
     },
     "metadata": {},
     "output_type": "display_data"
    },
    {
     "data": {
      "text/html": [
       " View project at <a href='https://wandb.ai/cr7_reunited-cr7/epfl_ml_project2' target=\"_blank\">https://wandb.ai/cr7_reunited-cr7/epfl_ml_project2</a>"
      ],
      "text/plain": [
       "<IPython.core.display.HTML object>"
      ]
     },
     "metadata": {},
     "output_type": "display_data"
    },
    {
     "data": {
      "text/html": [
       " View sweep at <a href='https://wandb.ai/cr7_reunited-cr7/epfl_ml_project2/sweeps/tghwcg4n' target=\"_blank\">https://wandb.ai/cr7_reunited-cr7/epfl_ml_project2/sweeps/tghwcg4n</a>"
      ],
      "text/plain": [
       "<IPython.core.display.HTML object>"
      ]
     },
     "metadata": {},
     "output_type": "display_data"
    },
    {
     "data": {
      "text/html": [
       " View run at <a href='https://wandb.ai/cr7_reunited-cr7/epfl_ml_project2/runs/evm9op2q' target=\"_blank\">https://wandb.ai/cr7_reunited-cr7/epfl_ml_project2/runs/evm9op2q</a>"
      ],
      "text/plain": [
       "<IPython.core.display.HTML object>"
      ]
     },
     "metadata": {},
     "output_type": "display_data"
    },
    {
     "data": {
      "text/html": [
       "\n",
       "    <style>\n",
       "        .wandb-row {\n",
       "            display: flex;\n",
       "            flex-direction: row;\n",
       "            flex-wrap: wrap;\n",
       "            justify-content: flex-start;\n",
       "            width: 100%;\n",
       "        }\n",
       "        .wandb-col {\n",
       "            display: flex;\n",
       "            flex-direction: column;\n",
       "            flex-basis: 100%;\n",
       "            flex: 1;\n",
       "            padding: 10px;\n",
       "        }\n",
       "    </style>\n",
       "<div class=\"wandb-row\"><div class=\"wandb-col\"><h3>Run history:</h3><br/><table class=\"wandb\"><tr><td>train_accuracy</td><td>▁</td></tr><tr><td>val_accuracy</td><td>▁</td></tr></table><br/></div><div class=\"wandb-col\"><h3>Run summary:</h3><br/><table class=\"wandb\"><tr><td>train_accuracy</td><td>0.7874</td></tr><tr><td>val_accuracy</td><td>0.76653</td></tr></table><br/></div></div>"
      ],
      "text/plain": [
       "<IPython.core.display.HTML object>"
      ]
     },
     "metadata": {},
     "output_type": "display_data"
    },
    {
     "data": {
      "text/html": [
       " View run <strong style=\"color:#cdcd00\">sandy-sweep-20</strong> at: <a href='https://wandb.ai/cr7_reunited-cr7/epfl_ml_project2/runs/evm9op2q' target=\"_blank\">https://wandb.ai/cr7_reunited-cr7/epfl_ml_project2/runs/evm9op2q</a><br/> View project at: <a href='https://wandb.ai/cr7_reunited-cr7/epfl_ml_project2' target=\"_blank\">https://wandb.ai/cr7_reunited-cr7/epfl_ml_project2</a><br/>Synced 5 W&B file(s), 0 media file(s), 0 artifact file(s) and 0 other file(s)"
      ],
      "text/plain": [
       "<IPython.core.display.HTML object>"
      ]
     },
     "metadata": {},
     "output_type": "display_data"
    },
    {
     "data": {
      "text/html": [
       "Find logs at: <code>./wandb/run-20241217_202227-evm9op2q/logs</code>"
      ],
      "text/plain": [
       "<IPython.core.display.HTML object>"
      ]
     },
     "metadata": {},
     "output_type": "display_data"
    },
    {
     "name": "stderr",
     "output_type": "stream",
     "text": [
      "\u001b[34m\u001b[1mwandb\u001b[0m: Agent Starting Run: cq9dqge5 with config:\n",
      "\u001b[34m\u001b[1mwandb\u001b[0m: \tdataset: tfidf\n",
      "\u001b[34m\u001b[1mwandb\u001b[0m: \tmodel: Multinomial NB\n",
      "\u001b[34m\u001b[1mwandb\u001b[0m: \tnum_features: 10000\n"
     ]
    },
    {
     "data": {
      "text/html": [
       "Tracking run with wandb version 0.19.0"
      ],
      "text/plain": [
       "<IPython.core.display.HTML object>"
      ]
     },
     "metadata": {},
     "output_type": "display_data"
    },
    {
     "data": {
      "text/html": [
       "Run data is saved locally in <code>/home/parkmyungheon/Desktop/Work/CS-433/ml-project-2-yhs2/Sean/wandb/run-20241217_202232-cq9dqge5</code>"
      ],
      "text/plain": [
       "<IPython.core.display.HTML object>"
      ]
     },
     "metadata": {},
     "output_type": "display_data"
    },
    {
     "data": {
      "text/html": [
       "Syncing run <strong><a href='https://wandb.ai/cr7_reunited-cr7/epfl_ml_project2/runs/cq9dqge5' target=\"_blank\">avid-sweep-21</a></strong> to <a href='https://wandb.ai/cr7_reunited-cr7/epfl_ml_project2' target=\"_blank\">Weights & Biases</a> (<a href='https://wandb.me/developer-guide' target=\"_blank\">docs</a>)<br/>Sweep page: <a href='https://wandb.ai/cr7_reunited-cr7/epfl_ml_project2/sweeps/tghwcg4n' target=\"_blank\">https://wandb.ai/cr7_reunited-cr7/epfl_ml_project2/sweeps/tghwcg4n</a>"
      ],
      "text/plain": [
       "<IPython.core.display.HTML object>"
      ]
     },
     "metadata": {},
     "output_type": "display_data"
    },
    {
     "data": {
      "text/html": [
       " View project at <a href='https://wandb.ai/cr7_reunited-cr7/epfl_ml_project2' target=\"_blank\">https://wandb.ai/cr7_reunited-cr7/epfl_ml_project2</a>"
      ],
      "text/plain": [
       "<IPython.core.display.HTML object>"
      ]
     },
     "metadata": {},
     "output_type": "display_data"
    },
    {
     "data": {
      "text/html": [
       " View sweep at <a href='https://wandb.ai/cr7_reunited-cr7/epfl_ml_project2/sweeps/tghwcg4n' target=\"_blank\">https://wandb.ai/cr7_reunited-cr7/epfl_ml_project2/sweeps/tghwcg4n</a>"
      ],
      "text/plain": [
       "<IPython.core.display.HTML object>"
      ]
     },
     "metadata": {},
     "output_type": "display_data"
    },
    {
     "data": {
      "text/html": [
       " View run at <a href='https://wandb.ai/cr7_reunited-cr7/epfl_ml_project2/runs/cq9dqge5' target=\"_blank\">https://wandb.ai/cr7_reunited-cr7/epfl_ml_project2/runs/cq9dqge5</a>"
      ],
      "text/plain": [
       "<IPython.core.display.HTML object>"
      ]
     },
     "metadata": {},
     "output_type": "display_data"
    },
    {
     "data": {
      "text/html": [
       "\n",
       "    <style>\n",
       "        .wandb-row {\n",
       "            display: flex;\n",
       "            flex-direction: row;\n",
       "            flex-wrap: wrap;\n",
       "            justify-content: flex-start;\n",
       "            width: 100%;\n",
       "        }\n",
       "        .wandb-col {\n",
       "            display: flex;\n",
       "            flex-direction: column;\n",
       "            flex-basis: 100%;\n",
       "            flex: 1;\n",
       "            padding: 10px;\n",
       "        }\n",
       "    </style>\n",
       "<div class=\"wandb-row\"><div class=\"wandb-col\"><h3>Run history:</h3><br/><table class=\"wandb\"><tr><td>train_accuracy</td><td>▁</td></tr><tr><td>val_accuracy</td><td>▁</td></tr></table><br/></div><div class=\"wandb-col\"><h3>Run summary:</h3><br/><table class=\"wandb\"><tr><td>train_accuracy</td><td>0.79627</td></tr><tr><td>val_accuracy</td><td>0.76582</td></tr></table><br/></div></div>"
      ],
      "text/plain": [
       "<IPython.core.display.HTML object>"
      ]
     },
     "metadata": {},
     "output_type": "display_data"
    },
    {
     "data": {
      "text/html": [
       " View run <strong style=\"color:#cdcd00\">avid-sweep-21</strong> at: <a href='https://wandb.ai/cr7_reunited-cr7/epfl_ml_project2/runs/cq9dqge5' target=\"_blank\">https://wandb.ai/cr7_reunited-cr7/epfl_ml_project2/runs/cq9dqge5</a><br/> View project at: <a href='https://wandb.ai/cr7_reunited-cr7/epfl_ml_project2' target=\"_blank\">https://wandb.ai/cr7_reunited-cr7/epfl_ml_project2</a><br/>Synced 5 W&B file(s), 0 media file(s), 0 artifact file(s) and 0 other file(s)"
      ],
      "text/plain": [
       "<IPython.core.display.HTML object>"
      ]
     },
     "metadata": {},
     "output_type": "display_data"
    },
    {
     "data": {
      "text/html": [
       "Find logs at: <code>./wandb/run-20241217_202232-cq9dqge5/logs</code>"
      ],
      "text/plain": [
       "<IPython.core.display.HTML object>"
      ]
     },
     "metadata": {},
     "output_type": "display_data"
    },
    {
     "name": "stderr",
     "output_type": "stream",
     "text": [
      "\u001b[34m\u001b[1mwandb\u001b[0m: Agent Starting Run: jx5dp37y with config:\n",
      "\u001b[34m\u001b[1mwandb\u001b[0m: \tdataset: tfidf\n",
      "\u001b[34m\u001b[1mwandb\u001b[0m: \tmodel: Multinomial NB\n",
      "\u001b[34m\u001b[1mwandb\u001b[0m: \tnum_features: 20000\n"
     ]
    },
    {
     "data": {
      "text/html": [
       "Tracking run with wandb version 0.19.0"
      ],
      "text/plain": [
       "<IPython.core.display.HTML object>"
      ]
     },
     "metadata": {},
     "output_type": "display_data"
    },
    {
     "data": {
      "text/html": [
       "Run data is saved locally in <code>/home/parkmyungheon/Desktop/Work/CS-433/ml-project-2-yhs2/Sean/wandb/run-20241217_202237-jx5dp37y</code>"
      ],
      "text/plain": [
       "<IPython.core.display.HTML object>"
      ]
     },
     "metadata": {},
     "output_type": "display_data"
    },
    {
     "data": {
      "text/html": [
       "Syncing run <strong><a href='https://wandb.ai/cr7_reunited-cr7/epfl_ml_project2/runs/jx5dp37y' target=\"_blank\">different-sweep-22</a></strong> to <a href='https://wandb.ai/cr7_reunited-cr7/epfl_ml_project2' target=\"_blank\">Weights & Biases</a> (<a href='https://wandb.me/developer-guide' target=\"_blank\">docs</a>)<br/>Sweep page: <a href='https://wandb.ai/cr7_reunited-cr7/epfl_ml_project2/sweeps/tghwcg4n' target=\"_blank\">https://wandb.ai/cr7_reunited-cr7/epfl_ml_project2/sweeps/tghwcg4n</a>"
      ],
      "text/plain": [
       "<IPython.core.display.HTML object>"
      ]
     },
     "metadata": {},
     "output_type": "display_data"
    },
    {
     "data": {
      "text/html": [
       " View project at <a href='https://wandb.ai/cr7_reunited-cr7/epfl_ml_project2' target=\"_blank\">https://wandb.ai/cr7_reunited-cr7/epfl_ml_project2</a>"
      ],
      "text/plain": [
       "<IPython.core.display.HTML object>"
      ]
     },
     "metadata": {},
     "output_type": "display_data"
    },
    {
     "data": {
      "text/html": [
       " View sweep at <a href='https://wandb.ai/cr7_reunited-cr7/epfl_ml_project2/sweeps/tghwcg4n' target=\"_blank\">https://wandb.ai/cr7_reunited-cr7/epfl_ml_project2/sweeps/tghwcg4n</a>"
      ],
      "text/plain": [
       "<IPython.core.display.HTML object>"
      ]
     },
     "metadata": {},
     "output_type": "display_data"
    },
    {
     "data": {
      "text/html": [
       " View run at <a href='https://wandb.ai/cr7_reunited-cr7/epfl_ml_project2/runs/jx5dp37y' target=\"_blank\">https://wandb.ai/cr7_reunited-cr7/epfl_ml_project2/runs/jx5dp37y</a>"
      ],
      "text/plain": [
       "<IPython.core.display.HTML object>"
      ]
     },
     "metadata": {},
     "output_type": "display_data"
    },
    {
     "data": {
      "text/html": [
       "\n",
       "    <style>\n",
       "        .wandb-row {\n",
       "            display: flex;\n",
       "            flex-direction: row;\n",
       "            flex-wrap: wrap;\n",
       "            justify-content: flex-start;\n",
       "            width: 100%;\n",
       "        }\n",
       "        .wandb-col {\n",
       "            display: flex;\n",
       "            flex-direction: column;\n",
       "            flex-basis: 100%;\n",
       "            flex: 1;\n",
       "            padding: 10px;\n",
       "        }\n",
       "    </style>\n",
       "<div class=\"wandb-row\"><div class=\"wandb-col\"><h3>Run history:</h3><br/><table class=\"wandb\"><tr><td>train_accuracy</td><td>▁</td></tr><tr><td>val_accuracy</td><td>▁</td></tr></table><br/></div><div class=\"wandb-col\"><h3>Run summary:</h3><br/><table class=\"wandb\"><tr><td>train_accuracy</td><td>0.80636</td></tr><tr><td>val_accuracy</td><td>0.76372</td></tr></table><br/></div></div>"
      ],
      "text/plain": [
       "<IPython.core.display.HTML object>"
      ]
     },
     "metadata": {},
     "output_type": "display_data"
    },
    {
     "data": {
      "text/html": [
       " View run <strong style=\"color:#cdcd00\">different-sweep-22</strong> at: <a href='https://wandb.ai/cr7_reunited-cr7/epfl_ml_project2/runs/jx5dp37y' target=\"_blank\">https://wandb.ai/cr7_reunited-cr7/epfl_ml_project2/runs/jx5dp37y</a><br/> View project at: <a href='https://wandb.ai/cr7_reunited-cr7/epfl_ml_project2' target=\"_blank\">https://wandb.ai/cr7_reunited-cr7/epfl_ml_project2</a><br/>Synced 5 W&B file(s), 0 media file(s), 0 artifact file(s) and 0 other file(s)"
      ],
      "text/plain": [
       "<IPython.core.display.HTML object>"
      ]
     },
     "metadata": {},
     "output_type": "display_data"
    },
    {
     "data": {
      "text/html": [
       "Find logs at: <code>./wandb/run-20241217_202237-jx5dp37y/logs</code>"
      ],
      "text/plain": [
       "<IPython.core.display.HTML object>"
      ]
     },
     "metadata": {},
     "output_type": "display_data"
    },
    {
     "name": "stderr",
     "output_type": "stream",
     "text": [
      "\u001b[34m\u001b[1mwandb\u001b[0m: Agent Starting Run: k892yigk with config:\n",
      "\u001b[34m\u001b[1mwandb\u001b[0m: \tdataset: tfidf\n",
      "\u001b[34m\u001b[1mwandb\u001b[0m: \tmodel: Multinomial NB\n",
      "\u001b[34m\u001b[1mwandb\u001b[0m: \tnum_features: 50000\n"
     ]
    },
    {
     "data": {
      "text/html": [
       "Tracking run with wandb version 0.19.0"
      ],
      "text/plain": [
       "<IPython.core.display.HTML object>"
      ]
     },
     "metadata": {},
     "output_type": "display_data"
    },
    {
     "data": {
      "text/html": [
       "Run data is saved locally in <code>/home/parkmyungheon/Desktop/Work/CS-433/ml-project-2-yhs2/Sean/wandb/run-20241217_202243-k892yigk</code>"
      ],
      "text/plain": [
       "<IPython.core.display.HTML object>"
      ]
     },
     "metadata": {},
     "output_type": "display_data"
    },
    {
     "data": {
      "text/html": [
       "Syncing run <strong><a href='https://wandb.ai/cr7_reunited-cr7/epfl_ml_project2/runs/k892yigk' target=\"_blank\">dry-sweep-23</a></strong> to <a href='https://wandb.ai/cr7_reunited-cr7/epfl_ml_project2' target=\"_blank\">Weights & Biases</a> (<a href='https://wandb.me/developer-guide' target=\"_blank\">docs</a>)<br/>Sweep page: <a href='https://wandb.ai/cr7_reunited-cr7/epfl_ml_project2/sweeps/tghwcg4n' target=\"_blank\">https://wandb.ai/cr7_reunited-cr7/epfl_ml_project2/sweeps/tghwcg4n</a>"
      ],
      "text/plain": [
       "<IPython.core.display.HTML object>"
      ]
     },
     "metadata": {},
     "output_type": "display_data"
    },
    {
     "data": {
      "text/html": [
       " View project at <a href='https://wandb.ai/cr7_reunited-cr7/epfl_ml_project2' target=\"_blank\">https://wandb.ai/cr7_reunited-cr7/epfl_ml_project2</a>"
      ],
      "text/plain": [
       "<IPython.core.display.HTML object>"
      ]
     },
     "metadata": {},
     "output_type": "display_data"
    },
    {
     "data": {
      "text/html": [
       " View sweep at <a href='https://wandb.ai/cr7_reunited-cr7/epfl_ml_project2/sweeps/tghwcg4n' target=\"_blank\">https://wandb.ai/cr7_reunited-cr7/epfl_ml_project2/sweeps/tghwcg4n</a>"
      ],
      "text/plain": [
       "<IPython.core.display.HTML object>"
      ]
     },
     "metadata": {},
     "output_type": "display_data"
    },
    {
     "data": {
      "text/html": [
       " View run at <a href='https://wandb.ai/cr7_reunited-cr7/epfl_ml_project2/runs/k892yigk' target=\"_blank\">https://wandb.ai/cr7_reunited-cr7/epfl_ml_project2/runs/k892yigk</a>"
      ],
      "text/plain": [
       "<IPython.core.display.HTML object>"
      ]
     },
     "metadata": {},
     "output_type": "display_data"
    },
    {
     "data": {
      "text/html": [
       "\n",
       "    <style>\n",
       "        .wandb-row {\n",
       "            display: flex;\n",
       "            flex-direction: row;\n",
       "            flex-wrap: wrap;\n",
       "            justify-content: flex-start;\n",
       "            width: 100%;\n",
       "        }\n",
       "        .wandb-col {\n",
       "            display: flex;\n",
       "            flex-direction: column;\n",
       "            flex-basis: 100%;\n",
       "            flex: 1;\n",
       "            padding: 10px;\n",
       "        }\n",
       "    </style>\n",
       "<div class=\"wandb-row\"><div class=\"wandb-col\"><h3>Run history:</h3><br/><table class=\"wandb\"><tr><td>train_accuracy</td><td>▁</td></tr><tr><td>val_accuracy</td><td>▁</td></tr></table><br/></div><div class=\"wandb-col\"><h3>Run summary:</h3><br/><table class=\"wandb\"><tr><td>train_accuracy</td><td>0.82058</td></tr><tr><td>val_accuracy</td><td>0.7622</td></tr></table><br/></div></div>"
      ],
      "text/plain": [
       "<IPython.core.display.HTML object>"
      ]
     },
     "metadata": {},
     "output_type": "display_data"
    },
    {
     "data": {
      "text/html": [
       " View run <strong style=\"color:#cdcd00\">dry-sweep-23</strong> at: <a href='https://wandb.ai/cr7_reunited-cr7/epfl_ml_project2/runs/k892yigk' target=\"_blank\">https://wandb.ai/cr7_reunited-cr7/epfl_ml_project2/runs/k892yigk</a><br/> View project at: <a href='https://wandb.ai/cr7_reunited-cr7/epfl_ml_project2' target=\"_blank\">https://wandb.ai/cr7_reunited-cr7/epfl_ml_project2</a><br/>Synced 5 W&B file(s), 0 media file(s), 0 artifact file(s) and 0 other file(s)"
      ],
      "text/plain": [
       "<IPython.core.display.HTML object>"
      ]
     },
     "metadata": {},
     "output_type": "display_data"
    },
    {
     "data": {
      "text/html": [
       "Find logs at: <code>./wandb/run-20241217_202243-k892yigk/logs</code>"
      ],
      "text/plain": [
       "<IPython.core.display.HTML object>"
      ]
     },
     "metadata": {},
     "output_type": "display_data"
    },
    {
     "name": "stderr",
     "output_type": "stream",
     "text": [
      "\u001b[34m\u001b[1mwandb\u001b[0m: Agent Starting Run: crpme4ju with config:\n",
      "\u001b[34m\u001b[1mwandb\u001b[0m: \tdataset: tfidf\n",
      "\u001b[34m\u001b[1mwandb\u001b[0m: \tmodel: Multinomial NB\n",
      "\u001b[34m\u001b[1mwandb\u001b[0m: \tnum_features: 74552\n"
     ]
    },
    {
     "data": {
      "text/html": [
       "Tracking run with wandb version 0.19.0"
      ],
      "text/plain": [
       "<IPython.core.display.HTML object>"
      ]
     },
     "metadata": {},
     "output_type": "display_data"
    },
    {
     "data": {
      "text/html": [
       "Run data is saved locally in <code>/home/parkmyungheon/Desktop/Work/CS-433/ml-project-2-yhs2/Sean/wandb/run-20241217_202248-crpme4ju</code>"
      ],
      "text/plain": [
       "<IPython.core.display.HTML object>"
      ]
     },
     "metadata": {},
     "output_type": "display_data"
    },
    {
     "data": {
      "text/html": [
       "Syncing run <strong><a href='https://wandb.ai/cr7_reunited-cr7/epfl_ml_project2/runs/crpme4ju' target=\"_blank\">confused-sweep-24</a></strong> to <a href='https://wandb.ai/cr7_reunited-cr7/epfl_ml_project2' target=\"_blank\">Weights & Biases</a> (<a href='https://wandb.me/developer-guide' target=\"_blank\">docs</a>)<br/>Sweep page: <a href='https://wandb.ai/cr7_reunited-cr7/epfl_ml_project2/sweeps/tghwcg4n' target=\"_blank\">https://wandb.ai/cr7_reunited-cr7/epfl_ml_project2/sweeps/tghwcg4n</a>"
      ],
      "text/plain": [
       "<IPython.core.display.HTML object>"
      ]
     },
     "metadata": {},
     "output_type": "display_data"
    },
    {
     "data": {
      "text/html": [
       " View project at <a href='https://wandb.ai/cr7_reunited-cr7/epfl_ml_project2' target=\"_blank\">https://wandb.ai/cr7_reunited-cr7/epfl_ml_project2</a>"
      ],
      "text/plain": [
       "<IPython.core.display.HTML object>"
      ]
     },
     "metadata": {},
     "output_type": "display_data"
    },
    {
     "data": {
      "text/html": [
       " View sweep at <a href='https://wandb.ai/cr7_reunited-cr7/epfl_ml_project2/sweeps/tghwcg4n' target=\"_blank\">https://wandb.ai/cr7_reunited-cr7/epfl_ml_project2/sweeps/tghwcg4n</a>"
      ],
      "text/plain": [
       "<IPython.core.display.HTML object>"
      ]
     },
     "metadata": {},
     "output_type": "display_data"
    },
    {
     "data": {
      "text/html": [
       " View run at <a href='https://wandb.ai/cr7_reunited-cr7/epfl_ml_project2/runs/crpme4ju' target=\"_blank\">https://wandb.ai/cr7_reunited-cr7/epfl_ml_project2/runs/crpme4ju</a>"
      ],
      "text/plain": [
       "<IPython.core.display.HTML object>"
      ]
     },
     "metadata": {},
     "output_type": "display_data"
    },
    {
     "data": {
      "text/html": [
       "\n",
       "    <style>\n",
       "        .wandb-row {\n",
       "            display: flex;\n",
       "            flex-direction: row;\n",
       "            flex-wrap: wrap;\n",
       "            justify-content: flex-start;\n",
       "            width: 100%;\n",
       "        }\n",
       "        .wandb-col {\n",
       "            display: flex;\n",
       "            flex-direction: column;\n",
       "            flex-basis: 100%;\n",
       "            flex: 1;\n",
       "            padding: 10px;\n",
       "        }\n",
       "    </style>\n",
       "<div class=\"wandb-row\"><div class=\"wandb-col\"><h3>Run history:</h3><br/><table class=\"wandb\"><tr><td>train_accuracy</td><td>▁</td></tr><tr><td>val_accuracy</td><td>▁</td></tr></table><br/></div><div class=\"wandb-col\"><h3>Run summary:</h3><br/><table class=\"wandb\"><tr><td>train_accuracy</td><td>0.81671</td></tr><tr><td>val_accuracy</td><td>0.75958</td></tr></table><br/></div></div>"
      ],
      "text/plain": [
       "<IPython.core.display.HTML object>"
      ]
     },
     "metadata": {},
     "output_type": "display_data"
    },
    {
     "data": {
      "text/html": [
       " View run <strong style=\"color:#cdcd00\">confused-sweep-24</strong> at: <a href='https://wandb.ai/cr7_reunited-cr7/epfl_ml_project2/runs/crpme4ju' target=\"_blank\">https://wandb.ai/cr7_reunited-cr7/epfl_ml_project2/runs/crpme4ju</a><br/> View project at: <a href='https://wandb.ai/cr7_reunited-cr7/epfl_ml_project2' target=\"_blank\">https://wandb.ai/cr7_reunited-cr7/epfl_ml_project2</a><br/>Synced 5 W&B file(s), 0 media file(s), 0 artifact file(s) and 0 other file(s)"
      ],
      "text/plain": [
       "<IPython.core.display.HTML object>"
      ]
     },
     "metadata": {},
     "output_type": "display_data"
    },
    {
     "data": {
      "text/html": [
       "Find logs at: <code>./wandb/run-20241217_202248-crpme4ju/logs</code>"
      ],
      "text/plain": [
       "<IPython.core.display.HTML object>"
      ]
     },
     "metadata": {},
     "output_type": "display_data"
    },
    {
     "name": "stderr",
     "output_type": "stream",
     "text": [
      "\u001b[34m\u001b[1mwandb\u001b[0m: Agent Starting Run: os1dknxd with config:\n",
      "\u001b[34m\u001b[1mwandb\u001b[0m: \tdataset: tfidf\n",
      "\u001b[34m\u001b[1mwandb\u001b[0m: \tmodel: Complement NB\n",
      "\u001b[34m\u001b[1mwandb\u001b[0m: \tnum_features: 100\n"
     ]
    },
    {
     "data": {
      "text/html": [
       "Tracking run with wandb version 0.19.0"
      ],
      "text/plain": [
       "<IPython.core.display.HTML object>"
      ]
     },
     "metadata": {},
     "output_type": "display_data"
    },
    {
     "data": {
      "text/html": [
       "Run data is saved locally in <code>/home/parkmyungheon/Desktop/Work/CS-433/ml-project-2-yhs2/Sean/wandb/run-20241217_202253-os1dknxd</code>"
      ],
      "text/plain": [
       "<IPython.core.display.HTML object>"
      ]
     },
     "metadata": {},
     "output_type": "display_data"
    },
    {
     "data": {
      "text/html": [
       "Syncing run <strong><a href='https://wandb.ai/cr7_reunited-cr7/epfl_ml_project2/runs/os1dknxd' target=\"_blank\">misunderstood-sweep-25</a></strong> to <a href='https://wandb.ai/cr7_reunited-cr7/epfl_ml_project2' target=\"_blank\">Weights & Biases</a> (<a href='https://wandb.me/developer-guide' target=\"_blank\">docs</a>)<br/>Sweep page: <a href='https://wandb.ai/cr7_reunited-cr7/epfl_ml_project2/sweeps/tghwcg4n' target=\"_blank\">https://wandb.ai/cr7_reunited-cr7/epfl_ml_project2/sweeps/tghwcg4n</a>"
      ],
      "text/plain": [
       "<IPython.core.display.HTML object>"
      ]
     },
     "metadata": {},
     "output_type": "display_data"
    },
    {
     "data": {
      "text/html": [
       " View project at <a href='https://wandb.ai/cr7_reunited-cr7/epfl_ml_project2' target=\"_blank\">https://wandb.ai/cr7_reunited-cr7/epfl_ml_project2</a>"
      ],
      "text/plain": [
       "<IPython.core.display.HTML object>"
      ]
     },
     "metadata": {},
     "output_type": "display_data"
    },
    {
     "data": {
      "text/html": [
       " View sweep at <a href='https://wandb.ai/cr7_reunited-cr7/epfl_ml_project2/sweeps/tghwcg4n' target=\"_blank\">https://wandb.ai/cr7_reunited-cr7/epfl_ml_project2/sweeps/tghwcg4n</a>"
      ],
      "text/plain": [
       "<IPython.core.display.HTML object>"
      ]
     },
     "metadata": {},
     "output_type": "display_data"
    },
    {
     "data": {
      "text/html": [
       " View run at <a href='https://wandb.ai/cr7_reunited-cr7/epfl_ml_project2/runs/os1dknxd' target=\"_blank\">https://wandb.ai/cr7_reunited-cr7/epfl_ml_project2/runs/os1dknxd</a>"
      ],
      "text/plain": [
       "<IPython.core.display.HTML object>"
      ]
     },
     "metadata": {},
     "output_type": "display_data"
    },
    {
     "data": {
      "text/html": [
       "\n",
       "    <style>\n",
       "        .wandb-row {\n",
       "            display: flex;\n",
       "            flex-direction: row;\n",
       "            flex-wrap: wrap;\n",
       "            justify-content: flex-start;\n",
       "            width: 100%;\n",
       "        }\n",
       "        .wandb-col {\n",
       "            display: flex;\n",
       "            flex-direction: column;\n",
       "            flex-basis: 100%;\n",
       "            flex: 1;\n",
       "            padding: 10px;\n",
       "        }\n",
       "    </style>\n",
       "<div class=\"wandb-row\"><div class=\"wandb-col\"><h3>Run history:</h3><br/><table class=\"wandb\"><tr><td>train_accuracy</td><td>▁</td></tr><tr><td>val_accuracy</td><td>▁</td></tr></table><br/></div><div class=\"wandb-col\"><h3>Run summary:</h3><br/><table class=\"wandb\"><tr><td>train_accuracy</td><td>0.70056</td></tr><tr><td>val_accuracy</td><td>0.69268</td></tr></table><br/></div></div>"
      ],
      "text/plain": [
       "<IPython.core.display.HTML object>"
      ]
     },
     "metadata": {},
     "output_type": "display_data"
    },
    {
     "data": {
      "text/html": [
       " View run <strong style=\"color:#cdcd00\">misunderstood-sweep-25</strong> at: <a href='https://wandb.ai/cr7_reunited-cr7/epfl_ml_project2/runs/os1dknxd' target=\"_blank\">https://wandb.ai/cr7_reunited-cr7/epfl_ml_project2/runs/os1dknxd</a><br/> View project at: <a href='https://wandb.ai/cr7_reunited-cr7/epfl_ml_project2' target=\"_blank\">https://wandb.ai/cr7_reunited-cr7/epfl_ml_project2</a><br/>Synced 5 W&B file(s), 0 media file(s), 0 artifact file(s) and 0 other file(s)"
      ],
      "text/plain": [
       "<IPython.core.display.HTML object>"
      ]
     },
     "metadata": {},
     "output_type": "display_data"
    },
    {
     "data": {
      "text/html": [
       "Find logs at: <code>./wandb/run-20241217_202253-os1dknxd/logs</code>"
      ],
      "text/plain": [
       "<IPython.core.display.HTML object>"
      ]
     },
     "metadata": {},
     "output_type": "display_data"
    },
    {
     "name": "stderr",
     "output_type": "stream",
     "text": [
      "\u001b[34m\u001b[1mwandb\u001b[0m: Agent Starting Run: b0pxmf24 with config:\n",
      "\u001b[34m\u001b[1mwandb\u001b[0m: \tdataset: tfidf\n",
      "\u001b[34m\u001b[1mwandb\u001b[0m: \tmodel: Complement NB\n",
      "\u001b[34m\u001b[1mwandb\u001b[0m: \tnum_features: 500\n"
     ]
    },
    {
     "data": {
      "text/html": [
       "Tracking run with wandb version 0.19.0"
      ],
      "text/plain": [
       "<IPython.core.display.HTML object>"
      ]
     },
     "metadata": {},
     "output_type": "display_data"
    },
    {
     "data": {
      "text/html": [
       "Run data is saved locally in <code>/home/parkmyungheon/Desktop/Work/CS-433/ml-project-2-yhs2/Sean/wandb/run-20241217_202259-b0pxmf24</code>"
      ],
      "text/plain": [
       "<IPython.core.display.HTML object>"
      ]
     },
     "metadata": {},
     "output_type": "display_data"
    },
    {
     "data": {
      "text/html": [
       "Syncing run <strong><a href='https://wandb.ai/cr7_reunited-cr7/epfl_ml_project2/runs/b0pxmf24' target=\"_blank\">sweepy-sweep-26</a></strong> to <a href='https://wandb.ai/cr7_reunited-cr7/epfl_ml_project2' target=\"_blank\">Weights & Biases</a> (<a href='https://wandb.me/developer-guide' target=\"_blank\">docs</a>)<br/>Sweep page: <a href='https://wandb.ai/cr7_reunited-cr7/epfl_ml_project2/sweeps/tghwcg4n' target=\"_blank\">https://wandb.ai/cr7_reunited-cr7/epfl_ml_project2/sweeps/tghwcg4n</a>"
      ],
      "text/plain": [
       "<IPython.core.display.HTML object>"
      ]
     },
     "metadata": {},
     "output_type": "display_data"
    },
    {
     "data": {
      "text/html": [
       " View project at <a href='https://wandb.ai/cr7_reunited-cr7/epfl_ml_project2' target=\"_blank\">https://wandb.ai/cr7_reunited-cr7/epfl_ml_project2</a>"
      ],
      "text/plain": [
       "<IPython.core.display.HTML object>"
      ]
     },
     "metadata": {},
     "output_type": "display_data"
    },
    {
     "data": {
      "text/html": [
       " View sweep at <a href='https://wandb.ai/cr7_reunited-cr7/epfl_ml_project2/sweeps/tghwcg4n' target=\"_blank\">https://wandb.ai/cr7_reunited-cr7/epfl_ml_project2/sweeps/tghwcg4n</a>"
      ],
      "text/plain": [
       "<IPython.core.display.HTML object>"
      ]
     },
     "metadata": {},
     "output_type": "display_data"
    },
    {
     "data": {
      "text/html": [
       " View run at <a href='https://wandb.ai/cr7_reunited-cr7/epfl_ml_project2/runs/b0pxmf24' target=\"_blank\">https://wandb.ai/cr7_reunited-cr7/epfl_ml_project2/runs/b0pxmf24</a>"
      ],
      "text/plain": [
       "<IPython.core.display.HTML object>"
      ]
     },
     "metadata": {},
     "output_type": "display_data"
    },
    {
     "data": {
      "text/html": [
       "\n",
       "    <style>\n",
       "        .wandb-row {\n",
       "            display: flex;\n",
       "            flex-direction: row;\n",
       "            flex-wrap: wrap;\n",
       "            justify-content: flex-start;\n",
       "            width: 100%;\n",
       "        }\n",
       "        .wandb-col {\n",
       "            display: flex;\n",
       "            flex-direction: column;\n",
       "            flex-basis: 100%;\n",
       "            flex: 1;\n",
       "            padding: 10px;\n",
       "        }\n",
       "    </style>\n",
       "<div class=\"wandb-row\"><div class=\"wandb-col\"><h3>Run history:</h3><br/><table class=\"wandb\"><tr><td>train_accuracy</td><td>▁</td></tr><tr><td>val_accuracy</td><td>▁</td></tr></table><br/></div><div class=\"wandb-col\"><h3>Run summary:</h3><br/><table class=\"wandb\"><tr><td>train_accuracy</td><td>0.75697</td></tr><tr><td>val_accuracy</td><td>0.74733</td></tr></table><br/></div></div>"
      ],
      "text/plain": [
       "<IPython.core.display.HTML object>"
      ]
     },
     "metadata": {},
     "output_type": "display_data"
    },
    {
     "data": {
      "text/html": [
       " View run <strong style=\"color:#cdcd00\">sweepy-sweep-26</strong> at: <a href='https://wandb.ai/cr7_reunited-cr7/epfl_ml_project2/runs/b0pxmf24' target=\"_blank\">https://wandb.ai/cr7_reunited-cr7/epfl_ml_project2/runs/b0pxmf24</a><br/> View project at: <a href='https://wandb.ai/cr7_reunited-cr7/epfl_ml_project2' target=\"_blank\">https://wandb.ai/cr7_reunited-cr7/epfl_ml_project2</a><br/>Synced 5 W&B file(s), 0 media file(s), 0 artifact file(s) and 0 other file(s)"
      ],
      "text/plain": [
       "<IPython.core.display.HTML object>"
      ]
     },
     "metadata": {},
     "output_type": "display_data"
    },
    {
     "data": {
      "text/html": [
       "Find logs at: <code>./wandb/run-20241217_202259-b0pxmf24/logs</code>"
      ],
      "text/plain": [
       "<IPython.core.display.HTML object>"
      ]
     },
     "metadata": {},
     "output_type": "display_data"
    },
    {
     "name": "stderr",
     "output_type": "stream",
     "text": [
      "\u001b[34m\u001b[1mwandb\u001b[0m: Agent Starting Run: 0boq2pru with config:\n",
      "\u001b[34m\u001b[1mwandb\u001b[0m: \tdataset: tfidf\n",
      "\u001b[34m\u001b[1mwandb\u001b[0m: \tmodel: Complement NB\n",
      "\u001b[34m\u001b[1mwandb\u001b[0m: \tnum_features: 1000\n"
     ]
    },
    {
     "data": {
      "text/html": [
       "Tracking run with wandb version 0.19.0"
      ],
      "text/plain": [
       "<IPython.core.display.HTML object>"
      ]
     },
     "metadata": {},
     "output_type": "display_data"
    },
    {
     "data": {
      "text/html": [
       "Run data is saved locally in <code>/home/parkmyungheon/Desktop/Work/CS-433/ml-project-2-yhs2/Sean/wandb/run-20241217_202304-0boq2pru</code>"
      ],
      "text/plain": [
       "<IPython.core.display.HTML object>"
      ]
     },
     "metadata": {},
     "output_type": "display_data"
    },
    {
     "data": {
      "text/html": [
       "Syncing run <strong><a href='https://wandb.ai/cr7_reunited-cr7/epfl_ml_project2/runs/0boq2pru' target=\"_blank\">devoted-sweep-27</a></strong> to <a href='https://wandb.ai/cr7_reunited-cr7/epfl_ml_project2' target=\"_blank\">Weights & Biases</a> (<a href='https://wandb.me/developer-guide' target=\"_blank\">docs</a>)<br/>Sweep page: <a href='https://wandb.ai/cr7_reunited-cr7/epfl_ml_project2/sweeps/tghwcg4n' target=\"_blank\">https://wandb.ai/cr7_reunited-cr7/epfl_ml_project2/sweeps/tghwcg4n</a>"
      ],
      "text/plain": [
       "<IPython.core.display.HTML object>"
      ]
     },
     "metadata": {},
     "output_type": "display_data"
    },
    {
     "data": {
      "text/html": [
       " View project at <a href='https://wandb.ai/cr7_reunited-cr7/epfl_ml_project2' target=\"_blank\">https://wandb.ai/cr7_reunited-cr7/epfl_ml_project2</a>"
      ],
      "text/plain": [
       "<IPython.core.display.HTML object>"
      ]
     },
     "metadata": {},
     "output_type": "display_data"
    },
    {
     "data": {
      "text/html": [
       " View sweep at <a href='https://wandb.ai/cr7_reunited-cr7/epfl_ml_project2/sweeps/tghwcg4n' target=\"_blank\">https://wandb.ai/cr7_reunited-cr7/epfl_ml_project2/sweeps/tghwcg4n</a>"
      ],
      "text/plain": [
       "<IPython.core.display.HTML object>"
      ]
     },
     "metadata": {},
     "output_type": "display_data"
    },
    {
     "data": {
      "text/html": [
       " View run at <a href='https://wandb.ai/cr7_reunited-cr7/epfl_ml_project2/runs/0boq2pru' target=\"_blank\">https://wandb.ai/cr7_reunited-cr7/epfl_ml_project2/runs/0boq2pru</a>"
      ],
      "text/plain": [
       "<IPython.core.display.HTML object>"
      ]
     },
     "metadata": {},
     "output_type": "display_data"
    },
    {
     "data": {
      "text/html": [
       "\n",
       "    <style>\n",
       "        .wandb-row {\n",
       "            display: flex;\n",
       "            flex-direction: row;\n",
       "            flex-wrap: wrap;\n",
       "            justify-content: flex-start;\n",
       "            width: 100%;\n",
       "        }\n",
       "        .wandb-col {\n",
       "            display: flex;\n",
       "            flex-direction: column;\n",
       "            flex-basis: 100%;\n",
       "            flex: 1;\n",
       "            padding: 10px;\n",
       "        }\n",
       "    </style>\n",
       "<div class=\"wandb-row\"><div class=\"wandb-col\"><h3>Run history:</h3><br/><table class=\"wandb\"><tr><td>train_accuracy</td><td>▁</td></tr><tr><td>val_accuracy</td><td>▁</td></tr></table><br/></div><div class=\"wandb-col\"><h3>Run summary:</h3><br/><table class=\"wandb\"><tr><td>train_accuracy</td><td>0.77193</td></tr><tr><td>val_accuracy</td><td>0.7596</td></tr></table><br/></div></div>"
      ],
      "text/plain": [
       "<IPython.core.display.HTML object>"
      ]
     },
     "metadata": {},
     "output_type": "display_data"
    },
    {
     "data": {
      "text/html": [
       " View run <strong style=\"color:#cdcd00\">devoted-sweep-27</strong> at: <a href='https://wandb.ai/cr7_reunited-cr7/epfl_ml_project2/runs/0boq2pru' target=\"_blank\">https://wandb.ai/cr7_reunited-cr7/epfl_ml_project2/runs/0boq2pru</a><br/> View project at: <a href='https://wandb.ai/cr7_reunited-cr7/epfl_ml_project2' target=\"_blank\">https://wandb.ai/cr7_reunited-cr7/epfl_ml_project2</a><br/>Synced 5 W&B file(s), 0 media file(s), 0 artifact file(s) and 0 other file(s)"
      ],
      "text/plain": [
       "<IPython.core.display.HTML object>"
      ]
     },
     "metadata": {},
     "output_type": "display_data"
    },
    {
     "data": {
      "text/html": [
       "Find logs at: <code>./wandb/run-20241217_202304-0boq2pru/logs</code>"
      ],
      "text/plain": [
       "<IPython.core.display.HTML object>"
      ]
     },
     "metadata": {},
     "output_type": "display_data"
    },
    {
     "name": "stderr",
     "output_type": "stream",
     "text": [
      "\u001b[34m\u001b[1mwandb\u001b[0m: Agent Starting Run: drfunv7l with config:\n",
      "\u001b[34m\u001b[1mwandb\u001b[0m: \tdataset: tfidf\n",
      "\u001b[34m\u001b[1mwandb\u001b[0m: \tmodel: Complement NB\n",
      "\u001b[34m\u001b[1mwandb\u001b[0m: \tnum_features: 5000\n"
     ]
    },
    {
     "data": {
      "text/html": [
       "Tracking run with wandb version 0.19.0"
      ],
      "text/plain": [
       "<IPython.core.display.HTML object>"
      ]
     },
     "metadata": {},
     "output_type": "display_data"
    },
    {
     "data": {
      "text/html": [
       "Run data is saved locally in <code>/home/parkmyungheon/Desktop/Work/CS-433/ml-project-2-yhs2/Sean/wandb/run-20241217_202309-drfunv7l</code>"
      ],
      "text/plain": [
       "<IPython.core.display.HTML object>"
      ]
     },
     "metadata": {},
     "output_type": "display_data"
    },
    {
     "data": {
      "text/html": [
       "Syncing run <strong><a href='https://wandb.ai/cr7_reunited-cr7/epfl_ml_project2/runs/drfunv7l' target=\"_blank\">hardy-sweep-28</a></strong> to <a href='https://wandb.ai/cr7_reunited-cr7/epfl_ml_project2' target=\"_blank\">Weights & Biases</a> (<a href='https://wandb.me/developer-guide' target=\"_blank\">docs</a>)<br/>Sweep page: <a href='https://wandb.ai/cr7_reunited-cr7/epfl_ml_project2/sweeps/tghwcg4n' target=\"_blank\">https://wandb.ai/cr7_reunited-cr7/epfl_ml_project2/sweeps/tghwcg4n</a>"
      ],
      "text/plain": [
       "<IPython.core.display.HTML object>"
      ]
     },
     "metadata": {},
     "output_type": "display_data"
    },
    {
     "data": {
      "text/html": [
       " View project at <a href='https://wandb.ai/cr7_reunited-cr7/epfl_ml_project2' target=\"_blank\">https://wandb.ai/cr7_reunited-cr7/epfl_ml_project2</a>"
      ],
      "text/plain": [
       "<IPython.core.display.HTML object>"
      ]
     },
     "metadata": {},
     "output_type": "display_data"
    },
    {
     "data": {
      "text/html": [
       " View sweep at <a href='https://wandb.ai/cr7_reunited-cr7/epfl_ml_project2/sweeps/tghwcg4n' target=\"_blank\">https://wandb.ai/cr7_reunited-cr7/epfl_ml_project2/sweeps/tghwcg4n</a>"
      ],
      "text/plain": [
       "<IPython.core.display.HTML object>"
      ]
     },
     "metadata": {},
     "output_type": "display_data"
    },
    {
     "data": {
      "text/html": [
       " View run at <a href='https://wandb.ai/cr7_reunited-cr7/epfl_ml_project2/runs/drfunv7l' target=\"_blank\">https://wandb.ai/cr7_reunited-cr7/epfl_ml_project2/runs/drfunv7l</a>"
      ],
      "text/plain": [
       "<IPython.core.display.HTML object>"
      ]
     },
     "metadata": {},
     "output_type": "display_data"
    },
    {
     "data": {
      "text/html": [
       "\n",
       "    <style>\n",
       "        .wandb-row {\n",
       "            display: flex;\n",
       "            flex-direction: row;\n",
       "            flex-wrap: wrap;\n",
       "            justify-content: flex-start;\n",
       "            width: 100%;\n",
       "        }\n",
       "        .wandb-col {\n",
       "            display: flex;\n",
       "            flex-direction: column;\n",
       "            flex-basis: 100%;\n",
       "            flex: 1;\n",
       "            padding: 10px;\n",
       "        }\n",
       "    </style>\n",
       "<div class=\"wandb-row\"><div class=\"wandb-col\"><h3>Run history:</h3><br/><table class=\"wandb\"><tr><td>train_accuracy</td><td>▁</td></tr><tr><td>val_accuracy</td><td>▁</td></tr></table><br/></div><div class=\"wandb-col\"><h3>Run summary:</h3><br/><table class=\"wandb\"><tr><td>train_accuracy</td><td>0.78749</td></tr><tr><td>val_accuracy</td><td>0.76695</td></tr></table><br/></div></div>"
      ],
      "text/plain": [
       "<IPython.core.display.HTML object>"
      ]
     },
     "metadata": {},
     "output_type": "display_data"
    },
    {
     "data": {
      "text/html": [
       " View run <strong style=\"color:#cdcd00\">hardy-sweep-28</strong> at: <a href='https://wandb.ai/cr7_reunited-cr7/epfl_ml_project2/runs/drfunv7l' target=\"_blank\">https://wandb.ai/cr7_reunited-cr7/epfl_ml_project2/runs/drfunv7l</a><br/> View project at: <a href='https://wandb.ai/cr7_reunited-cr7/epfl_ml_project2' target=\"_blank\">https://wandb.ai/cr7_reunited-cr7/epfl_ml_project2</a><br/>Synced 5 W&B file(s), 0 media file(s), 0 artifact file(s) and 0 other file(s)"
      ],
      "text/plain": [
       "<IPython.core.display.HTML object>"
      ]
     },
     "metadata": {},
     "output_type": "display_data"
    },
    {
     "data": {
      "text/html": [
       "Find logs at: <code>./wandb/run-20241217_202309-drfunv7l/logs</code>"
      ],
      "text/plain": [
       "<IPython.core.display.HTML object>"
      ]
     },
     "metadata": {},
     "output_type": "display_data"
    },
    {
     "name": "stderr",
     "output_type": "stream",
     "text": [
      "\u001b[34m\u001b[1mwandb\u001b[0m: Agent Starting Run: wcqtje3y with config:\n",
      "\u001b[34m\u001b[1mwandb\u001b[0m: \tdataset: tfidf\n",
      "\u001b[34m\u001b[1mwandb\u001b[0m: \tmodel: Complement NB\n",
      "\u001b[34m\u001b[1mwandb\u001b[0m: \tnum_features: 10000\n"
     ]
    },
    {
     "data": {
      "text/html": [
       "Tracking run with wandb version 0.19.0"
      ],
      "text/plain": [
       "<IPython.core.display.HTML object>"
      ]
     },
     "metadata": {},
     "output_type": "display_data"
    },
    {
     "data": {
      "text/html": [
       "Run data is saved locally in <code>/home/parkmyungheon/Desktop/Work/CS-433/ml-project-2-yhs2/Sean/wandb/run-20241217_202315-wcqtje3y</code>"
      ],
      "text/plain": [
       "<IPython.core.display.HTML object>"
      ]
     },
     "metadata": {},
     "output_type": "display_data"
    },
    {
     "data": {
      "text/html": [
       "Syncing run <strong><a href='https://wandb.ai/cr7_reunited-cr7/epfl_ml_project2/runs/wcqtje3y' target=\"_blank\">driven-sweep-29</a></strong> to <a href='https://wandb.ai/cr7_reunited-cr7/epfl_ml_project2' target=\"_blank\">Weights & Biases</a> (<a href='https://wandb.me/developer-guide' target=\"_blank\">docs</a>)<br/>Sweep page: <a href='https://wandb.ai/cr7_reunited-cr7/epfl_ml_project2/sweeps/tghwcg4n' target=\"_blank\">https://wandb.ai/cr7_reunited-cr7/epfl_ml_project2/sweeps/tghwcg4n</a>"
      ],
      "text/plain": [
       "<IPython.core.display.HTML object>"
      ]
     },
     "metadata": {},
     "output_type": "display_data"
    },
    {
     "data": {
      "text/html": [
       " View project at <a href='https://wandb.ai/cr7_reunited-cr7/epfl_ml_project2' target=\"_blank\">https://wandb.ai/cr7_reunited-cr7/epfl_ml_project2</a>"
      ],
      "text/plain": [
       "<IPython.core.display.HTML object>"
      ]
     },
     "metadata": {},
     "output_type": "display_data"
    },
    {
     "data": {
      "text/html": [
       " View sweep at <a href='https://wandb.ai/cr7_reunited-cr7/epfl_ml_project2/sweeps/tghwcg4n' target=\"_blank\">https://wandb.ai/cr7_reunited-cr7/epfl_ml_project2/sweeps/tghwcg4n</a>"
      ],
      "text/plain": [
       "<IPython.core.display.HTML object>"
      ]
     },
     "metadata": {},
     "output_type": "display_data"
    },
    {
     "data": {
      "text/html": [
       " View run at <a href='https://wandb.ai/cr7_reunited-cr7/epfl_ml_project2/runs/wcqtje3y' target=\"_blank\">https://wandb.ai/cr7_reunited-cr7/epfl_ml_project2/runs/wcqtje3y</a>"
      ],
      "text/plain": [
       "<IPython.core.display.HTML object>"
      ]
     },
     "metadata": {},
     "output_type": "display_data"
    },
    {
     "data": {
      "text/html": [
       "\n",
       "    <style>\n",
       "        .wandb-row {\n",
       "            display: flex;\n",
       "            flex-direction: row;\n",
       "            flex-wrap: wrap;\n",
       "            justify-content: flex-start;\n",
       "            width: 100%;\n",
       "        }\n",
       "        .wandb-col {\n",
       "            display: flex;\n",
       "            flex-direction: column;\n",
       "            flex-basis: 100%;\n",
       "            flex: 1;\n",
       "            padding: 10px;\n",
       "        }\n",
       "    </style>\n",
       "<div class=\"wandb-row\"><div class=\"wandb-col\"><h3>Run history:</h3><br/><table class=\"wandb\"><tr><td>train_accuracy</td><td>▁</td></tr><tr><td>val_accuracy</td><td>▁</td></tr></table><br/></div><div class=\"wandb-col\"><h3>Run summary:</h3><br/><table class=\"wandb\"><tr><td>train_accuracy</td><td>0.79627</td></tr><tr><td>val_accuracy</td><td>0.76663</td></tr></table><br/></div></div>"
      ],
      "text/plain": [
       "<IPython.core.display.HTML object>"
      ]
     },
     "metadata": {},
     "output_type": "display_data"
    },
    {
     "data": {
      "text/html": [
       " View run <strong style=\"color:#cdcd00\">driven-sweep-29</strong> at: <a href='https://wandb.ai/cr7_reunited-cr7/epfl_ml_project2/runs/wcqtje3y' target=\"_blank\">https://wandb.ai/cr7_reunited-cr7/epfl_ml_project2/runs/wcqtje3y</a><br/> View project at: <a href='https://wandb.ai/cr7_reunited-cr7/epfl_ml_project2' target=\"_blank\">https://wandb.ai/cr7_reunited-cr7/epfl_ml_project2</a><br/>Synced 5 W&B file(s), 0 media file(s), 0 artifact file(s) and 0 other file(s)"
      ],
      "text/plain": [
       "<IPython.core.display.HTML object>"
      ]
     },
     "metadata": {},
     "output_type": "display_data"
    },
    {
     "data": {
      "text/html": [
       "Find logs at: <code>./wandb/run-20241217_202315-wcqtje3y/logs</code>"
      ],
      "text/plain": [
       "<IPython.core.display.HTML object>"
      ]
     },
     "metadata": {},
     "output_type": "display_data"
    },
    {
     "name": "stderr",
     "output_type": "stream",
     "text": [
      "\u001b[34m\u001b[1mwandb\u001b[0m: Agent Starting Run: 39q7l6oy with config:\n",
      "\u001b[34m\u001b[1mwandb\u001b[0m: \tdataset: tfidf\n",
      "\u001b[34m\u001b[1mwandb\u001b[0m: \tmodel: Complement NB\n",
      "\u001b[34m\u001b[1mwandb\u001b[0m: \tnum_features: 20000\n"
     ]
    },
    {
     "data": {
      "text/html": [
       "Tracking run with wandb version 0.19.0"
      ],
      "text/plain": [
       "<IPython.core.display.HTML object>"
      ]
     },
     "metadata": {},
     "output_type": "display_data"
    },
    {
     "data": {
      "text/html": [
       "Run data is saved locally in <code>/home/parkmyungheon/Desktop/Work/CS-433/ml-project-2-yhs2/Sean/wandb/run-20241217_202320-39q7l6oy</code>"
      ],
      "text/plain": [
       "<IPython.core.display.HTML object>"
      ]
     },
     "metadata": {},
     "output_type": "display_data"
    },
    {
     "data": {
      "text/html": [
       "Syncing run <strong><a href='https://wandb.ai/cr7_reunited-cr7/epfl_ml_project2/runs/39q7l6oy' target=\"_blank\">charmed-sweep-30</a></strong> to <a href='https://wandb.ai/cr7_reunited-cr7/epfl_ml_project2' target=\"_blank\">Weights & Biases</a> (<a href='https://wandb.me/developer-guide' target=\"_blank\">docs</a>)<br/>Sweep page: <a href='https://wandb.ai/cr7_reunited-cr7/epfl_ml_project2/sweeps/tghwcg4n' target=\"_blank\">https://wandb.ai/cr7_reunited-cr7/epfl_ml_project2/sweeps/tghwcg4n</a>"
      ],
      "text/plain": [
       "<IPython.core.display.HTML object>"
      ]
     },
     "metadata": {},
     "output_type": "display_data"
    },
    {
     "data": {
      "text/html": [
       " View project at <a href='https://wandb.ai/cr7_reunited-cr7/epfl_ml_project2' target=\"_blank\">https://wandb.ai/cr7_reunited-cr7/epfl_ml_project2</a>"
      ],
      "text/plain": [
       "<IPython.core.display.HTML object>"
      ]
     },
     "metadata": {},
     "output_type": "display_data"
    },
    {
     "data": {
      "text/html": [
       " View sweep at <a href='https://wandb.ai/cr7_reunited-cr7/epfl_ml_project2/sweeps/tghwcg4n' target=\"_blank\">https://wandb.ai/cr7_reunited-cr7/epfl_ml_project2/sweeps/tghwcg4n</a>"
      ],
      "text/plain": [
       "<IPython.core.display.HTML object>"
      ]
     },
     "metadata": {},
     "output_type": "display_data"
    },
    {
     "data": {
      "text/html": [
       " View run at <a href='https://wandb.ai/cr7_reunited-cr7/epfl_ml_project2/runs/39q7l6oy' target=\"_blank\">https://wandb.ai/cr7_reunited-cr7/epfl_ml_project2/runs/39q7l6oy</a>"
      ],
      "text/plain": [
       "<IPython.core.display.HTML object>"
      ]
     },
     "metadata": {},
     "output_type": "display_data"
    },
    {
     "data": {
      "text/html": [
       "\n",
       "    <style>\n",
       "        .wandb-row {\n",
       "            display: flex;\n",
       "            flex-direction: row;\n",
       "            flex-wrap: wrap;\n",
       "            justify-content: flex-start;\n",
       "            width: 100%;\n",
       "        }\n",
       "        .wandb-col {\n",
       "            display: flex;\n",
       "            flex-direction: column;\n",
       "            flex-basis: 100%;\n",
       "            flex: 1;\n",
       "            padding: 10px;\n",
       "        }\n",
       "    </style>\n",
       "<div class=\"wandb-row\"><div class=\"wandb-col\"><h3>Run history:</h3><br/><table class=\"wandb\"><tr><td>train_accuracy</td><td>▁</td></tr><tr><td>val_accuracy</td><td>▁</td></tr></table><br/></div><div class=\"wandb-col\"><h3>Run summary:</h3><br/><table class=\"wandb\"><tr><td>train_accuracy</td><td>0.8069</td></tr><tr><td>val_accuracy</td><td>0.76372</td></tr></table><br/></div></div>"
      ],
      "text/plain": [
       "<IPython.core.display.HTML object>"
      ]
     },
     "metadata": {},
     "output_type": "display_data"
    },
    {
     "data": {
      "text/html": [
       " View run <strong style=\"color:#cdcd00\">charmed-sweep-30</strong> at: <a href='https://wandb.ai/cr7_reunited-cr7/epfl_ml_project2/runs/39q7l6oy' target=\"_blank\">https://wandb.ai/cr7_reunited-cr7/epfl_ml_project2/runs/39q7l6oy</a><br/> View project at: <a href='https://wandb.ai/cr7_reunited-cr7/epfl_ml_project2' target=\"_blank\">https://wandb.ai/cr7_reunited-cr7/epfl_ml_project2</a><br/>Synced 5 W&B file(s), 0 media file(s), 0 artifact file(s) and 0 other file(s)"
      ],
      "text/plain": [
       "<IPython.core.display.HTML object>"
      ]
     },
     "metadata": {},
     "output_type": "display_data"
    },
    {
     "data": {
      "text/html": [
       "Find logs at: <code>./wandb/run-20241217_202320-39q7l6oy/logs</code>"
      ],
      "text/plain": [
       "<IPython.core.display.HTML object>"
      ]
     },
     "metadata": {},
     "output_type": "display_data"
    },
    {
     "name": "stderr",
     "output_type": "stream",
     "text": [
      "\u001b[34m\u001b[1mwandb\u001b[0m: Agent Starting Run: nrrw7x1a with config:\n",
      "\u001b[34m\u001b[1mwandb\u001b[0m: \tdataset: tfidf\n",
      "\u001b[34m\u001b[1mwandb\u001b[0m: \tmodel: Complement NB\n",
      "\u001b[34m\u001b[1mwandb\u001b[0m: \tnum_features: 50000\n"
     ]
    },
    {
     "data": {
      "text/html": [
       "Tracking run with wandb version 0.19.0"
      ],
      "text/plain": [
       "<IPython.core.display.HTML object>"
      ]
     },
     "metadata": {},
     "output_type": "display_data"
    },
    {
     "data": {
      "text/html": [
       "Run data is saved locally in <code>/home/parkmyungheon/Desktop/Work/CS-433/ml-project-2-yhs2/Sean/wandb/run-20241217_202325-nrrw7x1a</code>"
      ],
      "text/plain": [
       "<IPython.core.display.HTML object>"
      ]
     },
     "metadata": {},
     "output_type": "display_data"
    },
    {
     "data": {
      "text/html": [
       "Syncing run <strong><a href='https://wandb.ai/cr7_reunited-cr7/epfl_ml_project2/runs/nrrw7x1a' target=\"_blank\">stilted-sweep-31</a></strong> to <a href='https://wandb.ai/cr7_reunited-cr7/epfl_ml_project2' target=\"_blank\">Weights & Biases</a> (<a href='https://wandb.me/developer-guide' target=\"_blank\">docs</a>)<br/>Sweep page: <a href='https://wandb.ai/cr7_reunited-cr7/epfl_ml_project2/sweeps/tghwcg4n' target=\"_blank\">https://wandb.ai/cr7_reunited-cr7/epfl_ml_project2/sweeps/tghwcg4n</a>"
      ],
      "text/plain": [
       "<IPython.core.display.HTML object>"
      ]
     },
     "metadata": {},
     "output_type": "display_data"
    },
    {
     "data": {
      "text/html": [
       " View project at <a href='https://wandb.ai/cr7_reunited-cr7/epfl_ml_project2' target=\"_blank\">https://wandb.ai/cr7_reunited-cr7/epfl_ml_project2</a>"
      ],
      "text/plain": [
       "<IPython.core.display.HTML object>"
      ]
     },
     "metadata": {},
     "output_type": "display_data"
    },
    {
     "data": {
      "text/html": [
       " View sweep at <a href='https://wandb.ai/cr7_reunited-cr7/epfl_ml_project2/sweeps/tghwcg4n' target=\"_blank\">https://wandb.ai/cr7_reunited-cr7/epfl_ml_project2/sweeps/tghwcg4n</a>"
      ],
      "text/plain": [
       "<IPython.core.display.HTML object>"
      ]
     },
     "metadata": {},
     "output_type": "display_data"
    },
    {
     "data": {
      "text/html": [
       " View run at <a href='https://wandb.ai/cr7_reunited-cr7/epfl_ml_project2/runs/nrrw7x1a' target=\"_blank\">https://wandb.ai/cr7_reunited-cr7/epfl_ml_project2/runs/nrrw7x1a</a>"
      ],
      "text/plain": [
       "<IPython.core.display.HTML object>"
      ]
     },
     "metadata": {},
     "output_type": "display_data"
    },
    {
     "data": {
      "text/html": [
       "\n",
       "    <style>\n",
       "        .wandb-row {\n",
       "            display: flex;\n",
       "            flex-direction: row;\n",
       "            flex-wrap: wrap;\n",
       "            justify-content: flex-start;\n",
       "            width: 100%;\n",
       "        }\n",
       "        .wandb-col {\n",
       "            display: flex;\n",
       "            flex-direction: column;\n",
       "            flex-basis: 100%;\n",
       "            flex: 1;\n",
       "            padding: 10px;\n",
       "        }\n",
       "    </style>\n",
       "<div class=\"wandb-row\"><div class=\"wandb-col\"><h3>Run history:</h3><br/><table class=\"wandb\"><tr><td>train_accuracy</td><td>▁</td></tr><tr><td>val_accuracy</td><td>▁</td></tr></table><br/></div><div class=\"wandb-col\"><h3>Run summary:</h3><br/><table class=\"wandb\"><tr><td>train_accuracy</td><td>0.82124</td></tr><tr><td>val_accuracy</td><td>0.76258</td></tr></table><br/></div></div>"
      ],
      "text/plain": [
       "<IPython.core.display.HTML object>"
      ]
     },
     "metadata": {},
     "output_type": "display_data"
    },
    {
     "data": {
      "text/html": [
       " View run <strong style=\"color:#cdcd00\">stilted-sweep-31</strong> at: <a href='https://wandb.ai/cr7_reunited-cr7/epfl_ml_project2/runs/nrrw7x1a' target=\"_blank\">https://wandb.ai/cr7_reunited-cr7/epfl_ml_project2/runs/nrrw7x1a</a><br/> View project at: <a href='https://wandb.ai/cr7_reunited-cr7/epfl_ml_project2' target=\"_blank\">https://wandb.ai/cr7_reunited-cr7/epfl_ml_project2</a><br/>Synced 5 W&B file(s), 0 media file(s), 0 artifact file(s) and 0 other file(s)"
      ],
      "text/plain": [
       "<IPython.core.display.HTML object>"
      ]
     },
     "metadata": {},
     "output_type": "display_data"
    },
    {
     "data": {
      "text/html": [
       "Find logs at: <code>./wandb/run-20241217_202325-nrrw7x1a/logs</code>"
      ],
      "text/plain": [
       "<IPython.core.display.HTML object>"
      ]
     },
     "metadata": {},
     "output_type": "display_data"
    },
    {
     "name": "stderr",
     "output_type": "stream",
     "text": [
      "\u001b[34m\u001b[1mwandb\u001b[0m: Agent Starting Run: ylu2p7jp with config:\n",
      "\u001b[34m\u001b[1mwandb\u001b[0m: \tdataset: tfidf\n",
      "\u001b[34m\u001b[1mwandb\u001b[0m: \tmodel: Complement NB\n",
      "\u001b[34m\u001b[1mwandb\u001b[0m: \tnum_features: 74552\n"
     ]
    },
    {
     "data": {
      "text/html": [
       "Tracking run with wandb version 0.19.0"
      ],
      "text/plain": [
       "<IPython.core.display.HTML object>"
      ]
     },
     "metadata": {},
     "output_type": "display_data"
    },
    {
     "data": {
      "text/html": [
       "Run data is saved locally in <code>/home/parkmyungheon/Desktop/Work/CS-433/ml-project-2-yhs2/Sean/wandb/run-20241217_202331-ylu2p7jp</code>"
      ],
      "text/plain": [
       "<IPython.core.display.HTML object>"
      ]
     },
     "metadata": {},
     "output_type": "display_data"
    },
    {
     "data": {
      "text/html": [
       "Syncing run <strong><a href='https://wandb.ai/cr7_reunited-cr7/epfl_ml_project2/runs/ylu2p7jp' target=\"_blank\">deep-sweep-32</a></strong> to <a href='https://wandb.ai/cr7_reunited-cr7/epfl_ml_project2' target=\"_blank\">Weights & Biases</a> (<a href='https://wandb.me/developer-guide' target=\"_blank\">docs</a>)<br/>Sweep page: <a href='https://wandb.ai/cr7_reunited-cr7/epfl_ml_project2/sweeps/tghwcg4n' target=\"_blank\">https://wandb.ai/cr7_reunited-cr7/epfl_ml_project2/sweeps/tghwcg4n</a>"
      ],
      "text/plain": [
       "<IPython.core.display.HTML object>"
      ]
     },
     "metadata": {},
     "output_type": "display_data"
    },
    {
     "data": {
      "text/html": [
       " View project at <a href='https://wandb.ai/cr7_reunited-cr7/epfl_ml_project2' target=\"_blank\">https://wandb.ai/cr7_reunited-cr7/epfl_ml_project2</a>"
      ],
      "text/plain": [
       "<IPython.core.display.HTML object>"
      ]
     },
     "metadata": {},
     "output_type": "display_data"
    },
    {
     "data": {
      "text/html": [
       " View sweep at <a href='https://wandb.ai/cr7_reunited-cr7/epfl_ml_project2/sweeps/tghwcg4n' target=\"_blank\">https://wandb.ai/cr7_reunited-cr7/epfl_ml_project2/sweeps/tghwcg4n</a>"
      ],
      "text/plain": [
       "<IPython.core.display.HTML object>"
      ]
     },
     "metadata": {},
     "output_type": "display_data"
    },
    {
     "data": {
      "text/html": [
       " View run at <a href='https://wandb.ai/cr7_reunited-cr7/epfl_ml_project2/runs/ylu2p7jp' target=\"_blank\">https://wandb.ai/cr7_reunited-cr7/epfl_ml_project2/runs/ylu2p7jp</a>"
      ],
      "text/plain": [
       "<IPython.core.display.HTML object>"
      ]
     },
     "metadata": {},
     "output_type": "display_data"
    },
    {
     "data": {
      "text/html": [
       "\n",
       "    <style>\n",
       "        .wandb-row {\n",
       "            display: flex;\n",
       "            flex-direction: row;\n",
       "            flex-wrap: wrap;\n",
       "            justify-content: flex-start;\n",
       "            width: 100%;\n",
       "        }\n",
       "        .wandb-col {\n",
       "            display: flex;\n",
       "            flex-direction: column;\n",
       "            flex-basis: 100%;\n",
       "            flex: 1;\n",
       "            padding: 10px;\n",
       "        }\n",
       "    </style>\n",
       "<div class=\"wandb-row\"><div class=\"wandb-col\"><h3>Run history:</h3><br/><table class=\"wandb\"><tr><td>train_accuracy</td><td>▁</td></tr><tr><td>val_accuracy</td><td>▁</td></tr></table><br/></div><div class=\"wandb-col\"><h3>Run summary:</h3><br/><table class=\"wandb\"><tr><td>train_accuracy</td><td>0.81737</td></tr><tr><td>val_accuracy</td><td>0.7603</td></tr></table><br/></div></div>"
      ],
      "text/plain": [
       "<IPython.core.display.HTML object>"
      ]
     },
     "metadata": {},
     "output_type": "display_data"
    },
    {
     "data": {
      "text/html": [
       " View run <strong style=\"color:#cdcd00\">deep-sweep-32</strong> at: <a href='https://wandb.ai/cr7_reunited-cr7/epfl_ml_project2/runs/ylu2p7jp' target=\"_blank\">https://wandb.ai/cr7_reunited-cr7/epfl_ml_project2/runs/ylu2p7jp</a><br/> View project at: <a href='https://wandb.ai/cr7_reunited-cr7/epfl_ml_project2' target=\"_blank\">https://wandb.ai/cr7_reunited-cr7/epfl_ml_project2</a><br/>Synced 5 W&B file(s), 0 media file(s), 0 artifact file(s) and 0 other file(s)"
      ],
      "text/plain": [
       "<IPython.core.display.HTML object>"
      ]
     },
     "metadata": {},
     "output_type": "display_data"
    },
    {
     "data": {
      "text/html": [
       "Find logs at: <code>./wandb/run-20241217_202331-ylu2p7jp/logs</code>"
      ],
      "text/plain": [
       "<IPython.core.display.HTML object>"
      ]
     },
     "metadata": {},
     "output_type": "display_data"
    },
    {
     "name": "stderr",
     "output_type": "stream",
     "text": [
      "\u001b[34m\u001b[1mwandb\u001b[0m: Sweep Agent: Waiting for job.\n",
      "\u001b[34m\u001b[1mwandb\u001b[0m: Sweep Agent: Exiting.\n"
     ]
    }
   ],
   "source": [
    "wandb.agent(sweep_id, train)"
   ]
  },
  {
   "cell_type": "code",
   "execution_count": 16,
   "metadata": {},
   "outputs": [],
   "source": [
    "def train_test(config):\n",
    "    \"\"\"\n",
    "    Boilerplate for training and testing optimal model.\n",
    "    Boilerplate for each model differes a little bit, hence need to be manually configured for each model.\n",
    "    Params:\n",
    "    config: a dictionary containing optimal hyperparameters\n",
    "    \"\"\"\n",
    "    X_train, X_val, X_test, y_train, y_val, y_test = helper.get_features(\n",
    "        *datasets[config['dataset']],\n",
    "        config['num_features'],\n",
    "        indices\n",
    "    )\n",
    "    clf = models[config['model']]()\n",
    "    clf.fit(X_train, y_train)\n",
    "    print(f'train accuracy: {accuracy_score(y_train, clf.predict(X_train))}')\n",
    "    print(f'val accuracy: {accuracy_score(y_val, clf.predict(X_val))}')\n",
    "    print(f'test accuracy: {accuracy_score(y_test, clf.predict(X_test))}')\n",
    "    print(f'test f1-score: {f1_score(y_test, clf.predict(X_test))}')"
   ]
  },
  {
   "cell_type": "code",
   "execution_count": 17,
   "metadata": {},
   "outputs": [
    {
     "name": "stdout",
     "output_type": "stream",
     "text": [
      "{'model': 'Complement NB', 'dataset': 'tfidf', 'num_features': 5000}\n",
      "train accuracy: 0.7874916666666667\n",
      "val accuracy: 0.76695\n",
      "test accuracy: 0.769725\n",
      "test f1-score: 0.7809668751337598\n"
     ]
    }
   ],
   "source": [
    "# Training and testing optimal Complement NB for TF-IDF dataset\n",
    "conditions = {\n",
    "    'dataset': 'tfidf',\n",
    "    'model': 'Complement NB'\n",
    "}\n",
    "\n",
    "best_params = helper.get_best_run_by_conditions(sweep_id, conditions)\n",
    "print(best_params)\n",
    "train_test(best_params)"
   ]
  },
  {
   "cell_type": "code",
   "execution_count": 18,
   "metadata": {},
   "outputs": [
    {
     "name": "stdout",
     "output_type": "stream",
     "text": [
      "{'dataset': 'tfidf', 'num_features': 5000, 'model': 'Multinomial NB'}\n",
      "train accuracy: 0.7874\n",
      "val accuracy: 0.766525\n",
      "test accuracy: 0.76915\n",
      "test f1-score: 0.7812470387567516\n"
     ]
    }
   ],
   "source": [
    "# Training and testing optimal Multinomial NB for TF-IDF dataset\n",
    "conditions = {\n",
    "    'dataset': 'tfidf',\n",
    "    'model': 'Multinomial NB'\n",
    "}\n",
    "\n",
    "best_params = helper.get_best_run_by_conditions(sweep_id, conditions)\n",
    "print(best_params)\n",
    "train_test(best_params)"
   ]
  },
  {
   "cell_type": "code",
   "execution_count": 19,
   "metadata": {},
   "outputs": [
    {
     "name": "stdout",
     "output_type": "stream",
     "text": [
      "{'dataset': 'bow', 'num_features': 5000, 'model': 'Complement NB'}\n",
      "train accuracy: 0.7566833333333334\n",
      "val accuracy: 0.74065\n",
      "test accuracy: 0.74075\n",
      "test f1-score: 0.7683406308640872\n"
     ]
    }
   ],
   "source": [
    "# Training and testing optimal Complement NB for BoW dataset\n",
    "conditions = {\n",
    "    'dataset': 'bow',\n",
    "    'model': 'Complement NB'\n",
    "}\n",
    "\n",
    "best_params = helper.get_best_run_by_conditions(sweep_id, conditions)\n",
    "print(best_params)\n",
    "train_test(best_params)"
   ]
  },
  {
   "cell_type": "code",
   "execution_count": 20,
   "metadata": {},
   "outputs": [
    {
     "name": "stdout",
     "output_type": "stream",
     "text": [
      "{'model': 'Multinomial NB', 'dataset': 'bow', 'num_features': 5000}\n",
      "train accuracy: 0.7565583333333333\n",
      "val accuracy: 0.74055\n",
      "test accuracy: 0.74085\n",
      "test f1-score: 0.7686367288634942\n"
     ]
    }
   ],
   "source": [
    "# Training and testing optimal Multinomial NB for BoW dataset\n",
    "conditions = {\n",
    "    'dataset': 'bow',\n",
    "    'model': 'Multinomial NB'\n",
    "}\n",
    "\n",
    "best_params = helper.get_best_run_by_conditions(sweep_id, conditions)\n",
    "print(best_params)\n",
    "train_test(best_params)"
   ]
  }
 ],
 "metadata": {
  "kernelspec": {
   "display_name": "Python 3 (ipykernel)",
   "language": "python",
   "name": "python3"
  },
  "language_info": {
   "codemirror_mode": {
    "name": "ipython",
    "version": 3
   },
   "file_extension": ".py",
   "mimetype": "text/x-python",
   "name": "python",
   "nbconvert_exporter": "python",
   "pygments_lexer": "ipython3",
   "version": "3.11.10"
  }
 },
 "nbformat": 4,
 "nbformat_minor": 4
}
