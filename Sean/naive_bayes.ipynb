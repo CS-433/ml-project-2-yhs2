{
 "cells": [
  {
   "cell_type": "code",
   "execution_count": 1,
   "metadata": {},
   "outputs": [],
   "source": [
    "import pandas as pd\n",
    "import wandb\n",
    "import pprint\n",
    "from sklearn.feature_extraction.text import CountVectorizer\n",
    "from sklearn.feature_extraction.text import TfidfVectorizer\n",
    "from sklearn.naive_bayes import MultinomialNB\n",
    "from sklearn.naive_bayes import ComplementNB\n",
    "from sklearn.metrics import accuracy_score"
   ]
  },
  {
   "cell_type": "code",
   "execution_count": 2,
   "metadata": {},
   "outputs": [
    {
     "name": "stderr",
     "output_type": "stream",
     "text": [
      "\u001b[34m\u001b[1mwandb\u001b[0m: Using wandb-core as the SDK backend.  Please refer to https://wandb.me/wandb-core for more information.\n",
      "\u001b[34m\u001b[1mwandb\u001b[0m: Currently logged in as: \u001b[33mcr7_reunited\u001b[0m (\u001b[33mcr7_reunited-cr7\u001b[0m). Use \u001b[1m`wandb login --relogin`\u001b[0m to force relogin\n"
     ]
    },
    {
     "data": {
      "text/html": [
       "Tracking run with wandb version 0.19.0"
      ],
      "text/plain": [
       "<IPython.core.display.HTML object>"
      ]
     },
     "metadata": {},
     "output_type": "display_data"
    },
    {
     "data": {
      "text/html": [
       "Run data is saved locally in <code>/home/parkmyungheon/Desktop/Work/CS-433/ml-project-2-yhs2/Sean/wandb/run-20241214_083847-x72mkhic</code>"
      ],
      "text/plain": [
       "<IPython.core.display.HTML object>"
      ]
     },
     "metadata": {},
     "output_type": "display_data"
    },
    {
     "data": {
      "text/html": [
       "Syncing run <strong><a href='https://wandb.ai/cr7_reunited-cr7/epfl_ml_project2/runs/x72mkhic' target=\"_blank\">load_tweet_dataset_1</a></strong> to <a href='https://wandb.ai/cr7_reunited-cr7/epfl_ml_project2' target=\"_blank\">Weights & Biases</a> (<a href='https://wandb.me/developer-guide' target=\"_blank\">docs</a>)<br/>"
      ],
      "text/plain": [
       "<IPython.core.display.HTML object>"
      ]
     },
     "metadata": {},
     "output_type": "display_data"
    },
    {
     "data": {
      "text/html": [
       " View project at <a href='https://wandb.ai/cr7_reunited-cr7/epfl_ml_project2' target=\"_blank\">https://wandb.ai/cr7_reunited-cr7/epfl_ml_project2</a>"
      ],
      "text/plain": [
       "<IPython.core.display.HTML object>"
      ]
     },
     "metadata": {},
     "output_type": "display_data"
    },
    {
     "data": {
      "text/html": [
       " View run at <a href='https://wandb.ai/cr7_reunited-cr7/epfl_ml_project2/runs/x72mkhic' target=\"_blank\">https://wandb.ai/cr7_reunited-cr7/epfl_ml_project2/runs/x72mkhic</a>"
      ],
      "text/plain": [
       "<IPython.core.display.HTML object>"
      ]
     },
     "metadata": {},
     "output_type": "display_data"
    },
    {
     "name": "stderr",
     "output_type": "stream",
     "text": [
      "\u001b[34m\u001b[1mwandb\u001b[0m:   3 of 3 files downloaded.  \n"
     ]
    },
    {
     "data": {
      "text/html": [
       " View run <strong style=\"color:#cdcd00\">load_tweet_dataset_1</strong> at: <a href='https://wandb.ai/cr7_reunited-cr7/epfl_ml_project2/runs/x72mkhic' target=\"_blank\">https://wandb.ai/cr7_reunited-cr7/epfl_ml_project2/runs/x72mkhic</a><br/> View project at: <a href='https://wandb.ai/cr7_reunited-cr7/epfl_ml_project2' target=\"_blank\">https://wandb.ai/cr7_reunited-cr7/epfl_ml_project2</a><br/>Synced 5 W&B file(s), 0 media file(s), 0 artifact file(s) and 0 other file(s)"
      ],
      "text/plain": [
       "<IPython.core.display.HTML object>"
      ]
     },
     "metadata": {},
     "output_type": "display_data"
    },
    {
     "data": {
      "text/html": [
       "Find logs at: <code>./wandb/run-20241214_083847-x72mkhic/logs</code>"
      ],
      "text/plain": [
       "<IPython.core.display.HTML object>"
      ]
     },
     "metadata": {},
     "output_type": "display_data"
    }
   ],
   "source": [
    "wandb.init(name='load_tweet_dataset_1',\n",
    "                 project='epfl_ml_project2', \n",
    "                 tags=['load_dataset'],\n",
    "                 job_type='for_testing')\n",
    "artifact = wandb.use_artifact('hsunyu/epfl_ml_project2/twitter_dataset_1:v0')\n",
    "artifact_dir = artifact.download()\n",
    "wandb.finish()"
   ]
  },
  {
   "cell_type": "code",
   "execution_count": 3,
   "metadata": {},
   "outputs": [
    {
     "data": {
      "text/plain": [
       "True"
      ]
     },
     "execution_count": 3,
     "metadata": {},
     "output_type": "execute_result"
    }
   ],
   "source": [
    "wandb.login()"
   ]
  },
  {
   "cell_type": "code",
   "execution_count": 4,
   "metadata": {},
   "outputs": [],
   "source": [
    "# load it into a pandas dataframe\n",
    "train_df = pd.read_json(artifact_dir + '/train.json', lines=True)\n",
    "val_df = pd.read_json(artifact_dir + '/val.json', lines=True)\n",
    "test_df = pd.read_json(artifact_dir + '/test.json', lines=True)"
   ]
  },
  {
   "cell_type": "code",
   "execution_count": 5,
   "metadata": {},
   "outputs": [],
   "source": [
    "sweep_config = {\n",
    "    'method': 'grid'\n",
    "}\n",
    "\n",
    "metric = {\n",
    "    'name': 'val_accuracy',\n",
    "    'goal': 'maximize'\n",
    "}\n",
    "\n",
    "parameters_dict = {\n",
    "    'dataset': {\n",
    "        'values': ['bow', 'tfidf']\n",
    "    },\n",
    "    'model': {\n",
    "        'values': ['Multinomial NB', 'Complement NB']\n",
    "    }\n",
    "}\n",
    "\n",
    "sweep_config['metric'] = metric\n",
    "sweep_config['parameters'] = parameters_dict\n",
    "\n",
    "models = {\n",
    "    'Multinomial NB': MultinomialNB,\n",
    "    'Complement NB': ComplementNB\n",
    "}"
   ]
  },
  {
   "cell_type": "code",
   "execution_count": 6,
   "metadata": {},
   "outputs": [
    {
     "name": "stdout",
     "output_type": "stream",
     "text": [
      "{'method': 'grid',\n",
      " 'metric': {'goal': 'maximize', 'name': 'val_accuracy'},\n",
      " 'parameters': {'dataset': {'values': ['bow', 'tfidf']},\n",
      "                'model': {'values': ['Multinomial NB', 'Complement NB']}}}\n"
     ]
    }
   ],
   "source": [
    "pprint.pprint(sweep_config)"
   ]
  },
  {
   "cell_type": "code",
   "execution_count": 7,
   "metadata": {},
   "outputs": [
    {
     "name": "stdout",
     "output_type": "stream",
     "text": [
      "Create sweep with ID: x22u24sn\n",
      "Sweep URL: https://wandb.ai/cr7_reunited-cr7/epfl_ml_project2/sweeps/x22u24sn\n"
     ]
    }
   ],
   "source": [
    "sweep_id = wandb.sweep(sweep_config, project='epfl_ml_project2')"
   ]
  },
  {
   "cell_type": "code",
   "execution_count": 8,
   "metadata": {},
   "outputs": [],
   "source": [
    "bow = CountVectorizer()\n",
    "tfidf = TfidfVectorizer()"
   ]
  },
  {
   "cell_type": "code",
   "execution_count": 9,
   "metadata": {},
   "outputs": [],
   "source": [
    "train_sentences = train_df['sentence1'].tolist()\n",
    "val_sentences = val_df['sentence1'].tolist()\n",
    "test_sentences = test_df['sentence1'].tolist()"
   ]
  },
  {
   "cell_type": "code",
   "execution_count": 10,
   "metadata": {},
   "outputs": [],
   "source": [
    "y_train = train_df['label'].values\n",
    "y_val = val_df['label'].values\n",
    "y_test = test_df['label'].values"
   ]
  },
  {
   "cell_type": "code",
   "execution_count": 11,
   "metadata": {},
   "outputs": [],
   "source": [
    "X_train_bow = bow.fit_transform(train_sentences)\n",
    "X_val_bow = bow.transform(val_sentences)\n",
    "X_test_bow = bow.transform(test_sentences)"
   ]
  },
  {
   "cell_type": "code",
   "execution_count": 12,
   "metadata": {},
   "outputs": [],
   "source": [
    "X_train_tfidf = tfidf.fit_transform(train_sentences)\n",
    "X_val_tfidf = tfidf.transform(val_sentences)\n",
    "X_test_tfidf = tfidf.transform(test_sentences)"
   ]
  },
  {
   "cell_type": "code",
   "execution_count": 13,
   "metadata": {},
   "outputs": [],
   "source": [
    "def return_dataset(dataset):\n",
    "    if dataset == 'bow':\n",
    "        return X_train_bow, X_val_bow, X_test_bow, y_train, y_val, y_test\n",
    "    return X_train_tfidf, X_val_tfidf, X_test_tfidf, y_train, y_val, y_test"
   ]
  },
  {
   "cell_type": "code",
   "execution_count": 14,
   "metadata": {},
   "outputs": [],
   "source": [
    "def train(config=None):\n",
    "    with wandb.init(config=config):\n",
    "        config = wandb.config\n",
    "        X_train, X_val, _, y_train, y_val, _ = return_dataset(config.dataset)\n",
    "        clf = models[config.model]()\n",
    "        clf.fit(X_train, y_train)\n",
    "        wandb.log({'train_accuracy': accuracy_score(y_train, clf.predict(X_train)), 'val_accuracy': accuracy_score(y_val, clf.predict(X_val))})"
   ]
  },
  {
   "cell_type": "code",
   "execution_count": 15,
   "metadata": {},
   "outputs": [
    {
     "name": "stderr",
     "output_type": "stream",
     "text": [
      "\u001b[34m\u001b[1mwandb\u001b[0m: Agent Starting Run: 6v5liqcu with config:\n",
      "\u001b[34m\u001b[1mwandb\u001b[0m: \tdataset: bow\n",
      "\u001b[34m\u001b[1mwandb\u001b[0m: \tmodel: Multinomial NB\n"
     ]
    },
    {
     "data": {
      "text/html": [
       "Tracking run with wandb version 0.19.0"
      ],
      "text/plain": [
       "<IPython.core.display.HTML object>"
      ]
     },
     "metadata": {},
     "output_type": "display_data"
    },
    {
     "data": {
      "text/html": [
       "Run data is saved locally in <code>/home/parkmyungheon/Desktop/Work/CS-433/ml-project-2-yhs2/Sean/wandb/run-20241214_083855-6v5liqcu</code>"
      ],
      "text/plain": [
       "<IPython.core.display.HTML object>"
      ]
     },
     "metadata": {},
     "output_type": "display_data"
    },
    {
     "data": {
      "text/html": [
       "Syncing run <strong><a href='https://wandb.ai/cr7_reunited-cr7/epfl_ml_project2/runs/6v5liqcu' target=\"_blank\">absurd-sweep-1</a></strong> to <a href='https://wandb.ai/cr7_reunited-cr7/epfl_ml_project2' target=\"_blank\">Weights & Biases</a> (<a href='https://wandb.me/developer-guide' target=\"_blank\">docs</a>)<br/>Sweep page: <a href='https://wandb.ai/cr7_reunited-cr7/epfl_ml_project2/sweeps/x22u24sn' target=\"_blank\">https://wandb.ai/cr7_reunited-cr7/epfl_ml_project2/sweeps/x22u24sn</a>"
      ],
      "text/plain": [
       "<IPython.core.display.HTML object>"
      ]
     },
     "metadata": {},
     "output_type": "display_data"
    },
    {
     "data": {
      "text/html": [
       " View project at <a href='https://wandb.ai/cr7_reunited-cr7/epfl_ml_project2' target=\"_blank\">https://wandb.ai/cr7_reunited-cr7/epfl_ml_project2</a>"
      ],
      "text/plain": [
       "<IPython.core.display.HTML object>"
      ]
     },
     "metadata": {},
     "output_type": "display_data"
    },
    {
     "data": {
      "text/html": [
       " View sweep at <a href='https://wandb.ai/cr7_reunited-cr7/epfl_ml_project2/sweeps/x22u24sn' target=\"_blank\">https://wandb.ai/cr7_reunited-cr7/epfl_ml_project2/sweeps/x22u24sn</a>"
      ],
      "text/plain": [
       "<IPython.core.display.HTML object>"
      ]
     },
     "metadata": {},
     "output_type": "display_data"
    },
    {
     "data": {
      "text/html": [
       " View run at <a href='https://wandb.ai/cr7_reunited-cr7/epfl_ml_project2/runs/6v5liqcu' target=\"_blank\">https://wandb.ai/cr7_reunited-cr7/epfl_ml_project2/runs/6v5liqcu</a>"
      ],
      "text/plain": [
       "<IPython.core.display.HTML object>"
      ]
     },
     "metadata": {},
     "output_type": "display_data"
    },
    {
     "data": {
      "text/html": [
       "\n",
       "    <style>\n",
       "        .wandb-row {\n",
       "            display: flex;\n",
       "            flex-direction: row;\n",
       "            flex-wrap: wrap;\n",
       "            justify-content: flex-start;\n",
       "            width: 100%;\n",
       "        }\n",
       "        .wandb-col {\n",
       "            display: flex;\n",
       "            flex-direction: column;\n",
       "            flex-basis: 100%;\n",
       "            flex: 1;\n",
       "            padding: 10px;\n",
       "        }\n",
       "    </style>\n",
       "<div class=\"wandb-row\"><div class=\"wandb-col\"><h3>Run history:</h3><br/><table class=\"wandb\"><tr><td>train_accuracy</td><td>▁</td></tr><tr><td>val_accuracy</td><td>▁</td></tr></table><br/></div><div class=\"wandb-col\"><h3>Run summary:</h3><br/><table class=\"wandb\"><tr><td>train_accuracy</td><td>0.77197</td></tr><tr><td>val_accuracy</td><td>0.72942</td></tr></table><br/></div></div>"
      ],
      "text/plain": [
       "<IPython.core.display.HTML object>"
      ]
     },
     "metadata": {},
     "output_type": "display_data"
    },
    {
     "data": {
      "text/html": [
       " View run <strong style=\"color:#cdcd00\">absurd-sweep-1</strong> at: <a href='https://wandb.ai/cr7_reunited-cr7/epfl_ml_project2/runs/6v5liqcu' target=\"_blank\">https://wandb.ai/cr7_reunited-cr7/epfl_ml_project2/runs/6v5liqcu</a><br/> View project at: <a href='https://wandb.ai/cr7_reunited-cr7/epfl_ml_project2' target=\"_blank\">https://wandb.ai/cr7_reunited-cr7/epfl_ml_project2</a><br/>Synced 5 W&B file(s), 0 media file(s), 0 artifact file(s) and 0 other file(s)"
      ],
      "text/plain": [
       "<IPython.core.display.HTML object>"
      ]
     },
     "metadata": {},
     "output_type": "display_data"
    },
    {
     "data": {
      "text/html": [
       "Find logs at: <code>./wandb/run-20241214_083855-6v5liqcu/logs</code>"
      ],
      "text/plain": [
       "<IPython.core.display.HTML object>"
      ]
     },
     "metadata": {},
     "output_type": "display_data"
    },
    {
     "name": "stderr",
     "output_type": "stream",
     "text": [
      "\u001b[34m\u001b[1mwandb\u001b[0m: Agent Starting Run: iez9dg0b with config:\n",
      "\u001b[34m\u001b[1mwandb\u001b[0m: \tdataset: bow\n",
      "\u001b[34m\u001b[1mwandb\u001b[0m: \tmodel: Complement NB\n"
     ]
    },
    {
     "data": {
      "text/html": [
       "Tracking run with wandb version 0.19.0"
      ],
      "text/plain": [
       "<IPython.core.display.HTML object>"
      ]
     },
     "metadata": {},
     "output_type": "display_data"
    },
    {
     "data": {
      "text/html": [
       "Run data is saved locally in <code>/home/parkmyungheon/Desktop/Work/CS-433/ml-project-2-yhs2/Sean/wandb/run-20241214_083900-iez9dg0b</code>"
      ],
      "text/plain": [
       "<IPython.core.display.HTML object>"
      ]
     },
     "metadata": {},
     "output_type": "display_data"
    },
    {
     "data": {
      "text/html": [
       "Syncing run <strong><a href='https://wandb.ai/cr7_reunited-cr7/epfl_ml_project2/runs/iez9dg0b' target=\"_blank\">silver-sweep-2</a></strong> to <a href='https://wandb.ai/cr7_reunited-cr7/epfl_ml_project2' target=\"_blank\">Weights & Biases</a> (<a href='https://wandb.me/developer-guide' target=\"_blank\">docs</a>)<br/>Sweep page: <a href='https://wandb.ai/cr7_reunited-cr7/epfl_ml_project2/sweeps/x22u24sn' target=\"_blank\">https://wandb.ai/cr7_reunited-cr7/epfl_ml_project2/sweeps/x22u24sn</a>"
      ],
      "text/plain": [
       "<IPython.core.display.HTML object>"
      ]
     },
     "metadata": {},
     "output_type": "display_data"
    },
    {
     "data": {
      "text/html": [
       " View project at <a href='https://wandb.ai/cr7_reunited-cr7/epfl_ml_project2' target=\"_blank\">https://wandb.ai/cr7_reunited-cr7/epfl_ml_project2</a>"
      ],
      "text/plain": [
       "<IPython.core.display.HTML object>"
      ]
     },
     "metadata": {},
     "output_type": "display_data"
    },
    {
     "data": {
      "text/html": [
       " View sweep at <a href='https://wandb.ai/cr7_reunited-cr7/epfl_ml_project2/sweeps/x22u24sn' target=\"_blank\">https://wandb.ai/cr7_reunited-cr7/epfl_ml_project2/sweeps/x22u24sn</a>"
      ],
      "text/plain": [
       "<IPython.core.display.HTML object>"
      ]
     },
     "metadata": {},
     "output_type": "display_data"
    },
    {
     "data": {
      "text/html": [
       " View run at <a href='https://wandb.ai/cr7_reunited-cr7/epfl_ml_project2/runs/iez9dg0b' target=\"_blank\">https://wandb.ai/cr7_reunited-cr7/epfl_ml_project2/runs/iez9dg0b</a>"
      ],
      "text/plain": [
       "<IPython.core.display.HTML object>"
      ]
     },
     "metadata": {},
     "output_type": "display_data"
    },
    {
     "data": {
      "text/html": [
       "\n",
       "    <style>\n",
       "        .wandb-row {\n",
       "            display: flex;\n",
       "            flex-direction: row;\n",
       "            flex-wrap: wrap;\n",
       "            justify-content: flex-start;\n",
       "            width: 100%;\n",
       "        }\n",
       "        .wandb-col {\n",
       "            display: flex;\n",
       "            flex-direction: column;\n",
       "            flex-basis: 100%;\n",
       "            flex: 1;\n",
       "            padding: 10px;\n",
       "        }\n",
       "    </style>\n",
       "<div class=\"wandb-row\"><div class=\"wandb-col\"><h3>Run history:</h3><br/><table class=\"wandb\"><tr><td>train_accuracy</td><td>▁</td></tr><tr><td>val_accuracy</td><td>▁</td></tr></table><br/></div><div class=\"wandb-col\"><h3>Run summary:</h3><br/><table class=\"wandb\"><tr><td>train_accuracy</td><td>0.7722</td></tr><tr><td>val_accuracy</td><td>0.72952</td></tr></table><br/></div></div>"
      ],
      "text/plain": [
       "<IPython.core.display.HTML object>"
      ]
     },
     "metadata": {},
     "output_type": "display_data"
    },
    {
     "data": {
      "text/html": [
       " View run <strong style=\"color:#cdcd00\">silver-sweep-2</strong> at: <a href='https://wandb.ai/cr7_reunited-cr7/epfl_ml_project2/runs/iez9dg0b' target=\"_blank\">https://wandb.ai/cr7_reunited-cr7/epfl_ml_project2/runs/iez9dg0b</a><br/> View project at: <a href='https://wandb.ai/cr7_reunited-cr7/epfl_ml_project2' target=\"_blank\">https://wandb.ai/cr7_reunited-cr7/epfl_ml_project2</a><br/>Synced 5 W&B file(s), 0 media file(s), 0 artifact file(s) and 0 other file(s)"
      ],
      "text/plain": [
       "<IPython.core.display.HTML object>"
      ]
     },
     "metadata": {},
     "output_type": "display_data"
    },
    {
     "data": {
      "text/html": [
       "Find logs at: <code>./wandb/run-20241214_083900-iez9dg0b/logs</code>"
      ],
      "text/plain": [
       "<IPython.core.display.HTML object>"
      ]
     },
     "metadata": {},
     "output_type": "display_data"
    },
    {
     "name": "stderr",
     "output_type": "stream",
     "text": [
      "\u001b[34m\u001b[1mwandb\u001b[0m: Agent Starting Run: jiqr3iir with config:\n",
      "\u001b[34m\u001b[1mwandb\u001b[0m: \tdataset: tfidf\n",
      "\u001b[34m\u001b[1mwandb\u001b[0m: \tmodel: Multinomial NB\n"
     ]
    },
    {
     "data": {
      "text/html": [
       "Tracking run with wandb version 0.19.0"
      ],
      "text/plain": [
       "<IPython.core.display.HTML object>"
      ]
     },
     "metadata": {},
     "output_type": "display_data"
    },
    {
     "data": {
      "text/html": [
       "Run data is saved locally in <code>/home/parkmyungheon/Desktop/Work/CS-433/ml-project-2-yhs2/Sean/wandb/run-20241214_083906-jiqr3iir</code>"
      ],
      "text/plain": [
       "<IPython.core.display.HTML object>"
      ]
     },
     "metadata": {},
     "output_type": "display_data"
    },
    {
     "data": {
      "text/html": [
       "Syncing run <strong><a href='https://wandb.ai/cr7_reunited-cr7/epfl_ml_project2/runs/jiqr3iir' target=\"_blank\">logical-sweep-3</a></strong> to <a href='https://wandb.ai/cr7_reunited-cr7/epfl_ml_project2' target=\"_blank\">Weights & Biases</a> (<a href='https://wandb.me/developer-guide' target=\"_blank\">docs</a>)<br/>Sweep page: <a href='https://wandb.ai/cr7_reunited-cr7/epfl_ml_project2/sweeps/x22u24sn' target=\"_blank\">https://wandb.ai/cr7_reunited-cr7/epfl_ml_project2/sweeps/x22u24sn</a>"
      ],
      "text/plain": [
       "<IPython.core.display.HTML object>"
      ]
     },
     "metadata": {},
     "output_type": "display_data"
    },
    {
     "data": {
      "text/html": [
       " View project at <a href='https://wandb.ai/cr7_reunited-cr7/epfl_ml_project2' target=\"_blank\">https://wandb.ai/cr7_reunited-cr7/epfl_ml_project2</a>"
      ],
      "text/plain": [
       "<IPython.core.display.HTML object>"
      ]
     },
     "metadata": {},
     "output_type": "display_data"
    },
    {
     "data": {
      "text/html": [
       " View sweep at <a href='https://wandb.ai/cr7_reunited-cr7/epfl_ml_project2/sweeps/x22u24sn' target=\"_blank\">https://wandb.ai/cr7_reunited-cr7/epfl_ml_project2/sweeps/x22u24sn</a>"
      ],
      "text/plain": [
       "<IPython.core.display.HTML object>"
      ]
     },
     "metadata": {},
     "output_type": "display_data"
    },
    {
     "data": {
      "text/html": [
       " View run at <a href='https://wandb.ai/cr7_reunited-cr7/epfl_ml_project2/runs/jiqr3iir' target=\"_blank\">https://wandb.ai/cr7_reunited-cr7/epfl_ml_project2/runs/jiqr3iir</a>"
      ],
      "text/plain": [
       "<IPython.core.display.HTML object>"
      ]
     },
     "metadata": {},
     "output_type": "display_data"
    },
    {
     "data": {
      "text/html": [
       "\n",
       "    <style>\n",
       "        .wandb-row {\n",
       "            display: flex;\n",
       "            flex-direction: row;\n",
       "            flex-wrap: wrap;\n",
       "            justify-content: flex-start;\n",
       "            width: 100%;\n",
       "        }\n",
       "        .wandb-col {\n",
       "            display: flex;\n",
       "            flex-direction: column;\n",
       "            flex-basis: 100%;\n",
       "            flex: 1;\n",
       "            padding: 10px;\n",
       "        }\n",
       "    </style>\n",
       "<div class=\"wandb-row\"><div class=\"wandb-col\"><h3>Run history:</h3><br/><table class=\"wandb\"><tr><td>train_accuracy</td><td>▁</td></tr><tr><td>val_accuracy</td><td>▁</td></tr></table><br/></div><div class=\"wandb-col\"><h3>Run summary:</h3><br/><table class=\"wandb\"><tr><td>train_accuracy</td><td>0.81671</td></tr><tr><td>val_accuracy</td><td>0.75958</td></tr></table><br/></div></div>"
      ],
      "text/plain": [
       "<IPython.core.display.HTML object>"
      ]
     },
     "metadata": {},
     "output_type": "display_data"
    },
    {
     "data": {
      "text/html": [
       " View run <strong style=\"color:#cdcd00\">logical-sweep-3</strong> at: <a href='https://wandb.ai/cr7_reunited-cr7/epfl_ml_project2/runs/jiqr3iir' target=\"_blank\">https://wandb.ai/cr7_reunited-cr7/epfl_ml_project2/runs/jiqr3iir</a><br/> View project at: <a href='https://wandb.ai/cr7_reunited-cr7/epfl_ml_project2' target=\"_blank\">https://wandb.ai/cr7_reunited-cr7/epfl_ml_project2</a><br/>Synced 5 W&B file(s), 0 media file(s), 0 artifact file(s) and 0 other file(s)"
      ],
      "text/plain": [
       "<IPython.core.display.HTML object>"
      ]
     },
     "metadata": {},
     "output_type": "display_data"
    },
    {
     "data": {
      "text/html": [
       "Find logs at: <code>./wandb/run-20241214_083906-jiqr3iir/logs</code>"
      ],
      "text/plain": [
       "<IPython.core.display.HTML object>"
      ]
     },
     "metadata": {},
     "output_type": "display_data"
    },
    {
     "name": "stderr",
     "output_type": "stream",
     "text": [
      "\u001b[34m\u001b[1mwandb\u001b[0m: Agent Starting Run: m9tiquc3 with config:\n",
      "\u001b[34m\u001b[1mwandb\u001b[0m: \tdataset: tfidf\n",
      "\u001b[34m\u001b[1mwandb\u001b[0m: \tmodel: Complement NB\n"
     ]
    },
    {
     "data": {
      "text/html": [
       "Tracking run with wandb version 0.19.0"
      ],
      "text/plain": [
       "<IPython.core.display.HTML object>"
      ]
     },
     "metadata": {},
     "output_type": "display_data"
    },
    {
     "data": {
      "text/html": [
       "Run data is saved locally in <code>/home/parkmyungheon/Desktop/Work/CS-433/ml-project-2-yhs2/Sean/wandb/run-20241214_083911-m9tiquc3</code>"
      ],
      "text/plain": [
       "<IPython.core.display.HTML object>"
      ]
     },
     "metadata": {},
     "output_type": "display_data"
    },
    {
     "data": {
      "text/html": [
       "Syncing run <strong><a href='https://wandb.ai/cr7_reunited-cr7/epfl_ml_project2/runs/m9tiquc3' target=\"_blank\">quiet-sweep-4</a></strong> to <a href='https://wandb.ai/cr7_reunited-cr7/epfl_ml_project2' target=\"_blank\">Weights & Biases</a> (<a href='https://wandb.me/developer-guide' target=\"_blank\">docs</a>)<br/>Sweep page: <a href='https://wandb.ai/cr7_reunited-cr7/epfl_ml_project2/sweeps/x22u24sn' target=\"_blank\">https://wandb.ai/cr7_reunited-cr7/epfl_ml_project2/sweeps/x22u24sn</a>"
      ],
      "text/plain": [
       "<IPython.core.display.HTML object>"
      ]
     },
     "metadata": {},
     "output_type": "display_data"
    },
    {
     "data": {
      "text/html": [
       " View project at <a href='https://wandb.ai/cr7_reunited-cr7/epfl_ml_project2' target=\"_blank\">https://wandb.ai/cr7_reunited-cr7/epfl_ml_project2</a>"
      ],
      "text/plain": [
       "<IPython.core.display.HTML object>"
      ]
     },
     "metadata": {},
     "output_type": "display_data"
    },
    {
     "data": {
      "text/html": [
       " View sweep at <a href='https://wandb.ai/cr7_reunited-cr7/epfl_ml_project2/sweeps/x22u24sn' target=\"_blank\">https://wandb.ai/cr7_reunited-cr7/epfl_ml_project2/sweeps/x22u24sn</a>"
      ],
      "text/plain": [
       "<IPython.core.display.HTML object>"
      ]
     },
     "metadata": {},
     "output_type": "display_data"
    },
    {
     "data": {
      "text/html": [
       " View run at <a href='https://wandb.ai/cr7_reunited-cr7/epfl_ml_project2/runs/m9tiquc3' target=\"_blank\">https://wandb.ai/cr7_reunited-cr7/epfl_ml_project2/runs/m9tiquc3</a>"
      ],
      "text/plain": [
       "<IPython.core.display.HTML object>"
      ]
     },
     "metadata": {},
     "output_type": "display_data"
    },
    {
     "data": {
      "text/html": [
       "\n",
       "    <style>\n",
       "        .wandb-row {\n",
       "            display: flex;\n",
       "            flex-direction: row;\n",
       "            flex-wrap: wrap;\n",
       "            justify-content: flex-start;\n",
       "            width: 100%;\n",
       "        }\n",
       "        .wandb-col {\n",
       "            display: flex;\n",
       "            flex-direction: column;\n",
       "            flex-basis: 100%;\n",
       "            flex: 1;\n",
       "            padding: 10px;\n",
       "        }\n",
       "    </style>\n",
       "<div class=\"wandb-row\"><div class=\"wandb-col\"><h3>Run history:</h3><br/><table class=\"wandb\"><tr><td>train_accuracy</td><td>▁</td></tr><tr><td>val_accuracy</td><td>▁</td></tr></table><br/></div><div class=\"wandb-col\"><h3>Run summary:</h3><br/><table class=\"wandb\"><tr><td>train_accuracy</td><td>0.81737</td></tr><tr><td>val_accuracy</td><td>0.7603</td></tr></table><br/></div></div>"
      ],
      "text/plain": [
       "<IPython.core.display.HTML object>"
      ]
     },
     "metadata": {},
     "output_type": "display_data"
    },
    {
     "data": {
      "text/html": [
       " View run <strong style=\"color:#cdcd00\">quiet-sweep-4</strong> at: <a href='https://wandb.ai/cr7_reunited-cr7/epfl_ml_project2/runs/m9tiquc3' target=\"_blank\">https://wandb.ai/cr7_reunited-cr7/epfl_ml_project2/runs/m9tiquc3</a><br/> View project at: <a href='https://wandb.ai/cr7_reunited-cr7/epfl_ml_project2' target=\"_blank\">https://wandb.ai/cr7_reunited-cr7/epfl_ml_project2</a><br/>Synced 5 W&B file(s), 0 media file(s), 0 artifact file(s) and 0 other file(s)"
      ],
      "text/plain": [
       "<IPython.core.display.HTML object>"
      ]
     },
     "metadata": {},
     "output_type": "display_data"
    },
    {
     "data": {
      "text/html": [
       "Find logs at: <code>./wandb/run-20241214_083911-m9tiquc3/logs</code>"
      ],
      "text/plain": [
       "<IPython.core.display.HTML object>"
      ]
     },
     "metadata": {},
     "output_type": "display_data"
    },
    {
     "name": "stderr",
     "output_type": "stream",
     "text": [
      "\u001b[34m\u001b[1mwandb\u001b[0m: Sweep Agent: Waiting for job.\n",
      "\u001b[34m\u001b[1mwandb\u001b[0m: Sweep Agent: Exiting.\n"
     ]
    }
   ],
   "source": [
    "wandb.agent(sweep_id, train)"
   ]
  },
  {
   "cell_type": "code",
   "execution_count": 16,
   "metadata": {},
   "outputs": [
    {
     "name": "stderr",
     "output_type": "stream",
     "text": [
      "\u001b[34m\u001b[1mwandb\u001b[0m: Sorting runs by -summary_metrics.val_accuracy\n"
     ]
    },
    {
     "name": "stdout",
     "output_type": "stream",
     "text": [
      "{'dataset': 'tfidf', 'model': 'Complement NB'}\n"
     ]
    }
   ],
   "source": [
    "api = wandb.Api()\n",
    "sweep = api.sweep(f'cr7_reunited-cr7/epfl_ml_project2/sweeps/{sweep_id}')\n",
    "\n",
    "# Get best run parameters\n",
    "best_run = sweep.best_run(order='val_accuracy')\n",
    "best_parameters = best_run.config\n",
    "print(best_parameters)"
   ]
  }
 ],
 "metadata": {
  "kernelspec": {
   "display_name": "Python 3 (ipykernel)",
   "language": "python",
   "name": "python3"
  },
  "language_info": {
   "codemirror_mode": {
    "name": "ipython",
    "version": 3
   },
   "file_extension": ".py",
   "mimetype": "text/x-python",
   "name": "python",
   "nbconvert_exporter": "python",
   "pygments_lexer": "ipython3",
   "version": "3.11.10"
  }
 },
 "nbformat": 4,
 "nbformat_minor": 4
}
